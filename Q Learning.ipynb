{
 "cells": [
  {
   "cell_type": "code",
   "execution_count": 25,
   "metadata": {},
   "outputs": [],
   "source": [
    "import numpy as np\n",
    "import pandas as pd\n",
    "from time import time,sleep\n",
    "from random import randint as r\n",
    "import random\n",
    "import matplotlib.pyplot as plt\n",
    "import seaborn as sns\n",
    "import time"
   ]
  },
  {
   "cell_type": "code",
   "execution_count": 26,
   "metadata": {},
   "outputs": [],
   "source": [
    "# reward = pd.read_csv('maze.csv')\n",
    "# reward_array = np.array(reward)\n",
    "reward = pd.read_excel('maze_reward_table.xlsx', sheet_name=\"Sheet2\", header=None)\n",
    "# reward.columns = [1,2,3,4,5,6,7,8,9,10,11,12,13,14,15]\n",
    "# reward.index = [1,2,3,4,5,6,7,8,9,10]\n",
    "reward = np.array(reward)\n",
    "# terminals = [16,28,31,43,46,58,73,75,76,77,78,79,80,81,82,88,96,103,111,129,130,131,132,133,134]\n",
    "terminals = [17,28,32,43,47,58,73,75,76,77,78,79,80,81,82,88,96,103,111,129,130,131,132,133,134]\n",
    "actions = {\"up\": 0,\"down\" : 1,\"left\" : 2,\"right\" : 3}"
   ]
  },
  {
   "cell_type": "code",
   "execution_count": 27,
   "metadata": {},
   "outputs": [],
   "source": [
    "def select_action(current_state, current_pos, epsilon, Q):\n",
    "    possible_actions = []\n",
    "    \n",
    "    if np.random.uniform() <= epsilon:\n",
    "        if current_pos[0] != 0:\n",
    "            possible_actions.append(\"up\")\n",
    "        if current_pos[0] != ny-1:\n",
    "            possible_actions.append(\"down\")\n",
    "        if current_pos[1] != 0:\n",
    "            possible_actions.append(\"left\")\n",
    "        if current_pos[1] != nx-1:\n",
    "            possible_actions.append(\"right\")\n",
    "        action = actions[possible_actions[r(0,len(possible_actions)-1)]]\n",
    "    else:\n",
    "        m = np.min(Q[:,current_state])\n",
    "        if current_pos[0] != 0: #up\n",
    "            possible_actions.append(Q[0,current_state])\n",
    "        else:\n",
    "            possible_actions.append(m - 100)\n",
    "        if current_pos[0] != ny-1: #down\n",
    "            possible_actions.append(Q[1,current_state])\n",
    "        else:\n",
    "            possible_actions.append(m - 100)\n",
    "        if current_pos[1] != 0: #left\n",
    "            possible_actions.append(Q[2,current_state])\n",
    "        else:\n",
    "            possible_actions.append(m - 100)\n",
    "        if current_pos[1] != nx-1: #right\n",
    "            possible_actions.append(Q[3,current_state])\n",
    "        else:\n",
    "            possible_actions.append(m - 100)\n",
    "        action = random.choice([i for i,a in enumerate(possible_actions) if a == max(possible_actions)]) #randomly selecting one of all possible actions with maximin value\n",
    "#         action = random.choice([i for i,a in enumerate(possible_actions) if a > (m - 100)]) #randomly selecting one of all possible actions with maximin value\n",
    "    return action"
   ]
  },
  {
   "cell_type": "code",
   "execution_count": 28,
   "metadata": {},
   "outputs": [],
   "source": [
    "def episode(epsilon, gamma, eta, current_pos, Q):\n",
    "    win_state = 147\n",
    "    win_flag = 0\n",
    "    current_pos_temp = current_pos.copy()\n",
    "    current_state = states[(current_pos[0],current_pos[1])]\n",
    "    action = select_action(current_state, current_pos, epsilon, Q)\n",
    "    if action == 0: #move up\n",
    "        current_pos[0] -= 1\n",
    "    elif action == 1: #move down\n",
    "        current_pos[0] += 1\n",
    "    elif action == 2: #move left\n",
    "        current_pos[1] -= 1\n",
    "    elif action == 3: #move right\n",
    "        current_pos[1] += 1\n",
    "    new_state = states[(current_pos[0],current_pos[1])]\n",
    "    if new_state not in terminals:\n",
    "        Q[action, current_state] += eta*(reward[current_pos[0],current_pos[1]] + gamma*(np.max(Q[:,new_state])) - Q[action,current_state])\n",
    "        if new_state == win_state: win_flag = 1\n",
    "    else:\n",
    "        Q[action, current_state] += eta*(reward[current_pos[0],current_pos[1]] - Q[action,current_state])\n",
    "        current_pos = current_pos_temp\n",
    "        new_state = states[(current_pos[0],current_pos[1])]\n",
    "        \n",
    "    return win_flag, new_state, current_pos"
   ]
  },
  {
   "cell_type": "code",
   "execution_count": 29,
   "metadata": {},
   "outputs": [
    {
     "name": "stdout",
     "output_type": "stream",
     "text": [
      "Episode  1000  time =  32.59 sec\n",
      "Episode  2000  time =  0.66 sec\n",
      "Episode  3000  time =  0.74 sec\n",
      "Episode  4000  time =  0.66 sec\n",
      "Episode  5000  time =  0.73 sec\n",
      "Episode  6000  time =  0.73 sec\n",
      "Episode  7000  time =  0.58 sec\n",
      "Episode  8000  time =  0.62 sec\n",
      "Episode  9000  time =  0.74 sec\n"
     ]
    }
   ],
   "source": [
    "nx = 15\n",
    "ny = 10\n",
    "epsilon = 0.1 # Epsilon\n",
    "eta = 0.1 # Learning Rate\n",
    "gamma = 0.95 \n",
    "Q = np.zeros((4,150)) # inititalise q table\n",
    "current_pos = [0,0]\n",
    "actions = {\"up\": 0,\"down\" : 1,\"left\" : 2,\"right\" : 3}\n",
    "states = {}\n",
    "k=0\n",
    "for i in range(ny):\n",
    "    for j in range(nx):\n",
    "        states[(i,j)] = k\n",
    "        k+=1\n",
    "\n",
    "run = True\n",
    "counter = 0\n",
    "state_history = []\n",
    "train_history = []\n",
    "start = time.time()\n",
    "while run:\n",
    "    train_counter = 0\n",
    "    episode_flag = True\n",
    "    while episode_flag:\n",
    "        win_flag, state, current_pos = episode(epsilon, gamma, eta, current_pos, Q)\n",
    "#         stz\\ate_history.append(state)\n",
    "        if (win_flag == 1): episode_flag = False\n",
    "        train_counter += 1\n",
    "    train_history.append(train_counter)\n",
    "    current_pos = [0,0]\n",
    "    counter += 1\n",
    "    if (counter/1000) in ([1,2,3,4,5,6,7,8,9]): \n",
    "        end=time.time()\n",
    "        print('Episode ',counter,' time = ', round(end-start,2), 'sec')\n",
    "        start = end\n",
    "    if (counter == 10000): run = False"
   ]
  },
  {
   "cell_type": "code",
   "execution_count": 30,
   "metadata": {},
   "outputs": [],
   "source": [
    "episodes = list(range(len(train_history)))\n",
    "data = pd.DataFrame(episodes)\n",
    "data['train'] = train_history"
   ]
  },
  {
   "cell_type": "code",
   "execution_count": 31,
   "metadata": {},
   "outputs": [
    {
     "data": {
      "text/html": [
       "<div>\n",
       "<style scoped>\n",
       "    .dataframe tbody tr th:only-of-type {\n",
       "        vertical-align: middle;\n",
       "    }\n",
       "\n",
       "    .dataframe tbody tr th {\n",
       "        vertical-align: top;\n",
       "    }\n",
       "\n",
       "    .dataframe thead th {\n",
       "        text-align: right;\n",
       "    }\n",
       "</style>\n",
       "<table border=\"1\" class=\"dataframe\">\n",
       "  <thead>\n",
       "    <tr style=\"text-align: right;\">\n",
       "      <th></th>\n",
       "      <th>15</th>\n",
       "      <th>16</th>\n",
       "      <th>17</th>\n",
       "    </tr>\n",
       "  </thead>\n",
       "  <tbody>\n",
       "    <tr>\n",
       "      <th>0</th>\n",
       "      <td>0.020831</td>\n",
       "      <td>0.032454</td>\n",
       "      <td>0.0</td>\n",
       "    </tr>\n",
       "    <tr>\n",
       "      <th>1</th>\n",
       "      <td>-0.004807</td>\n",
       "      <td>-0.019228</td>\n",
       "      <td>0.0</td>\n",
       "    </tr>\n",
       "    <tr>\n",
       "      <th>2</th>\n",
       "      <td>0.000000</td>\n",
       "      <td>-0.003194</td>\n",
       "      <td>0.0</td>\n",
       "    </tr>\n",
       "    <tr>\n",
       "      <th>3</th>\n",
       "      <td>0.014684</td>\n",
       "      <td>-0.010000</td>\n",
       "      <td>0.0</td>\n",
       "    </tr>\n",
       "  </tbody>\n",
       "</table>\n",
       "</div>"
      ],
      "text/plain": [
       "         15        16   17\n",
       "0  0.020831  0.032454  0.0\n",
       "1 -0.004807 -0.019228  0.0\n",
       "2  0.000000 -0.003194  0.0\n",
       "3  0.014684 -0.010000  0.0"
      ]
     },
     "execution_count": 31,
     "metadata": {},
     "output_type": "execute_result"
    }
   ],
   "source": [
    "pd.DataFrame(Q)[[15,16, 17]]"
   ]
  },
  {
   "cell_type": "code",
   "execution_count": 32,
   "metadata": {},
   "outputs": [
    {
     "data": {
      "image/png": "[encoded data removed]",
      "text/plain": [
       "<Figure size 720x432 with 1 Axes>"
      ]
     },
     "metadata": {},
     "output_type": "display_data"
    }
   ],
   "source": [
    "sns.set()\n",
    "plt.figure(figsize=(10, 6))\n",
    "\n",
    "ax = sns.lineplot(x=0, y='train', data=data)\n",
    "ax.set(xlabel='Episode', ylabel='# of iterations')\n",
    "# ax.set(yscale=\"log\")\n",
    "# ax.grid(False)\n",
    "\n",
    "plt.savefig('Q-learning 1b chris.png',bbox_inches = 'tight');"
   ]
  },
  {
   "cell_type": "code",
   "execution_count": 33,
   "metadata": {},
   "outputs": [
    {
     "data": {
      "image/png": "[encoded data removed]",
      "text/plain": [
       "<Figure size 720x432 with 1 Axes>"
      ]
     },
     "metadata": {},
     "output_type": "display_data"
    }
   ],
   "source": [
    "# sns.set()\n",
    "plt.figure(figsize=(10, 6))\n",
    "\n",
    "ax = sns.lineplot(x=0, y='train', data=data, color = 'blue')\n",
    "ax.set(xlabel='Episode Number', ylabel='Iterations')\n",
    "ax.set(yscale=\"log\")\n",
    "ax.grid(False)\n",
    "\n",
    "plt.savefig('Q-learning 1b cam.png',bbox_inches = 'tight');"
   ]
  },
  {
   "cell_type": "code",
   "execution_count": 34,
   "metadata": {},
   "outputs": [],
   "source": [
    "current_pos = [0,0]\n",
    "current_state = 0\n",
    "state_history=[current_state]\n",
    "\n",
    "def test_greedy(epsilon, gamma, eta, current_pos, Q):  \n",
    "    win_state = 147\n",
    "    win_flag = 0\n",
    "    current_pos_temp = current_pos.copy()\n",
    "    current_state = states[(current_pos[0],current_pos[1])]\n",
    "#     print(current_state)\n",
    "    action = select_action(current_state, current_pos, epsilon, Q)\n",
    "    if action == 0: #move up\n",
    "        current_pos[0] -= 1\n",
    "    elif action == 1: #move down\n",
    "        current_pos[0] += 1\n",
    "    elif action == 2: #move left\n",
    "        current_pos[1] -= 1\n",
    "    elif action == 3: #move right\n",
    "        current_pos[1] += 1\n",
    "    new_state = states[(current_pos[0],current_pos[1])]\n",
    "#     print(new_state)\n",
    "    if new_state == win_state:\n",
    "        win_flag = 1\n",
    "            \n",
    "    elif new_state in terminals:\n",
    "#         print(new_state)\n",
    "        current_pos = current_pos_temp.copy()\n",
    "        new_state = states[(current_pos[0],current_pos[1])]\n",
    "             \n",
    "    \n",
    "\n",
    "    return win_flag, new_state, current_pos\n",
    "    \n",
    "    \n",
    "train_counter = 0\n",
    "episode_flag = True\n",
    "epsilon = 0\n",
    "\n",
    "while episode_flag:\n",
    "    win_flag, new_state, pos = test_greedy(epsilon, gamma, eta, current_pos, Q)\n",
    "    current_pos = pos\n",
    "    state_history.append(new_state)\n",
    "    if (win_flag == 1): episode_flag = False\n",
    "    train_counter += 1\n",
    "    if (train_counter == 1000): episode_flag = False\n"
   ]
  },
  {
   "cell_type": "code",
   "execution_count": 35,
   "metadata": {},
   "outputs": [
    {
     "data": {
      "text/plain": [
       "[0,\n",
       " 1,\n",
       " 2,\n",
       " 3,\n",
       " 4,\n",
       " 5,\n",
       " 6,\n",
       " 7,\n",
       " 8,\n",
       " 9,\n",
       " 10,\n",
       " 11,\n",
       " 12,\n",
       " 13,\n",
       " 14,\n",
       " 29,\n",
       " 44,\n",
       " 59,\n",
       " 74,\n",
       " 89,\n",
       " 104,\n",
       " 119,\n",
       " 118,\n",
       " 117,\n",
       " 116,\n",
       " 115,\n",
       " 114,\n",
       " 113,\n",
       " 128,\n",
       " 143,\n",
       " 144,\n",
       " 145,\n",
       " 146,\n",
       " 147]"
      ]
     },
     "execution_count": 35,
     "metadata": {},
     "output_type": "execute_result"
    }
   ],
   "source": [
    "state_history"
   ]
  },
  {
   "cell_type": "code",
   "execution_count": 24,
   "metadata": {},
   "outputs": [],
   "source": [
    "pd.DataFrame(Q)[state_history].to_csv('1c_chris.csv')"
   ]
  },
  {
   "cell_type": "code",
   "execution_count": null,
   "metadata": {},
   "outputs": [],
   "source": [
    "len(test)"
   ]
  },
  {
   "cell_type": "code",
   "execution_count": null,
   "metadata": {},
   "outputs": [],
   "source": [
    "pd.DataFrame(Q)[[0,1,2,3,15,30,45,60,61,62,63,64,65,66,67,68,69]]"
   ]
  },
  {
   "cell_type": "code",
   "execution_count": null,
   "metadata": {},
   "outputs": [],
   "source": []
  }
 ],
 "metadata": {
  "kernelspec": {
   "display_name": "Python 3",
   "language": "python",
   "name": "python3"
  },
  "language_info": {
   "codemirror_mode": {
    "name": "ipython",
    "version": 3
   },
   "file_extension": ".py",
   "mimetype": "text/x-python",
   "name": "python",
   "nbconvert_exporter": "python",
   "pygments_lexer": "ipython3",
   "version": "3.7.4"
  }
 },
 "nbformat": 4,
 "nbformat_minor": 4
}

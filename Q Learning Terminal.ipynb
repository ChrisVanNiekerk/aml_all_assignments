{
 "cells": [
  {
   "cell_type": "code",
   "execution_count": 7,
   "metadata": {},
   "outputs": [],
   "source": [
    "import numpy as np\n",
    "import pandas as pd\n",
    "from time import time,sleep\n",
    "from random import randint as r\n",
    "import random\n",
    "import matplotlib.pyplot as plt\n",
    "import seaborn as sns"
   ]
  },
  {
   "cell_type": "code",
   "execution_count": 8,
   "metadata": {},
   "outputs": [],
   "source": [
    "# reward = pd.read_csv('maze.csv')\n",
    "# reward_array = np.array(reward)\n",
    "reward = pd.read_excel('maze_reward_table.xlsx', sheet_name=\"Sheet2\", header=None)\n",
    "# reward.columns = [1,2,3,4,5,6,7,8,9,10,11,12,13,14,15]\n",
    "# reward.index = [1,2,3,4,5,6,7,8,9,10]\n",
    "reward = np.array(reward)\n",
    "terminals = [17,29,32,44,47,59,74,76,77,78,79,80,81,82,83,89,97,104,112,130,131,132,133,134,135]\n",
    "actions = {\"up\": 0,\"down\" : 1,\"left\" : 2,\"right\" : 3}"
   ]
  },
  {
   "cell_type": "code",
   "execution_count": 9,
   "metadata": {},
   "outputs": [],
   "source": [
    "def select_action(current_state, current_pos, epsilon, Q):\n",
    "    possible_actions = []\n",
    "    if np.random.uniform() <= epsilon:\n",
    "        if current_pos[0] != 0:\n",
    "            possible_actions.append(\"up\")\n",
    "        if current_pos[0] != ny-1:\n",
    "            possible_actions.append(\"down\")\n",
    "        if current_pos[1] != 0:\n",
    "            possible_actions.append(\"left\")\n",
    "        if current_pos[1] != nx-1:\n",
    "            possible_actions.append(\"right\")\n",
    "        action = actions[possible_actions[r(0,len(possible_actions)-1)]]\n",
    "    else:\n",
    "        m = np.min(Q[:,current_state])\n",
    "        if current_pos[0] != 0: #up\n",
    "            possible_actions.append(Q[0,current_state])\n",
    "        else:\n",
    "            possible_actions.append(m - 100)\n",
    "        if current_pos[0] != ny-1: #down\n",
    "            possible_actions.append(Q[1,current_state])\n",
    "        else:\n",
    "            possible_actions.append(m - 100)\n",
    "        if current_pos[1] != 0: #left\n",
    "            possible_actions.append(Q[2,current_state])\n",
    "        else:\n",
    "            possible_actions.append(m - 100)\n",
    "        if current_pos[1] != nx-1: #right\n",
    "            possible_actions.append(Q[3,current_state])\n",
    "        else:\n",
    "            possible_actions.append(m - 100)\n",
    "        action = random.choice([i for i,a in enumerate(possible_actions) if a == max(possible_actions)]) #randomly selecting one of all possible actions with maximin value\n",
    "    return action"
   ]
  },
  {
   "cell_type": "code",
   "execution_count": 18,
   "metadata": {},
   "outputs": [],
   "source": [
    "def episode(epsilon, gamma, eta, current_pos, Q):\n",
    "    win_state = 147\n",
    "    exit_flag = 0\n",
    "    current_pos_temp = current_pos\n",
    "    current_state = states[(current_pos[0],current_pos[1])]\n",
    "    action = select_action(current_state, current_pos, epsilon, Q)\n",
    "    if action == 0: #move up\n",
    "        current_pos[0] -= 1\n",
    "    elif action == 1: #move down\n",
    "        current_pos[0] += 1\n",
    "    elif action == 2: #move left\n",
    "        current_pos[1] -= 1\n",
    "    elif action == 3: #move right\n",
    "        current_pos[1] += 1\n",
    "    new_state = states[(current_pos[0],current_pos[1])]\n",
    "    if new_state not in terminals:\n",
    "        Q[action, current_state] += eta*(reward[current_pos[0],current_pos[1]] + gamma*(np.max(Q[:,new_state])) - Q[action,current_state])\n",
    "        if new_state == win_state: exit_flag = 1\n",
    "    else:\n",
    "        Q[action, current_state] += eta*(reward[current_pos[0],current_pos[1]] - Q[action,current_state])\n",
    "        exit_flag = 1\n",
    "        \n",
    "    return exit_flag, current_state"
   ]
  },
  {
   "cell_type": "code",
   "execution_count": 27,
   "metadata": {},
   "outputs": [
    {
     "name": "stdout",
     "output_type": "stream",
     "text": [
      "Episode  1000  complete\n",
      "Episode  2000  complete\n",
      "Episode  3000  complete\n",
      "Episode  4000  complete\n",
      "Episode  5000  complete\n",
      "Episode  6000  complete\n",
      "Episode  7000  complete\n",
      "Episode  8000  complete\n",
      "Episode  9000  complete\n"
     ]
    }
   ],
   "source": [
    "nx = 15\n",
    "ny = 10\n",
    "epsilon = 0.1 # Epsilon\n",
    "eta = 0.1 # Learning Rate\n",
    "gamma = 0.95 \n",
    "Q = np.zeros((4,150)) # inititalise q table\n",
    "current_pos = [0,0]\n",
    "actions = {\"up\": 0,\"down\" : 1,\"left\" : 2,\"right\" : 3}\n",
    "states = {}\n",
    "k=0\n",
    "for i in range(ny):\n",
    "    for j in range(nx):\n",
    "        states[(i,j)] = k\n",
    "        k+=1\n",
    "\n",
    "run = True\n",
    "counter = 0\n",
    "iteration = 0\n",
    "state_history = []\n",
    "train_history = []\n",
    "while run:\n",
    "    train_counter = 0\n",
    "    episode_flag = True\n",
    "    while episode_flag:\n",
    "        exit_flag, state = episode(epsilon, gamma, eta, current_pos, Q)\n",
    "        if (exit_flag == 1): episode_flag = False\n",
    "        train_counter += 1\n",
    "        \n",
    "    train_history.append(train_counter)\n",
    "    current_pos = [0,0]\n",
    "    counter += 1\n",
    "    if (counter/1000) in ([1,2,3,4,5,6,7,8,9]): print('Episode ',counter,' complete')\n",
    "    if (counter == 10000): run = False"
   ]
  },
  {
   "cell_type": "code",
   "execution_count": 28,
   "metadata": {},
   "outputs": [],
   "source": [
    "episodes = list(range(len(train_history)))\n",
    "data = pd.DataFrame(episodes)\n",
    "data['train'] = train_history"
   ]
  },
  {
   "cell_type": "code",
   "execution_count": 29,
   "metadata": {},
   "outputs": [
    {
     "data": {
      "image/png": "[encoded data removed]",
      "text/plain": [
       "<Figure size 432x288 with 1 Axes>"
      ]
     },
     "metadata": {
      "needs_background": "light"
     },
     "output_type": "display_data"
    }
   ],
   "source": [
    "ax = sns.lineplot(x=0, y='train', data=data)"
   ]
  },
  {
   "cell_type": "code",
   "execution_count": 26,
   "metadata": {},
   "outputs": [
    {
     "data": {
      "text/html": [
       "<div>\n",
       "<style scoped>\n",
       "    .dataframe tbody tr th:only-of-type {\n",
       "        vertical-align: middle;\n",
       "    }\n",
       "\n",
       "    .dataframe tbody tr th {\n",
       "        vertical-align: top;\n",
       "    }\n",
       "\n",
       "    .dataframe thead th {\n",
       "        text-align: right;\n",
       "    }\n",
       "</style>\n",
       "<table border=\"1\" class=\"dataframe\">\n",
       "  <thead>\n",
       "    <tr style=\"text-align: right;\">\n",
       "      <th></th>\n",
       "      <th>0</th>\n",
       "      <th>1</th>\n",
       "      <th>2</th>\n",
       "      <th>3</th>\n",
       "      <th>4</th>\n",
       "      <th>5</th>\n",
       "      <th>6</th>\n",
       "      <th>7</th>\n",
       "      <th>8</th>\n",
       "      <th>9</th>\n",
       "      <th>...</th>\n",
       "      <th>140</th>\n",
       "      <th>141</th>\n",
       "      <th>142</th>\n",
       "      <th>143</th>\n",
       "      <th>144</th>\n",
       "      <th>145</th>\n",
       "      <th>146</th>\n",
       "      <th>147</th>\n",
       "      <th>148</th>\n",
       "      <th>149</th>\n",
       "    </tr>\n",
       "  </thead>\n",
       "  <tbody>\n",
       "    <tr>\n",
       "      <th>0</th>\n",
       "      <td>0.00</td>\n",
       "      <td>0.0000</td>\n",
       "      <td>0.00</td>\n",
       "      <td>0.0000</td>\n",
       "      <td>0.0000</td>\n",
       "      <td>0.0000</td>\n",
       "      <td>0.0000</td>\n",
       "      <td>0.0000</td>\n",
       "      <td>0.0000</td>\n",
       "      <td>0.0000</td>\n",
       "      <td>...</td>\n",
       "      <td>-0.008176</td>\n",
       "      <td>-0.006604</td>\n",
       "      <td>-0.004739</td>\n",
       "      <td>-0.003944</td>\n",
       "      <td>-0.10000</td>\n",
       "      <td>-0.100</td>\n",
       "      <td>0.0</td>\n",
       "      <td>0.0</td>\n",
       "      <td>0.0</td>\n",
       "      <td>0.0</td>\n",
       "    </tr>\n",
       "    <tr>\n",
       "      <th>1</th>\n",
       "      <td>-0.01</td>\n",
       "      <td>-0.0195</td>\n",
       "      <td>-1.00</td>\n",
       "      <td>-0.0195</td>\n",
       "      <td>-0.0195</td>\n",
       "      <td>-0.0195</td>\n",
       "      <td>-0.0195</td>\n",
       "      <td>-0.0195</td>\n",
       "      <td>-0.0195</td>\n",
       "      <td>-0.0195</td>\n",
       "      <td>...</td>\n",
       "      <td>0.000000</td>\n",
       "      <td>0.000000</td>\n",
       "      <td>0.000000</td>\n",
       "      <td>0.000000</td>\n",
       "      <td>0.00000</td>\n",
       "      <td>0.000</td>\n",
       "      <td>0.0</td>\n",
       "      <td>0.0</td>\n",
       "      <td>0.0</td>\n",
       "      <td>0.0</td>\n",
       "    </tr>\n",
       "    <tr>\n",
       "      <th>2</th>\n",
       "      <td>0.00</td>\n",
       "      <td>-0.0100</td>\n",
       "      <td>-0.01</td>\n",
       "      <td>-0.0100</td>\n",
       "      <td>-0.0100</td>\n",
       "      <td>-0.0100</td>\n",
       "      <td>-0.0100</td>\n",
       "      <td>-0.0100</td>\n",
       "      <td>-0.0100</td>\n",
       "      <td>-0.0100</td>\n",
       "      <td>...</td>\n",
       "      <td>-0.007941</td>\n",
       "      <td>-0.006513</td>\n",
       "      <td>-0.004686</td>\n",
       "      <td>-0.003439</td>\n",
       "      <td>-0.00271</td>\n",
       "      <td>-0.001</td>\n",
       "      <td>0.0</td>\n",
       "      <td>0.0</td>\n",
       "      <td>0.0</td>\n",
       "      <td>0.0</td>\n",
       "    </tr>\n",
       "    <tr>\n",
       "      <th>3</th>\n",
       "      <td>-0.01</td>\n",
       "      <td>-0.0100</td>\n",
       "      <td>-0.01</td>\n",
       "      <td>-0.0100</td>\n",
       "      <td>-0.0100</td>\n",
       "      <td>-0.0100</td>\n",
       "      <td>-0.0100</td>\n",
       "      <td>-0.0100</td>\n",
       "      <td>-0.0100</td>\n",
       "      <td>-0.0100</td>\n",
       "      <td>...</td>\n",
       "      <td>-0.007941</td>\n",
       "      <td>-0.006513</td>\n",
       "      <td>-0.005217</td>\n",
       "      <td>-0.004095</td>\n",
       "      <td>-0.00271</td>\n",
       "      <td>-0.001</td>\n",
       "      <td>0.1</td>\n",
       "      <td>0.0</td>\n",
       "      <td>0.0</td>\n",
       "      <td>0.0</td>\n",
       "    </tr>\n",
       "  </tbody>\n",
       "</table>\n",
       "<p>4 rows × 150 columns</p>\n",
       "</div>"
      ],
      "text/plain": [
       "    0       1     2       3       4       5       6       7       8       9    \\\n",
       "0  0.00  0.0000  0.00  0.0000  0.0000  0.0000  0.0000  0.0000  0.0000  0.0000   \n",
       "1 -0.01 -0.0195 -1.00 -0.0195 -0.0195 -0.0195 -0.0195 -0.0195 -0.0195 -0.0195   \n",
       "2  0.00 -0.0100 -0.01 -0.0100 -0.0100 -0.0100 -0.0100 -0.0100 -0.0100 -0.0100   \n",
       "3 -0.01 -0.0100 -0.01 -0.0100 -0.0100 -0.0100 -0.0100 -0.0100 -0.0100 -0.0100   \n",
       "\n",
       "   ...       140       141       142       143      144    145  146  147  148  \\\n",
       "0  ... -0.008176 -0.006604 -0.004739 -0.003944 -0.10000 -0.100  0.0  0.0  0.0   \n",
       "1  ...  0.000000  0.000000  0.000000  0.000000  0.00000  0.000  0.0  0.0  0.0   \n",
       "2  ... -0.007941 -0.006513 -0.004686 -0.003439 -0.00271 -0.001  0.0  0.0  0.0   \n",
       "3  ... -0.007941 -0.006513 -0.005217 -0.004095 -0.00271 -0.001  0.1  0.0  0.0   \n",
       "\n",
       "   149  \n",
       "0  0.0  \n",
       "1  0.0  \n",
       "2  0.0  \n",
       "3  0.0  \n",
       "\n",
       "[4 rows x 150 columns]"
      ]
     },
     "execution_count": 26,
     "metadata": {},
     "output_type": "execute_result"
    }
   ],
   "source": [
    "pd.DataFrame(Q)"
   ]
  },
  {
   "cell_type": "code",
   "execution_count": 34,
   "metadata": {},
   "outputs": [
    {
     "data": {
      "text/plain": [
       "0        9899.50\n",
       "train      33.55\n",
       "dtype: float64"
      ]
     },
     "execution_count": 34,
     "metadata": {},
     "output_type": "execute_result"
    }
   ],
   "source": [
    "data[9800:10000].mean()"
   ]
  },
  {
   "cell_type": "code",
   "execution_count": 52,
   "metadata": {},
   "outputs": [],
   "source": [
    "current_pos = [0,0]\n",
    "current_state = 0\n",
    "state_history=[current_state]\n",
    "\n",
    "def test_greedy(epsilon, gamma, eta, current_pos, Q):   \n",
    "    win_state = 147\n",
    "    win_flag = 0\n",
    "    current_pos_temp = current_pos\n",
    "    current_state = states[(current_pos[0],current_pos[1])]\n",
    "    action = select_action(current_state, current_pos, epsilon, Q)\n",
    "    if action == 0: #move up\n",
    "        current_pos[0] -= 1\n",
    "    elif action == 1: #move down\n",
    "        current_pos[0] += 1\n",
    "    elif action == 2: #move left\n",
    "        current_pos[1] -= 1\n",
    "    elif action == 3: #move right\n",
    "        current_pos[1] += 1\n",
    "    new_state = states[(current_pos[0],current_pos[1])]\n",
    "    if new_state == win_state: win_flag = 1\n",
    "    if new_state in terminals:\n",
    "        current_pos = current_pos_temp\n",
    "\n",
    "    return win_flag, new_state\n",
    "    \n",
    "    \n",
    "train_counter = 0\n",
    "episode_flag = True\n",
    "epsilon = 0\n",
    "\n",
    "while episode_flag:\n",
    "    win_flag, state = test_greedy(epsilon, gamma, eta, current_pos, Q)\n",
    "    state_history.append(state)\n",
    "    if (win_flag == 1): episode_flag = False\n",
    "    train_counter += 1\n",
    "    if (train_counter == 1000): episode_flag = False\n"
   ]
  },
  {
   "cell_type": "code",
   "execution_count": 53,
   "metadata": {},
   "outputs": [
    {
     "data": {
      "text/plain": [
       "[0,\n",
       " 1,\n",
       " 2,\n",
       " 3,\n",
       " 4,\n",
       " 5,\n",
       " 6,\n",
       " 7,\n",
       " 8,\n",
       " 9,\n",
       " 10,\n",
       " 11,\n",
       " 26,\n",
       " 41,\n",
       " 40,\n",
       " 55,\n",
       " 70,\n",
       " 85,\n",
       " 84,\n",
       " 99,\n",
       " 98,\n",
       " 113,\n",
       " 128,\n",
       " 143,\n",
       " 144,\n",
       " 145,\n",
       " 146,\n",
       " 147]"
      ]
     },
     "execution_count": 53,
     "metadata": {},
     "output_type": "execute_result"
    }
   ],
   "source": [
    "state_history"
   ]
  },
  {
   "cell_type": "code",
   "execution_count": 45,
   "metadata": {},
   "outputs": [
    {
     "data": {
      "text/plain": [
       "[0,\n",
       " 1,\n",
       " 2,\n",
       " 3,\n",
       " 4,\n",
       " 5,\n",
       " 6,\n",
       " 7,\n",
       " 8,\n",
       " 9,\n",
       " 10,\n",
       " 11,\n",
       " 12,\n",
       " 27,\n",
       " 42,\n",
       " 57,\n",
       " 72,\n",
       " 87,\n",
       " 102,\n",
       " 117,\n",
       " 116,\n",
       " 115,\n",
       " 114,\n",
       " 113,\n",
       " 128,\n",
       " 143,\n",
       " 144,\n",
       " 145,\n",
       " 146,\n",
       " 147]"
      ]
     },
     "execution_count": 45,
     "metadata": {},
     "output_type": "execute_result"
    }
   ],
   "source": [
    "test"
   ]
  },
  {
   "cell_type": "code",
   "execution_count": null,
   "metadata": {},
   "outputs": [],
   "source": []
  }
 ],
 "metadata": {
  "kernelspec": {
   "display_name": "Python 3",
   "language": "python",
   "name": "python3"
  },
  "language_info": {
   "codemirror_mode": {
    "name": "ipython",
    "version": 3
   },
   "file_extension": ".py",
   "mimetype": "text/x-python",
   "name": "python",
   "nbconvert_exporter": "python",
   "pygments_lexer": "ipython3",
   "version": "3.7.4"
  }
 },
 "nbformat": 4,
 "nbformat_minor": 4
}

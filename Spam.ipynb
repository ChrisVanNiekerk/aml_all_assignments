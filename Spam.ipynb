{
 "cells": [
  {
   "cell_type": "code",
   "execution_count": 324,
   "metadata": {},
   "outputs": [],
   "source": [
    "import numpy as np\n",
    "import pandas as pd\n",
    "from time import time,sleep\n",
    "from random import randint as r\n",
    "import random\n",
    "import matplotlib.pyplot as plt\n",
    "import seaborn as sns\n",
    "import time\n",
    "import math\n",
    "from sklearn.svm import SVR\n",
    "from sklearn.pipeline import make_pipeline\n",
    "from sklearn.preprocessing import StandardScaler"
   ]
  },
  {
   "cell_type": "code",
   "execution_count": 325,
   "metadata": {},
   "outputs": [],
   "source": [
    "data = pd.read_csv('SMSSpamCollection.txt', delimiter=\"\\t\", header=None)\n",
    "y = data[0]"
   ]
  },
  {
   "cell_type": "code",
   "execution_count": 326,
   "metadata": {},
   "outputs": [],
   "source": [
    "from sklearn.feature_extraction.text import CountVectorizer\n",
    "\n",
    "vectorizer = CountVectorizer()\n",
    "data_vec = vectorizer.fit_transform(data[1])"
   ]
  },
  {
   "cell_type": "code",
   "execution_count": 327,
   "metadata": {},
   "outputs": [],
   "source": [
    "data_vec = pd.DataFrame(data_vec.toarray())\n",
    "data_vec.columns = vectorizer.get_feature_names()"
   ]
  },
  {
   "cell_type": "code",
   "execution_count": 328,
   "metadata": {},
   "outputs": [],
   "source": [
    "total_count = data_vec.shape[0]\n",
    "total_spam = data.groupby([0]).count()[1][1]\n",
    "total_ham = data.groupby([0]).count()[1][0]\n",
    "prob_spam = total_spam/total_count\n",
    "prob_ham = total_ham/total_count"
   ]
  },
  {
   "cell_type": "code",
   "execution_count": 329,
   "metadata": {},
   "outputs": [],
   "source": [
    "data_vec['class'] = y\n",
    "data_model = data_vec.drop('class', axis=1)"
   ]
  },
  {
   "cell_type": "code",
   "execution_count": 330,
   "metadata": {},
   "outputs": [],
   "source": [
    "data_spam = data_vec[data_vec['class'] == 'spam']\n",
    "data_ham = data_vec[data_vec['class'] == 'ham']\n",
    "data_spam = data_spam.drop('class', axis=1)\n",
    "data_ham = data_ham.drop('class', axis=1)\n",
    "data_spam = data_spam.reset_index(drop=True)\n",
    "data_ham = data_ham.reset_index(drop=True)\n",
    "word_counts_spam = data_spam.sum()\n",
    "word_counts_ham = data_ham.sum()"
   ]
  },
  {
   "cell_type": "code",
   "execution_count": 331,
   "metadata": {},
   "outputs": [],
   "source": [
    "word_counts_spam = data_spam.sum()\n",
    "word_counts_ham = data_ham.sum()"
   ]
  },
  {
   "cell_type": "code",
   "execution_count": 333,
   "metadata": {},
   "outputs": [],
   "source": [
    "spam_word_prob = pd.DataFrame(word_counts_spam) / word_counts_spam.shape[0]\n",
    "ham_word_prob = pd.DataFrame(word_counts_ham) / word_counts_ham.shape[0]"
   ]
  },
  {
   "cell_type": "code",
   "execution_count": 334,
   "metadata": {},
   "outputs": [
    {
     "name": "stdout",
     "output_type": "stream",
     "text": [
      "1000\n",
      "2000\n",
      "3000\n",
      "4000\n",
      "5000\n"
     ]
    }
   ],
   "source": [
    "predictions = pd.DataFrame()\n",
    "for i in range(y.shape[0]):\n",
    "    \n",
    "    temp = data_model.loc[[i]] # replace 0 with i\n",
    "    temp = temp.replace({0:np.nan})\n",
    "    temp = temp.dropna(how='all',axis='columns')\n",
    "    cols = temp.columns \n",
    "    ham_class_prob = 1\n",
    "    spam_class_prob = 1\n",
    "    for col in cols:\n",
    "        ham_class_prob = ham_class_prob*ham_word_prob.loc[col][0]\n",
    "        spam_class_prob = spam_class_prob*spam_word_prob.loc[col][0]\n",
    "\n",
    "    ham_class_prob = ham_class_prob*prob_ham\n",
    "    spam_class_prob = spam_class_prob*prob_spam\n",
    "\n",
    "    if ham_class_prob > spam_class_prob:\n",
    "        predictions = predictions.append(['ham'])\n",
    "    else:\n",
    "        predictions = predictions.append(['spam']) \n",
    "        \n",
    "    if i/1000 in ([1,2,3,4,5]): print(i)"
   ]
  },
  {
   "cell_type": "code",
   "execution_count": 335,
   "metadata": {},
   "outputs": [
    {
     "data": {
      "text/plain": [
       "array([[ 743,    4],\n",
       "       [   0, 4825]], dtype=int64)"
      ]
     },
     "execution_count": 335,
     "metadata": {},
     "output_type": "execute_result"
    }
   ],
   "source": [
    "from sklearn.metrics import confusion_matrix\n",
    "confusion_matrix(y, predictions[0], labels=[\"spam\", \"ham\"])"
   ]
  },
  {
   "cell_type": "code",
   "execution_count": 351,
   "metadata": {},
   "outputs": [],
   "source": [
    "for n, i in enumerate(pred):\n",
    "    if i == 'ham':\n",
    "        pred[n] = 0\n",
    "    else:\n",
    "        pred[n] = 1\n",
    "        "
   ]
  },
  {
   "cell_type": "code",
   "execution_count": null,
   "metadata": {},
   "outputs": [],
   "source": []
  },
  {
   "cell_type": "code",
   "execution_count": 382,
   "metadata": {},
   "outputs": [
    {
     "name": "stdout",
     "output_type": "stream",
     "text": [
      "0.0\n",
      "0.9993\n",
      "0.9946\n",
      "0.9973\n",
      "0.9973\n"
     ]
    }
   ],
   "source": [
    "from sklearn.metrics import roc_auc_score, f1_score, recall_score, accuracy_score, confusion_matrix, mean_squared_error, r2_score, plot_confusion_matrix\n",
    "\n",
    "print(round(np.mean(abs(pred - np.array(y))), 2))\n",
    "print(round(accuracy_score(list(np.array(y)), pred), 4))\n",
    "print(round(recall_score(list(np.array(y)), pred), 4))\n",
    "print(round(f1_score(list(np.array(y)), pred), 4))\n",
    "print(round(roc_auc_score(list(np.array(y)), pred), 4))"
   ]
  },
  {
   "cell_type": "code",
   "execution_count": 379,
   "metadata": {},
   "outputs": [
    {
     "ename": "TypeError",
     "evalue": "unsupported operand type(s) for -: 'list' and 'list'",
     "output_type": "error",
     "traceback": [
      "\u001b[1;31m---------------------------------------------------------------------------\u001b[0m",
      "\u001b[1;31mTypeError\u001b[0m                                 Traceback (most recent call last)",
      "\u001b[1;32m<ipython-input-379-8977d1980a64>\u001b[0m in \u001b[0;36m<module>\u001b[1;34m\u001b[0m\n\u001b[1;32m----> 1\u001b[1;33m \u001b[0mlist\u001b[0m\u001b[1;33m(\u001b[0m\u001b[0mnp\u001b[0m\u001b[1;33m.\u001b[0m\u001b[0marray\u001b[0m\u001b[1;33m(\u001b[0m\u001b[0my\u001b[0m\u001b[1;33m)\u001b[0m\u001b[1;33m)\u001b[0m \u001b[1;33m-\u001b[0m \u001b[0mpred\u001b[0m\u001b[1;33m\u001b[0m\u001b[1;33m\u001b[0m\u001b[0m\n\u001b[0m",
      "\u001b[1;31mTypeError\u001b[0m: unsupported operand type(s) for -: 'list' and 'list'"
     ]
    }
   ],
   "source": [
    "list(np.array(y)) - pred"
   ]
  },
  {
   "cell_type": "code",
   "execution_count": 408,
   "metadata": {},
   "outputs": [
    {
     "data": {
      "text/plain": [
       "array([[-0.8945, -0.3459,  0.552 ],\n",
       "       [ 0.4571,  0.4932, -0.4768],\n",
       "       [-0.3825, -0.6653,  0.2855],\n",
       "       [ 0.7458,  0.1253, -0.7986]])"
      ]
     },
     "execution_count": 408,
     "metadata": {},
     "output_type": "execute_result"
    }
   ],
   "source": [
    "X = np.array([[-0.8945, -0.3459, 0.552],[0.4571, 0.4932, -0.4768],[-0.3825, -0.6653, 0.2855],[0.7458, 0.1253, -0.7986]])\n",
    "X"
   ]
  },
  {
   "cell_type": "code",
   "execution_count": 409,
   "metadata": {},
   "outputs": [
    {
     "data": {
      "text/plain": [
       "array([1.6811, 0.2384, 0.2055, 1.7139])"
      ]
     },
     "execution_count": 409,
     "metadata": {},
     "output_type": "execute_result"
    }
   ],
   "source": [
    "alpha = np.array([1.6811, 0.2384, 0.2055, 1.7139])\n",
    "alpha"
   ]
  },
  {
   "cell_type": "code",
   "execution_count": 410,
   "metadata": {},
   "outputs": [
    {
     "data": {
      "text/plain": [
       "array([-1, -1,  1,  1])"
      ]
     },
     "execution_count": 410,
     "metadata": {},
     "output_type": "execute_result"
    }
   ],
   "source": [
    "y = np.array([-1, -1, 1, 1])\n",
    "y"
   ]
  },
  {
   "cell_type": "code",
   "execution_count": 411,
   "metadata": {},
   "outputs": [],
   "source": [
    "w0 = -0.0216"
   ]
  },
  {
   "cell_type": "code",
   "execution_count": 412,
   "metadata": {},
   "outputs": [
    {
     "data": {
      "text/plain": [
       "array([-1.6811, -0.2384,  0.2055,  1.7139])"
      ]
     },
     "execution_count": 412,
     "metadata": {},
     "output_type": "execute_result"
    }
   ],
   "source": [
    "beta = np.multiply(alpha,y)\n",
    "beta"
   ]
  },
  {
   "cell_type": "code",
   "execution_count": 413,
   "metadata": {},
   "outputs": [
    {
     "data": {
      "text/plain": [
       "array([ 2.59439418,  0.54194613, -2.12434837])"
      ]
     },
     "execution_count": 413,
     "metadata": {},
     "output_type": "execute_result"
    }
   ],
   "source": [
    "w = np.dot(beta,X)\n",
    "w"
   ]
  },
  {
   "cell_type": "code",
   "execution_count": 418,
   "metadata": {},
   "outputs": [
    {
     "data": {
      "text/plain": [
       "array([-3.70238506,  2.44447471, -1.98101399,  3.67770964])"
      ]
     },
     "execution_count": 418,
     "metadata": {},
     "output_type": "execute_result"
    }
   ],
   "source": [
    "f = np.dot(w,X.T) + b\n",
    "f "
   ]
  },
  {
   "cell_type": "code",
   "execution_count": 417,
   "metadata": {},
   "outputs": [
    {
     "data": {
      "text/plain": [
       "array([-1.,  1., -1.,  1.])"
      ]
     },
     "execution_count": 417,
     "metadata": {},
     "output_type": "execute_result"
    }
   ],
   "source": [
    "pred = f/abs(f)\n",
    "pred"
   ]
  },
  {
   "cell_type": "code",
   "execution_count": null,
   "metadata": {},
   "outputs": [],
   "source": []
  }
 ],
 "metadata": {
  "kernelspec": {
   "display_name": "Python 3",
   "language": "python",
   "name": "python3"
  },
  "language_info": {
   "codemirror_mode": {
    "name": "ipython",
    "version": 3
   },
   "file_extension": ".py",
   "mimetype": "text/x-python",
   "name": "python",
   "nbconvert_exporter": "python",
   "pygments_lexer": "ipython3",
   "version": "3.7.4"
  }
 },
 "nbformat": 4,
 "nbformat_minor": 4
}

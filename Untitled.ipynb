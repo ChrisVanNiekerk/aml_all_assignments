{
 "cells": [
  {
   "cell_type": "code",
   "execution_count": 2,
   "metadata": {},
   "outputs": [
    {
     "name": "stdout",
     "output_type": "stream",
     "text": [
      "pygame 1.9.6\n",
      "Hello from the pygame community. https://www.pygame.org/contribute.html\n"
     ]
    }
   ],
   "source": [
    "import numpy as np\n",
    "import pygame\n",
    "from time import time,sleep\n",
    "from random import randint as r\n",
    "import random"
   ]
  },
  {
   "cell_type": "code",
   "execution_count": 3,
   "metadata": {},
   "outputs": [],
   "source": [
    "def select_action(current_state):\n",
    "    global current_pos,epsilon\n",
    "    possible_actions = []\n",
    "    if np.random.uniform() <= epsilon:\n",
    "        if current_pos[0] != 0:\n",
    "            possible_actions.append(\"up\")\n",
    "        if current_pos[0] != n-1:\n",
    "            possible_actions.append(\"down\")\n",
    "        if current_pos[1] != 0:\n",
    "            possible_actions.append(\"left\")\n",
    "        if current_pos[1] != n-1:\n",
    "            possible_actions.append(\"right\")\n",
    "        action = actions[possible_actions[r(0,len(possible_actions) - 1)]]\n",
    "    else:\n",
    "        m = np.min(Q[current_state])\n",
    "        if current_pos[0] != 0: #up\n",
    "            possible_actions.append(Q[current_state,0])\n",
    "        else:\n",
    "            possible_actions.append(m - 100)\n",
    "        if current_pos[0] != n-1: #down\n",
    "            possible_actions.append(Q[current_state,1])\n",
    "        else:\n",
    "            possible_actions.append(m - 100)\n",
    "        if current_pos[1] != 0: #left\n",
    "            possible_actions.append(Q[current_state,2])\n",
    "        else:\n",
    "            possible_actions.append(m - 100)\n",
    "        if current_pos[1] != n-1: #right\n",
    "            possible_actions.append(Q[current_state,3])\n",
    "        else:\n",
    "            possible_actions.append(m - 100)\n",
    "        action = random.choice([i for i,a in enumerate(possible_actions) if a == max(possible_actions)]) #randomly selecting one of all possible actions with maximin value\n",
    "    return action\n",
    "      \n",
    "      \n",
    "def episode():\n",
    "    global current_pos,epsilon\n",
    "    current_state = states[(current_pos[0],current_pos[1])]\n",
    "    action = select_action(current_state)\n",
    "    if action == 0: #move up\n",
    "        current_pos[0] -= 1\n",
    "    elif action == 1: #move down\n",
    "        current_pos[0] += 1\n",
    "    elif action == 2: #move left\n",
    "        current_pos[1] -= 1\n",
    "    elif action == 3: #move right\n",
    "        current_pos[1] += 1\n",
    "    new_state = states[(current_pos[0],current_pos[1])]\n",
    "    if new_state not in terminals:\n",
    "        Q[current_state,action] += alpha*(reward[current_pos[0],current_pos[1]] + gamma*(np.max(Q[new_state])) - Q[current_state,action])\n",
    "    else:\n",
    "        Q[current_state,action] += alpha*(reward[current_pos[0],current_pos[1]] - Q[current_state,action])\n",
    "        current_pos = [0,0]\n",
    "        if epsilon > 0.05:\n",
    "            epsilon -= 3e-4 #reducing as time increases to satisfy Exploration & Exploitation Tradeoff\n",
    "            \n",
    "            \n",
    "            \n",
    "def layout():\n",
    "    c = 0\n",
    "    for i in range(0,scrx,100):\n",
    "        for j in range(0,scry,100):\n",
    "            pygame.draw.rect(screen,(255,255,255),(j,i,j+100,i+100),0)\n",
    "            pygame.draw.rect(screen,colors[c],(j+3,i+3,j+95,i+95),0)\n",
    "            c+=1\n",
    "            pygame.draw.circle(screen,(25,129,230),(current_pos[1]*100 + 50,current_pos[0]*100 + 50),30,0)"
   ]
  },
  {
   "cell_type": "code",
   "execution_count": 6,
   "metadata": {},
   "outputs": [],
   "source": [
    "nx = 15 #represents no. of side squares x (n*n total squares)\n",
    "ny = 10 #represents no. of side squares x (n*n total squares)\n",
    "scrx = nx*100\n",
    "scry = ny*100\n",
    "background = (51,51,51) #used to clear screen while rendering\n",
    "screen = pygame.display.set_mode((scrx,scry)) #creating a screen using Pygame\n",
    "colors = [(51,51,51) for i in range(nx*ny)] \n",
    "reward = np.zeros((4,ny*nx))\n",
    "terminals = []\n",
    "penalities = 10"
   ]
  },
  {
   "cell_type": "code",
   "execution_count": 15,
   "metadata": {},
   "outputs": [
    {
     "ename": "NameError",
     "evalue": "name 'n' is not defined",
     "output_type": "error",
     "traceback": [
      "\u001b[1;31m---------------------------------------------------------------------------\u001b[0m",
      "\u001b[1;31mNameError\u001b[0m                                 Traceback (most recent call last)",
      "\u001b[1;32m<ipython-input-15-10339cd3a9c3>\u001b[0m in \u001b[0;36m<module>\u001b[1;34m\u001b[0m\n\u001b[0;32m      1\u001b[0m \u001b[1;32mwhile\u001b[0m \u001b[0mpenalities\u001b[0m \u001b[1;33m!=\u001b[0m \u001b[1;36m0\u001b[0m\u001b[1;33m:\u001b[0m\u001b[1;33m\u001b[0m\u001b[1;33m\u001b[0m\u001b[0m\n\u001b[1;32m----> 2\u001b[1;33m     \u001b[0mi\u001b[0m \u001b[1;33m=\u001b[0m \u001b[0mr\u001b[0m\u001b[1;33m(\u001b[0m\u001b[1;36m0\u001b[0m\u001b[1;33m,\u001b[0m\u001b[0mn\u001b[0m\u001b[1;33m-\u001b[0m\u001b[1;36m1\u001b[0m\u001b[1;33m)\u001b[0m\u001b[1;33m\u001b[0m\u001b[1;33m\u001b[0m\u001b[0m\n\u001b[0m\u001b[0;32m      3\u001b[0m     \u001b[0mj\u001b[0m \u001b[1;33m=\u001b[0m \u001b[0mr\u001b[0m\u001b[1;33m(\u001b[0m\u001b[1;36m0\u001b[0m\u001b[1;33m,\u001b[0m\u001b[0mn\u001b[0m\u001b[1;33m-\u001b[0m\u001b[1;36m1\u001b[0m\u001b[1;33m)\u001b[0m\u001b[1;33m\u001b[0m\u001b[1;33m\u001b[0m\u001b[0m\n\u001b[0;32m      4\u001b[0m     \u001b[1;32mif\u001b[0m \u001b[0mreward\u001b[0m\u001b[1;33m[\u001b[0m\u001b[0mi\u001b[0m\u001b[1;33m,\u001b[0m\u001b[0mj\u001b[0m\u001b[1;33m]\u001b[0m \u001b[1;33m==\u001b[0m \u001b[1;36m0\u001b[0m \u001b[1;32mand\u001b[0m \u001b[1;33m[\u001b[0m\u001b[0mi\u001b[0m\u001b[1;33m,\u001b[0m\u001b[0mj\u001b[0m\u001b[1;33m]\u001b[0m \u001b[1;33m!=\u001b[0m \u001b[1;33m[\u001b[0m\u001b[1;36m0\u001b[0m\u001b[1;33m,\u001b[0m\u001b[1;36m0\u001b[0m\u001b[1;33m]\u001b[0m \u001b[1;32mand\u001b[0m \u001b[1;33m[\u001b[0m\u001b[0mi\u001b[0m\u001b[1;33m,\u001b[0m\u001b[0mj\u001b[0m\u001b[1;33m]\u001b[0m \u001b[1;33m!=\u001b[0m \u001b[1;33m[\u001b[0m\u001b[0mn\u001b[0m\u001b[1;33m-\u001b[0m\u001b[1;36m1\u001b[0m\u001b[1;33m,\u001b[0m\u001b[0mn\u001b[0m\u001b[1;33m-\u001b[0m\u001b[1;36m1\u001b[0m\u001b[1;33m]\u001b[0m\u001b[1;33m:\u001b[0m\u001b[1;33m\u001b[0m\u001b[1;33m\u001b[0m\u001b[0m\n\u001b[0;32m      5\u001b[0m         \u001b[0mreward\u001b[0m\u001b[1;33m[\u001b[0m\u001b[0mi\u001b[0m\u001b[1;33m,\u001b[0m\u001b[0mj\u001b[0m\u001b[1;33m]\u001b[0m \u001b[1;33m=\u001b[0m \u001b[1;33m-\u001b[0m\u001b[1;36m1\u001b[0m\u001b[1;33m\u001b[0m\u001b[1;33m\u001b[0m\u001b[0m\n",
      "\u001b[1;31mNameError\u001b[0m: name 'n' is not defined"
     ]
    }
   ],
   "source": [
    "while penalities != 0:\n",
    "    i = r(0,nx-1)\n",
    "    j = r(0,ny-1)\n",
    "    if reward[i,j] == 0 and [i,j] != [0,0] and [i,j] != [nx-1,ny-1]:\n",
    "        reward[i,j] = -1\n",
    "        penalities-=1\n",
    "        colors[n*i+j] = (255,0,0)\n",
    "        terminals.append(n*i+j)\n",
    "reward[n-1,n-1] = 1\n",
    "colors[n**2 - 1] = (0,255,0)\n",
    "terminals.append(n**2 - 1)\n",
    "\n",
    "\n",
    "Q = np.zeros((n**2,4)) #Initializing Q-Table\n",
    "actions = {\"up\": 0,\"down\" : 1,\"left\" : 2,\"right\" : 3} #possible actions\n",
    "states = {}\n",
    "k = 0\n",
    "for i in range(nx):\n",
    "    for j in range(ny):\n",
    "        states[(i,j)] = k\n",
    "        k+=1\n",
    "alpha = 0.01\n",
    "gamma = 0.9\n",
    "current_pos = [0,0]\n",
    "epsilon = 0.25\n",
    "\n",
    "\n",
    "\n",
    "\n",
    "run = True\n",
    "while run:\n",
    "    # sleep(0.3)\n",
    "    screen.fill(background)\n",
    "    layout()\n",
    "    for event in pygame.event.get():\n",
    "        if event.type == pygame.QUIT:\n",
    "            run = False\n",
    "    pygame.display.flip()\n",
    "    episode()\n",
    "pygame.quit()"
   ]
  },
  {
   "cell_type": "code",
   "execution_count": 1,
   "metadata": {},
   "outputs": [
    {
     "ename": "NameError",
     "evalue": "name 'Q' is not defined",
     "output_type": "error",
     "traceback": [
      "\u001b[1;31m---------------------------------------------------------------------------\u001b[0m",
      "\u001b[1;31mNameError\u001b[0m                                 Traceback (most recent call last)",
      "\u001b[1;32m<ipython-input-1-f257ae524af2>\u001b[0m in \u001b[0;36m<module>\u001b[1;34m\u001b[0m\n\u001b[1;32m----> 1\u001b[1;33m \u001b[0mQ\u001b[0m\u001b[1;33m\u001b[0m\u001b[1;33m\u001b[0m\u001b[0m\n\u001b[0m",
      "\u001b[1;31mNameError\u001b[0m: name 'Q' is not defined"
     ]
    }
   ],
   "source": [
    "Q"
   ]
  },
  {
   "cell_type": "code",
   "execution_count": null,
   "metadata": {},
   "outputs": [],
   "source": []
  }
 ],
 "metadata": {
  "kernelspec": {
   "display_name": "Python 3",
   "language": "python",
   "name": "python3"
  },
  "language_info": {
   "codemirror_mode": {
    "name": "ipython",
    "version": 3
   },
   "file_extension": ".py",
   "mimetype": "text/x-python",
   "name": "python",
   "nbconvert_exporter": "python",
   "pygments_lexer": "ipython3",
   "version": "3.7.4"
  }
 },
 "nbformat": 4,
 "nbformat_minor": 4
}

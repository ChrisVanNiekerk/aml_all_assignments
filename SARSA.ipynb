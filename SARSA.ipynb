{
 "cells": [
  {
   "cell_type": "code",
   "execution_count": 56,
   "metadata": {},
   "outputs": [],
   "source": [
    "import numpy as np\n",
    "import pandas as pd\n",
    "from time import time,sleep\n",
    "from random import randint as r\n",
    "import random\n",
    "import matplotlib.pyplot as plt\n",
    "import seaborn as sns\n",
    "import time"
   ]
  },
  {
   "cell_type": "code",
   "execution_count": 57,
   "metadata": {},
   "outputs": [],
   "source": [
    "# reward = pd.read_csv('maze.csv')\n",
    "# reward_array = np.array(reward)\n",
    "reward = pd.read_excel('maze_reward_table.xlsx', sheet_name=\"Sheet2\", header=None)\n",
    "# reward.columns = [1,2,3,4,5,6,7,8,9,10,11,12,13,14,15]\n",
    "# reward.index = [1,2,3,4,5,6,7,8,9,10]\n",
    "reward = np.array(reward)\n",
    "terminals = [17,28,32,43,47,58,73,75,76,77,78,79,80,81,82,88,96,103,111,129,130,131,132,133,134]\n",
    "# terminals = [16,28,31,43,46,58,73,75,76,77,78,79,80,81,82,88,96,103,111,129,130,131,132,133,134]\n",
    "actions = {\"up\": 0,\"down\" : 1,\"left\" : 2,\"right\" : 3}"
   ]
  },
  {
   "cell_type": "code",
   "execution_count": 58,
   "metadata": {},
   "outputs": [],
   "source": [
    "def select_action(current_state, current_pos, epsilon, Q):\n",
    "    possible_actions = []\n",
    "    \n",
    "    if np.random.uniform() <= epsilon:\n",
    "        if current_pos[0] != 0:\n",
    "            possible_actions.append(\"up\")\n",
    "        if current_pos[0] != ny-1:\n",
    "            possible_actions.append(\"down\")\n",
    "        if current_pos[1] != 0:\n",
    "            possible_actions.append(\"left\")\n",
    "        if current_pos[1] != nx-1:\n",
    "            possible_actions.append(\"right\")\n",
    "        action = actions[possible_actions[r(0,len(possible_actions)-1)]]\n",
    "    else:\n",
    "        m = np.min(Q[:,current_state])\n",
    "        if current_pos[0] != 0: #up\n",
    "            possible_actions.append(Q[0,current_state])\n",
    "        else:\n",
    "            possible_actions.append(m - 100)\n",
    "        if current_pos[0] != ny-1: #down\n",
    "            possible_actions.append(Q[1,current_state])\n",
    "        else:\n",
    "            possible_actions.append(m - 100)\n",
    "        if current_pos[1] != 0: #left\n",
    "            possible_actions.append(Q[2,current_state])\n",
    "        else:\n",
    "            possible_actions.append(m - 100)\n",
    "        if current_pos[1] != nx-1: #right\n",
    "            possible_actions.append(Q[3,current_state])\n",
    "        else:\n",
    "            possible_actions.append(m - 100)\n",
    "#         action = random.choice([i for i,a in enumerate(possible_actions) if a == max(possible_actions)]) #randomly selecting one of all possible actions with maximin value\n",
    "        action = random.choice([i for i,a in enumerate(possible_actions) if a == max(possible_actions)]) #randomly selecting one of all possible actions with maximin value\n",
    "    return action"
   ]
  },
  {
   "cell_type": "code",
   "execution_count": 59,
   "metadata": {},
   "outputs": [],
   "source": [
    "def episode(epsilon, gamma, eta, current_pos, current_state, Q):\n",
    "    win_state = 147\n",
    "    win_flag = 0\n",
    "    current_pos_temp = current_pos.copy()\n",
    "    test = []\n",
    "    current_state = states[(current_pos[0],current_pos[1])]\n",
    "    action = select_action(current_state, current_pos, epsilon, Q)\n",
    "    if action == 0: #move up\n",
    "        current_pos[0] -= 1\n",
    "    elif action == 1: #move down\n",
    "        current_pos[0] += 1\n",
    "    elif action == 2: #move left\n",
    "        current_pos[1] -= 1\n",
    "    elif action == 3: #move right\n",
    "        current_pos[1] += 1\n",
    "    new_state = states[(current_pos[0],current_pos[1])]\n",
    "    action2 = select_action(new_state, current_pos, epsilon, Q)  \n",
    "    if new_state not in terminals:\n",
    "              \n",
    "        Q[action, current_state] = Q[action, current_state] + eta*(reward[current_pos[0],current_pos[1]] + gamma*(Q[action2,new_state]) - Q[action,current_state])\n",
    "        if new_state == win_state: win_flag = 1\n",
    "            \n",
    "    else:\n",
    "        current_pos = current_pos_temp\n",
    "        new_state = states[(current_pos[0],current_pos[1])]\n",
    "        Q[action, current_state] += eta*(reward[current_pos[0],current_pos[1]] + gamma*(Q[action,new_state]) - Q[action,current_state])\n",
    "        \n",
    "        \n",
    "    return win_flag, new_state, current_pos"
   ]
  },
  {
   "cell_type": "code",
   "execution_count": 60,
   "metadata": {},
   "outputs": [
    {
     "name": "stdout",
     "output_type": "stream",
     "text": [
      "Episode  1000  time =  0.81 sec\n",
      "Episode  2000  time =  0.52 sec\n",
      "Episode  3000  time =  0.54 sec\n",
      "Episode  4000  time =  0.51 sec\n",
      "Episode  5000  time =  0.51 sec\n",
      "Episode  6000  time =  0.47 sec\n",
      "Episode  7000  time =  0.48 sec\n",
      "Episode  8000  time =  0.54 sec\n",
      "Episode  9000  time =  0.49 sec\n"
     ]
    }
   ],
   "source": [
    "nx = 15\n",
    "ny = 10\n",
    "epsilon = 0.1 # Epsilon\n",
    "eta = 0.1 # Learning Rate\n",
    "gamma = 0.95 \n",
    "Q = np.zeros((4,150)) # inititalise q table\n",
    "current_pos = [0,0]\n",
    "current_state = 0\n",
    "actions = {\"up\": 0,\"down\" : 1,\"left\" : 2,\"right\" : 3}\n",
    "states = {}\n",
    "k=0\n",
    "for i in range(ny):\n",
    "    for j in range(nx):\n",
    "        states[(i,j)] = k\n",
    "        k+=1\n",
    "\n",
    "run = True\n",
    "counter = 0\n",
    "iteration = 0\n",
    "state_history = []\n",
    "train_history = []\n",
    "start = time.time()\n",
    "while run:\n",
    "#     start= time.time()\n",
    "\n",
    "    train_counter = 0\n",
    "    episode_flag = True\n",
    "    while episode_flag:\n",
    "        win_flag, new_state, pos = episode(epsilon, gamma, eta, current_pos, current_state, Q)\n",
    "        if (win_flag == 1): episode_flag = False\n",
    "        train_counter += 1\n",
    "        if current_state == 147: print('147 reached')\n",
    "    train_history.append(train_counter)\n",
    "    current_pos = [0,0]\n",
    "    counter += 1\n",
    "\n",
    "    if (counter/1000) in ([1,2,3,4,5,6,7,8,9]): \n",
    "        end=time.time()\n",
    "        print('Episode ',counter,' time = ', round(end-start,2), 'sec')\n",
    "        start = end\n",
    "    if (counter == 10000): run = False"
   ]
  },
  {
   "cell_type": "code",
   "execution_count": 61,
   "metadata": {},
   "outputs": [],
   "source": [
    "episodes = list(range(len(train_history)))\n",
    "data = pd.DataFrame(episodes)\n",
    "data['train'] = train_history"
   ]
  },
  {
   "cell_type": "code",
   "execution_count": 62,
   "metadata": {},
   "outputs": [
    {
     "data": {
      "image/png": "[encoded data removed]",
      "text/plain": [
       "<Figure size 432x288 with 1 Axes>"
      ]
     },
     "metadata": {},
     "output_type": "display_data"
    }
   ],
   "source": [
    "ax = sns.lineplot(x=0, y='train', data=data)"
   ]
  },
  {
   "cell_type": "code",
   "execution_count": 63,
   "metadata": {},
   "outputs": [
    {
     "data": {
      "image/png": "[encoded data removed]",
      "text/plain": [
       "<Figure size 720x432 with 1 Axes>"
      ]
     },
     "metadata": {},
     "output_type": "display_data"
    }
   ],
   "source": [
    "# sns.set()\n",
    "plt.figure(figsize=(10, 6))\n",
    "\n",
    "ax = sns.lineplot(x=0, y='train', data=data, color = 'blue')\n",
    "ax.set(xlabel='Episode Number', ylabel='Iterations')\n",
    "ax.set(yscale=\"log\")\n",
    "ax.grid(False)\n",
    "\n",
    "plt.savefig('Q-learning 2 cam.png',bbox_inches = 'tight');"
   ]
  },
  {
   "cell_type": "code",
   "execution_count": 64,
   "metadata": {},
   "outputs": [
    {
     "data": {
      "image/png": "[encoded data removed]",
      "text/plain": [
       "<Figure size 720x432 with 1 Axes>"
      ]
     },
     "metadata": {},
     "output_type": "display_data"
    }
   ],
   "source": [
    "sns.set()\n",
    "plt.figure(figsize=(10, 6))\n",
    "\n",
    "ax = sns.lineplot(x=0, y='train', data=data)\n",
    "ax.set(xlabel='Episode', ylabel='# of iterations')\n",
    "# ax.set(yscale=\"log\")\n",
    "# ax.grid(False)\n",
    "\n",
    "plt.savefig('Q-learning 2 chris.png',bbox_inches = 'tight');"
   ]
  },
  {
   "cell_type": "code",
   "execution_count": 65,
   "metadata": {},
   "outputs": [
    {
     "data": {
      "text/plain": [
       "0        9799.500\n",
       "train      24.265\n",
       "dtype: float64"
      ]
     },
     "execution_count": 65,
     "metadata": {},
     "output_type": "execute_result"
    }
   ],
   "source": [
    "data[9600:10000].mean()"
   ]
  },
  {
   "cell_type": "code",
   "execution_count": 66,
   "metadata": {},
   "outputs": [],
   "source": [
    "current_pos = [0,0]\n",
    "current_state = 0\n",
    "state_history=[current_state]\n",
    "\n",
    "def test_greedy(epsilon, gamma, eta, current_pos, Q):  \n",
    "    win_state = 147\n",
    "    win_flag = 0\n",
    "    current_pos_temp = current_pos.copy()\n",
    "    current_state = states[(current_pos[0],current_pos[1])]\n",
    "    action = select_action(current_state, current_pos, epsilon, Q)\n",
    "    if action == 0: #move up\n",
    "        current_pos[0] -= 1\n",
    "    elif action == 1: #move down\n",
    "        current_pos[0] += 1\n",
    "    elif action == 2: #move left\n",
    "        current_pos[1] -= 1\n",
    "    elif action == 3: #move right\n",
    "        current_pos[1] += 1\n",
    "    new_state = states[(current_pos[0],current_pos[1])]\n",
    "    if new_state == win_state:\n",
    "        win_flag = 1\n",
    "            \n",
    "    elif new_state in terminals:\n",
    "        current_pos = current_pos_temp.copy()\n",
    "        new_state = states[(current_pos[0],current_pos[1])]\n",
    "    \n",
    "    return win_flag, new_state, current_pos\n",
    "    \n",
    "    \n",
    "train_counter = 0\n",
    "episode_flag = True\n",
    "epsilon = 0\n",
    "\n",
    "while episode_flag:\n",
    "    win_flag, new_state, pos = test_greedy(epsilon, gamma, eta, current_pos, Q)\n",
    "    current_pos = pos\n",
    "    state_history.append(new_state)\n",
    "    if (win_flag == 1): episode_flag = False\n",
    "    train_counter += 1\n",
    "    if (train_counter == 1000): episode_flag = False\n"
   ]
  },
  {
   "cell_type": "code",
   "execution_count": 67,
   "metadata": {},
   "outputs": [
    {
     "data": {
      "text/plain": [
       "[0,\n",
       " 1,\n",
       " 2,\n",
       " 3,\n",
       " 4,\n",
       " 5,\n",
       " 20,\n",
       " 35,\n",
       " 50,\n",
       " 51,\n",
       " 52,\n",
       " 53,\n",
       " 68,\n",
       " 83,\n",
       " 98,\n",
       " 113,\n",
       " 128,\n",
       " 143,\n",
       " 144,\n",
       " 145,\n",
       " 146,\n",
       " 147]"
      ]
     },
     "execution_count": 67,
     "metadata": {},
     "output_type": "execute_result"
    }
   ],
   "source": [
    "state_history"
   ]
  },
  {
   "cell_type": "code",
   "execution_count": 68,
   "metadata": {},
   "outputs": [],
   "source": [
    "pd.DataFrame(Q)[state_history].to_csv('2_chris.csv')"
   ]
  },
  {
   "cell_type": "code",
   "execution_count": 54,
   "metadata": {},
   "outputs": [
    {
     "data": {
      "text/html": [
       "<div>\n",
       "<style scoped>\n",
       "    .dataframe tbody tr th:only-of-type {\n",
       "        vertical-align: middle;\n",
       "    }\n",
       "\n",
       "    .dataframe tbody tr th {\n",
       "        vertical-align: top;\n",
       "    }\n",
       "\n",
       "    .dataframe thead th {\n",
       "        text-align: right;\n",
       "    }\n",
       "</style>\n",
       "<table border=\"1\" class=\"dataframe\">\n",
       "  <thead>\n",
       "    <tr style=\"text-align: right;\">\n",
       "      <th></th>\n",
       "      <th>0</th>\n",
       "      <th>15</th>\n",
       "      <th>30</th>\n",
       "      <th>45</th>\n",
       "      <th>60</th>\n",
       "      <th>61</th>\n",
       "      <th>62</th>\n",
       "      <th>63</th>\n",
       "      <th>64</th>\n",
       "      <th>65</th>\n",
       "      <th>...</th>\n",
       "      <th>68</th>\n",
       "      <th>83</th>\n",
       "      <th>98</th>\n",
       "      <th>113</th>\n",
       "      <th>128</th>\n",
       "      <th>143</th>\n",
       "      <th>144</th>\n",
       "      <th>145</th>\n",
       "      <th>146</th>\n",
       "      <th>147</th>\n",
       "    </tr>\n",
       "  </thead>\n",
       "  <tbody>\n",
       "    <tr>\n",
       "      <th>0</th>\n",
       "      <td>0.000000</td>\n",
       "      <td>0.037273</td>\n",
       "      <td>0.050787</td>\n",
       "      <td>0.064270</td>\n",
       "      <td>0.081485</td>\n",
       "      <td>0.062587</td>\n",
       "      <td>-0.157289</td>\n",
       "      <td>0.115275</td>\n",
       "      <td>0.183179</td>\n",
       "      <td>0.196133</td>\n",
       "      <td>...</td>\n",
       "      <td>0.343632</td>\n",
       "      <td>0.411473</td>\n",
       "      <td>0.420918</td>\n",
       "      <td>0.490756</td>\n",
       "      <td>0.539251</td>\n",
       "      <td>0.606793</td>\n",
       "      <td>-0.171399</td>\n",
       "      <td>-0.168698</td>\n",
       "      <td>-0.162882</td>\n",
       "      <td>0.0</td>\n",
       "    </tr>\n",
       "    <tr>\n",
       "      <th>1</th>\n",
       "      <td>0.063857</td>\n",
       "      <td>0.076966</td>\n",
       "      <td>0.086917</td>\n",
       "      <td>0.118285</td>\n",
       "      <td>-0.128783</td>\n",
       "      <td>-0.154641</td>\n",
       "      <td>-0.158346</td>\n",
       "      <td>-0.158137</td>\n",
       "      <td>-0.158346</td>\n",
       "      <td>-0.158555</td>\n",
       "      <td>...</td>\n",
       "      <td>0.467277</td>\n",
       "      <td>0.505389</td>\n",
       "      <td>0.559756</td>\n",
       "      <td>0.622960</td>\n",
       "      <td>0.682188</td>\n",
       "      <td>0.000000</td>\n",
       "      <td>0.000000</td>\n",
       "      <td>0.000000</td>\n",
       "      <td>0.000000</td>\n",
       "      <td>0.0</td>\n",
       "    </tr>\n",
       "    <tr>\n",
       "      <th>2</th>\n",
       "      <td>0.000000</td>\n",
       "      <td>0.000000</td>\n",
       "      <td>0.000000</td>\n",
       "      <td>0.000000</td>\n",
       "      <td>0.000000</td>\n",
       "      <td>0.093418</td>\n",
       "      <td>0.124480</td>\n",
       "      <td>0.116047</td>\n",
       "      <td>0.149675</td>\n",
       "      <td>0.205466</td>\n",
       "      <td>...</td>\n",
       "      <td>0.353579</td>\n",
       "      <td>-0.144571</td>\n",
       "      <td>0.450163</td>\n",
       "      <td>0.488243</td>\n",
       "      <td>0.513467</td>\n",
       "      <td>0.547045</td>\n",
       "      <td>0.651808</td>\n",
       "      <td>0.721645</td>\n",
       "      <td>0.775590</td>\n",
       "      <td>0.0</td>\n",
       "    </tr>\n",
       "    <tr>\n",
       "      <th>3</th>\n",
       "      <td>0.012027</td>\n",
       "      <td>0.021252</td>\n",
       "      <td>0.023171</td>\n",
       "      <td>0.058600</td>\n",
       "      <td>0.147607</td>\n",
       "      <td>0.175959</td>\n",
       "      <td>0.160445</td>\n",
       "      <td>0.211831</td>\n",
       "      <td>0.287511</td>\n",
       "      <td>0.318276</td>\n",
       "      <td>...</td>\n",
       "      <td>0.330090</td>\n",
       "      <td>0.418333</td>\n",
       "      <td>0.424188</td>\n",
       "      <td>0.441433</td>\n",
       "      <td>-0.149606</td>\n",
       "      <td>0.727701</td>\n",
       "      <td>0.808801</td>\n",
       "      <td>0.923593</td>\n",
       "      <td>1.000000</td>\n",
       "      <td>0.0</td>\n",
       "    </tr>\n",
       "  </tbody>\n",
       "</table>\n",
       "<p>4 rows × 22 columns</p>\n",
       "</div>"
      ],
      "text/plain": [
       "        0         15        30        45        60        61        62   \\\n",
       "0  0.000000  0.037273  0.050787  0.064270  0.081485  0.062587 -0.157289   \n",
       "1  0.063857  0.076966  0.086917  0.118285 -0.128783 -0.154641 -0.158346   \n",
       "2  0.000000  0.000000  0.000000  0.000000  0.000000  0.093418  0.124480   \n",
       "3  0.012027  0.021252  0.023171  0.058600  0.147607  0.175959  0.160445   \n",
       "\n",
       "        63        64        65   ...       68        83        98        113  \\\n",
       "0  0.115275  0.183179  0.196133  ...  0.343632  0.411473  0.420918  0.490756   \n",
       "1 -0.158137 -0.158346 -0.158555  ...  0.467277  0.505389  0.559756  0.622960   \n",
       "2  0.116047  0.149675  0.205466  ...  0.353579 -0.144571  0.450163  0.488243   \n",
       "3  0.211831  0.287511  0.318276  ...  0.330090  0.418333  0.424188  0.441433   \n",
       "\n",
       "        128       143       144       145       146  147  \n",
       "0  0.539251  0.606793 -0.171399 -0.168698 -0.162882  0.0  \n",
       "1  0.682188  0.000000  0.000000  0.000000  0.000000  0.0  \n",
       "2  0.513467  0.547045  0.651808  0.721645  0.775590  0.0  \n",
       "3 -0.149606  0.727701  0.808801  0.923593  1.000000  0.0  \n",
       "\n",
       "[4 rows x 22 columns]"
      ]
     },
     "execution_count": 54,
     "metadata": {},
     "output_type": "execute_result"
    }
   ],
   "source": []
  },
  {
   "cell_type": "code",
   "execution_count": null,
   "metadata": {},
   "outputs": [],
   "source": []
  }
 ],
 "metadata": {
  "kernelspec": {
   "display_name": "Python 3",
   "language": "python",
   "name": "python3"
  },
  "language_info": {
   "codemirror_mode": {
    "name": "ipython",
    "version": 3
   },
   "file_extension": ".py",
   "mimetype": "text/x-python",
   "name": "python",
   "nbconvert_exporter": "python",
   "pygments_lexer": "ipython3",
   "version": "3.7.4"
  }
 },
 "nbformat": 4,
 "nbformat_minor": 4
}

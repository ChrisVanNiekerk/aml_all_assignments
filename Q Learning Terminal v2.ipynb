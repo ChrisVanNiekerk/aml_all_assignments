{
 "cells": [
  {
   "cell_type": "code",
   "execution_count": 29,
   "metadata": {},
   "outputs": [],
   "source": [
    "import numpy as np\n",
    "import pandas as pd\n",
    "from time import time,sleep\n",
    "from random import randint as r\n",
    "import random\n",
    "import matplotlib.pyplot as plt\n",
    "import seaborn as sns\n",
    "import time"
   ]
  },
  {
   "cell_type": "code",
   "execution_count": 30,
   "metadata": {},
   "outputs": [],
   "source": [
    "# reward = pd.read_csv('maze.csv')\n",
    "# reward_array = np.array(reward)\n",
    "reward = pd.read_excel('maze_reward_table.xlsx', sheet_name=\"Sheet4\", header=None)\n",
    "# reward.columns = [1,2,3,4,5,6,7,8,9,10,11,12,13,14,15]\n",
    "# reward.index = [1,2,3,4,5,6,7,8,9,10]\n",
    "reward = np.array(reward)\n",
    "# terminals = [16,28,31,43,46,58,73,75,76,77,78,79,80,81,82,88,96,103,111,129,130,131,132,133,134]\n",
    "terminals = [17,28,32,43,47,58,73,75,76,77,78,79,80,81,82,88,96,103,111,129,130,131,132,133,134]\n",
    "actions = {\"up\": 0,\"down\" : 1,\"left\" : 2,\"right\" : 3}"
   ]
  },
  {
   "cell_type": "code",
   "execution_count": 31,
   "metadata": {},
   "outputs": [],
   "source": [
    "def select_action(current_state, current_pos, epsilon, Q):\n",
    "    possible_actions = []\n",
    "    \n",
    "    if np.random.uniform() <= epsilon:\n",
    "        if current_pos[0] != 0:\n",
    "            possible_actions.append(\"up\")\n",
    "        if current_pos[0] != ny-1:\n",
    "            possible_actions.append(\"down\")\n",
    "        if current_pos[1] != 0:\n",
    "            possible_actions.append(\"left\")\n",
    "        if current_pos[1] != nx-1:\n",
    "            possible_actions.append(\"right\")\n",
    "        action = actions[possible_actions[r(0,len(possible_actions)-1)]]\n",
    "    else:\n",
    "        m = np.min(Q[:,current_state])\n",
    "        if current_pos[0] != 0: #up\n",
    "            possible_actions.append(Q[0,current_state])\n",
    "        else:\n",
    "            possible_actions.append(m - 100)\n",
    "        if current_pos[0] != ny-1: #down\n",
    "            possible_actions.append(Q[1,current_state])\n",
    "        else:\n",
    "            possible_actions.append(m - 100)\n",
    "        if current_pos[1] != 0: #left\n",
    "            possible_actions.append(Q[2,current_state])\n",
    "        else:\n",
    "            possible_actions.append(m - 100)\n",
    "        if current_pos[1] != nx-1: #right\n",
    "            possible_actions.append(Q[3,current_state])\n",
    "        else:\n",
    "            possible_actions.append(m - 100)\n",
    "        action = random.choice([i for i,a in enumerate(possible_actions) if a == max(possible_actions)]) #randomly selecting one of all possible actions with maximin value\n",
    "    return action"
   ]
  },
  {
   "cell_type": "code",
   "execution_count": 32,
   "metadata": {},
   "outputs": [],
   "source": [
    "def episode(epsilon, gamma, eta, current_pos, Q):\n",
    "    win_state = 147\n",
    "    test = []\n",
    "    exit_flag = 0\n",
    "    current_pos_temp = current_pos.copy()\n",
    "    current_state = states[(current_pos[0],current_pos[1])]\n",
    "    action = select_action(current_state, current_pos, epsilon, Q)\n",
    "    if action == 0: #move up\n",
    "        current_pos[0] -= 1\n",
    "    elif action == 1: #move down\n",
    "        current_pos[0] += 1\n",
    "    elif action == 2: #move left\n",
    "        current_pos[1] -= 1\n",
    "    elif action == 3: #move right\n",
    "        current_pos[1] += 1\n",
    "    new_state = states[(current_pos[0],current_pos[1])]\n",
    "    \n",
    "    if new_state not in terminals:\n",
    "        Q[action, current_state] += eta*(reward[current_pos[0],current_pos[1]] + gamma*(np.max(Q[:,new_state])) - Q[action,current_state])\n",
    "        if new_state == win_state: exit_flag = 1\n",
    "    else:\n",
    "        Q[action, current_state] += eta*(reward[current_pos[0],current_pos[1]] - Q[action,current_state])\n",
    "        exit_flag = 1\n",
    "        current_pos = [0,0]\n",
    "        new_state = 0\n",
    "#\n",
    "    return exit_flag, new_state, current_pos, Q"
   ]
  },
  {
   "cell_type": "code",
   "execution_count": 33,
   "metadata": {},
   "outputs": [
    {
     "name": "stdout",
     "output_type": "stream",
     "text": [
      "Episode  1000  time =  0.59 sec\n",
      "Episode  2000  time =  0.56 sec\n",
      "Episode  3000  time =  0.53 sec\n",
      "Episode  4000  time =  0.62 sec\n",
      "Episode  5000  time =  0.5 sec\n",
      "Episode  6000  time =  0.58 sec\n",
      "Episode  7000  time =  0.54 sec\n",
      "Episode  8000  time =  0.49 sec\n",
      "Episode  9000  time =  0.6 sec\n"
     ]
    }
   ],
   "source": [
    "nx = 15\n",
    "ny = 10\n",
    "epsilon = 0.1 # Epsilon\n",
    "eta = 0.1 # Learning Rate\n",
    "gamma = 0.95 \n",
    "Q = np.zeros((4,150)) # inititalise q table\n",
    "current_pos = [0,0]\n",
    "actions = {\"up\": 0,\"down\" : 1,\"left\" : 2,\"right\" : 3}\n",
    "states = {}\n",
    "k=0\n",
    "for i in range(ny):\n",
    "    for j in range(nx):\n",
    "        states[(i,j)] = k\n",
    "        k+=1\n",
    "\n",
    "run = True\n",
    "counter = 0\n",
    "iteration = 0\n",
    "state_history = []\n",
    "train_history = []\n",
    "start = time.time()\n",
    "while run:\n",
    "    train_counter = 0\n",
    "    episode_flag = True\n",
    "    \n",
    "    while episode_flag:\n",
    "        \n",
    "        exit_flag, current_state, current_pos, Q = episode(epsilon, gamma, eta, current_pos, Q)\n",
    "        if (exit_flag == 1): episode_flag = False\n",
    "        train_counter += 1\n",
    "    train_history.append(train_counter)\n",
    "    counter += 1\n",
    "    if (counter/1000) in ([1,2,3,4,5,6,7,8,9]):\n",
    "        end=time.time()\n",
    "        print('Episode ',counter,' time = ', round(end-start,2), 'sec')\n",
    "        start = end\n",
    "    if (counter == 10000): run = False\n",
    "#     print('*****************')"
   ]
  },
  {
   "cell_type": "code",
   "execution_count": 34,
   "metadata": {},
   "outputs": [],
   "source": [
    "episodes = list(range(len(train_history)))\n",
    "data = pd.DataFrame(episodes)\n",
    "data['train'] = train_history"
   ]
  },
  {
   "cell_type": "code",
   "execution_count": 35,
   "metadata": {},
   "outputs": [
    {
     "data": {
      "image/png": "[encoded data removed]",
      "text/plain": [
       "<Figure size 720x432 with 1 Axes>"
      ]
     },
     "metadata": {},
     "output_type": "display_data"
    }
   ],
   "source": [
    "sns.set()\n",
    "plt.figure(figsize=(10, 6))\n",
    "\n",
    "ax = sns.lineplot(x=0, y='train', data=data)\n",
    "ax.set(xlabel='Episode', ylabel='# of iterations')\n",
    "# ax.set(yscale=\"log\")\n",
    "# ax.grid(False)\n",
    "\n",
    "plt.savefig('Q-learning 1d chris.png',bbox_inches = 'tight');"
   ]
  },
  {
   "cell_type": "code",
   "execution_count": 36,
   "metadata": {},
   "outputs": [
    {
     "data": {
      "image/png": "[encoded data removed]",
      "text/plain": [
       "<Figure size 432x288 with 1 Axes>"
      ]
     },
     "metadata": {},
     "output_type": "display_data"
    }
   ],
   "source": [
    "ax = sns.lineplot(x=0, y='train', data=data)"
   ]
  },
  {
   "cell_type": "code",
   "execution_count": 37,
   "metadata": {},
   "outputs": [
    {
     "data": {
      "text/plain": [
       "0        9499.500\n",
       "train      31.818\n",
       "dtype: float64"
      ]
     },
     "execution_count": 37,
     "metadata": {},
     "output_type": "execute_result"
    }
   ],
   "source": [
    "data[9000:10000].mean()"
   ]
  },
  {
   "cell_type": "code",
   "execution_count": 38,
   "metadata": {},
   "outputs": [
    {
     "data": {
      "text/html": [
       "<div>\n",
       "<style scoped>\n",
       "    .dataframe tbody tr th:only-of-type {\n",
       "        vertical-align: middle;\n",
       "    }\n",
       "\n",
       "    .dataframe tbody tr th {\n",
       "        vertical-align: top;\n",
       "    }\n",
       "\n",
       "    .dataframe thead th {\n",
       "        text-align: right;\n",
       "    }\n",
       "</style>\n",
       "<table border=\"1\" class=\"dataframe\">\n",
       "  <thead>\n",
       "    <tr style=\"text-align: right;\">\n",
       "      <th></th>\n",
       "      <th>0</th>\n",
       "      <th>1</th>\n",
       "      <th>2</th>\n",
       "      <th>3</th>\n",
       "      <th>4</th>\n",
       "      <th>5</th>\n",
       "      <th>6</th>\n",
       "      <th>7</th>\n",
       "      <th>16</th>\n",
       "      <th>30</th>\n",
       "      <th>...</th>\n",
       "      <th>63</th>\n",
       "      <th>64</th>\n",
       "      <th>65</th>\n",
       "      <th>66</th>\n",
       "      <th>67</th>\n",
       "      <th>68</th>\n",
       "      <th>69</th>\n",
       "      <th>146</th>\n",
       "      <th>147</th>\n",
       "      <th>148</th>\n",
       "    </tr>\n",
       "  </thead>\n",
       "  <tbody>\n",
       "    <tr>\n",
       "      <th>0</th>\n",
       "      <td>0.00</td>\n",
       "      <td>0.0000</td>\n",
       "      <td>0.00</td>\n",
       "      <td>0.0000</td>\n",
       "      <td>0.0000</td>\n",
       "      <td>0.0000</td>\n",
       "      <td>0.0000</td>\n",
       "      <td>0.0000</td>\n",
       "      <td>-0.010000</td>\n",
       "      <td>-0.0100</td>\n",
       "      <td>...</td>\n",
       "      <td>-0.008262</td>\n",
       "      <td>-0.009358</td>\n",
       "      <td>-0.011323</td>\n",
       "      <td>-0.011574</td>\n",
       "      <td>-0.011788</td>\n",
       "      <td>-0.009943</td>\n",
       "      <td>-0.009588</td>\n",
       "      <td>0.0</td>\n",
       "      <td>0.0</td>\n",
       "      <td>0.0</td>\n",
       "    </tr>\n",
       "    <tr>\n",
       "      <th>1</th>\n",
       "      <td>-0.01</td>\n",
       "      <td>-1.0095</td>\n",
       "      <td>-0.01</td>\n",
       "      <td>-0.0195</td>\n",
       "      <td>-0.0195</td>\n",
       "      <td>-0.0195</td>\n",
       "      <td>-0.0195</td>\n",
       "      <td>-0.0195</td>\n",
       "      <td>-1.007864</td>\n",
       "      <td>-0.0100</td>\n",
       "      <td>...</td>\n",
       "      <td>-0.271000</td>\n",
       "      <td>-0.190000</td>\n",
       "      <td>-0.100000</td>\n",
       "      <td>-0.100000</td>\n",
       "      <td>-0.190000</td>\n",
       "      <td>-0.010523</td>\n",
       "      <td>-0.009424</td>\n",
       "      <td>0.0</td>\n",
       "      <td>0.0</td>\n",
       "      <td>0.0</td>\n",
       "    </tr>\n",
       "    <tr>\n",
       "      <th>2</th>\n",
       "      <td>0.00</td>\n",
       "      <td>-0.0100</td>\n",
       "      <td>-0.01</td>\n",
       "      <td>-0.0100</td>\n",
       "      <td>-0.0100</td>\n",
       "      <td>-0.0100</td>\n",
       "      <td>-0.0100</td>\n",
       "      <td>-0.0100</td>\n",
       "      <td>-0.010000</td>\n",
       "      <td>0.0000</td>\n",
       "      <td>...</td>\n",
       "      <td>-0.008494</td>\n",
       "      <td>-0.010098</td>\n",
       "      <td>-0.011774</td>\n",
       "      <td>-0.012332</td>\n",
       "      <td>-0.011940</td>\n",
       "      <td>-0.010408</td>\n",
       "      <td>-0.010203</td>\n",
       "      <td>0.0</td>\n",
       "      <td>0.0</td>\n",
       "      <td>0.0</td>\n",
       "    </tr>\n",
       "    <tr>\n",
       "      <th>3</th>\n",
       "      <td>-0.01</td>\n",
       "      <td>-0.0100</td>\n",
       "      <td>-0.01</td>\n",
       "      <td>-0.0100</td>\n",
       "      <td>-0.0100</td>\n",
       "      <td>-0.0100</td>\n",
       "      <td>-0.0100</td>\n",
       "      <td>-0.0100</td>\n",
       "      <td>-0.010000</td>\n",
       "      <td>-1.0095</td>\n",
       "      <td>...</td>\n",
       "      <td>-0.008244</td>\n",
       "      <td>-0.010269</td>\n",
       "      <td>-0.011863</td>\n",
       "      <td>-0.012188</td>\n",
       "      <td>-0.010950</td>\n",
       "      <td>-0.010397</td>\n",
       "      <td>-0.009595</td>\n",
       "      <td>0.0</td>\n",
       "      <td>0.0</td>\n",
       "      <td>0.0</td>\n",
       "    </tr>\n",
       "  </tbody>\n",
       "</table>\n",
       "<p>4 rows × 24 columns</p>\n",
       "</div>"
      ],
      "text/plain": [
       "    0       1     2       3       4       5       6       7         16   \\\n",
       "0  0.00  0.0000  0.00  0.0000  0.0000  0.0000  0.0000  0.0000 -0.010000   \n",
       "1 -0.01 -1.0095 -0.01 -0.0195 -0.0195 -0.0195 -0.0195 -0.0195 -1.007864   \n",
       "2  0.00 -0.0100 -0.01 -0.0100 -0.0100 -0.0100 -0.0100 -0.0100 -0.010000   \n",
       "3 -0.01 -0.0100 -0.01 -0.0100 -0.0100 -0.0100 -0.0100 -0.0100 -0.010000   \n",
       "\n",
       "      30   ...       63        64        65        66        67        68   \\\n",
       "0 -0.0100  ... -0.008262 -0.009358 -0.011323 -0.011574 -0.011788 -0.009943   \n",
       "1 -0.0100  ... -0.271000 -0.190000 -0.100000 -0.100000 -0.190000 -0.010523   \n",
       "2  0.0000  ... -0.008494 -0.010098 -0.011774 -0.012332 -0.011940 -0.010408   \n",
       "3 -1.0095  ... -0.008244 -0.010269 -0.011863 -0.012188 -0.010950 -0.010397   \n",
       "\n",
       "        69   146  147  148  \n",
       "0 -0.009588  0.0  0.0  0.0  \n",
       "1 -0.009424  0.0  0.0  0.0  \n",
       "2 -0.010203  0.0  0.0  0.0  \n",
       "3 -0.009595  0.0  0.0  0.0  \n",
       "\n",
       "[4 rows x 24 columns]"
      ]
     },
     "execution_count": 38,
     "metadata": {},
     "output_type": "execute_result"
    }
   ],
   "source": [
    "pd.DataFrame(Q)[[0,1,2,3,4,5,6,7, 16,30,45,60,61,62,63,64,65,66,67,68,69, 146, 147, 148]]"
   ]
  },
  {
   "cell_type": "code",
   "execution_count": 43,
   "metadata": {},
   "outputs": [],
   "source": [
    "current_pos = [0,0]\n",
    "current_state = 0\n",
    "state_history=[current_state]\n",
    "\n",
    "def test_greedy(epsilon, gamma, eta, current_pos, Q):  \n",
    "    win_state = 147\n",
    "    exit_flag = 0\n",
    "    current_pos_temp = current_pos.copy()\n",
    "    current_state = states[(current_pos[0],current_pos[1])]\n",
    "#     print(current_state)\n",
    "    action = select_action(current_state, current_pos, epsilon, Q)\n",
    "    if action == 0: #move up\n",
    "        current_pos[0] -= 1\n",
    "    elif action == 1: #move down\n",
    "        current_pos[0] += 1\n",
    "    elif action == 2: #move left\n",
    "        current_pos[1] -= 1\n",
    "    elif action == 3: #move right\n",
    "        current_pos[1] += 1\n",
    "    new_state = states[(current_pos[0],current_pos[1])]\n",
    "#     print(new_state)\n",
    "    if new_state == win_state:\n",
    "        exit_flag = 1\n",
    "            \n",
    "    elif new_state in terminals:\n",
    "#         print(new_state)\n",
    "        current_pos = current_pos_temp.copy()\n",
    "        new_state = states[(current_pos[0],current_pos[1])]\n",
    "\n",
    "    return exit_flag, new_state, current_pos\n",
    "    \n",
    "    \n",
    "train_counter = 0\n",
    "episode_flag = True\n",
    "epsilon = 0\n",
    "\n",
    "while episode_flag:\n",
    "    exit_flag, new_state, pos = test_greedy(epsilon, gamma, eta, current_pos, Q)\n",
    "    current_pos = pos\n",
    "    state_history.append(new_state)\n",
    "    if (exit_flag == 1): episode_flag = False\n",
    "    train_counter += 1\n",
    "    if (train_counter == 100000): episode_flag = False\n"
   ]
  },
  {
   "cell_type": "code",
   "execution_count": 44,
   "metadata": {},
   "outputs": [
    {
     "data": {
      "text/plain": [
       "100001"
      ]
     },
     "execution_count": 44,
     "metadata": {},
     "output_type": "execute_result"
    }
   ],
   "source": [
    "len(state_history)"
   ]
  },
  {
   "cell_type": "code",
   "execution_count": null,
   "metadata": {},
   "outputs": [],
   "source": []
  }
 ],
 "metadata": {
  "kernelspec": {
   "display_name": "Python 3",
   "language": "python",
   "name": "python3"
  },
  "language_info": {
   "codemirror_mode": {
    "name": "ipython",
    "version": 3
   },
   "file_extension": ".py",
   "mimetype": "text/x-python",
   "name": "python",
   "nbconvert_exporter": "python",
   "pygments_lexer": "ipython3",
   "version": "3.7.4"
  }
 },
 "nbformat": 4,
 "nbformat_minor": 4
}

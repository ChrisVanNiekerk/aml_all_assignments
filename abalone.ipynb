{
 "cells": [
  {
   "cell_type": "code",
   "execution_count": 69,
   "metadata": {},
   "outputs": [],
   "source": [
    "import numpy as np\n",
    "import pandas as pd\n",
    "from time import time,sleep\n",
    "from random import randint as r\n",
    "import random\n",
    "import matplotlib.pyplot as plt\n",
    "from matplotlib.pyplot import figure\n",
    "from matplotlib import cm\n",
    "import seaborn as sns\n",
    "import time\n",
    "from pandas_profiling import ProfileReport\n",
    "from sklearn.ensemble import RandomForestRegressor, AdaBoostRegressor, GradientBoostingRegressor, StackingRegressor\n",
    "from sklearn import tree, linear_model\n",
    "from sklearn.linear_model import SGDRegressor\n",
    "import xgboost as xgb\n",
    "from sklearn.svm import SVR\n",
    "from sklearn.pipeline import make_pipeline\n",
    "from sklearn.preprocessing import StandardScaler\n",
    "from sklearn.neighbors import KNeighborsRegressor\n",
    "from sklearn.neural_network import MLPRegressor, MLPClassifier\n",
    "from sklearn.model_selection import GridSearchCV\n",
    "from sklearn.metrics import mean_squared_error, r2_score, plot_confusion_matrix, mean_absolute_error, roc_auc_score"
   ]
  },
  {
   "cell_type": "code",
   "execution_count": 4,
   "metadata": {},
   "outputs": [],
   "source": [
    "def one_hot(df, columns):\n",
    "    \n",
    "    for col in columns:\n",
    "        \n",
    "        one_hot = pd.get_dummies(df[col], prefix = col)\n",
    "        df = pd.concat([df, one_hot], axis = 1)\n",
    "        df = df.drop([col],  axis = 1)\n",
    "        \n",
    "    return df\n",
    "\n",
    "def Scatterplot(data, variable_1, variable_2, xlab, ylab, color, title, file_name):\n",
    "    \"\"\"\n",
    "    Generates scatterplot of values of two numeric variables in a dataframe.\n",
    "    \n",
    "        Parameters\n",
    "        ----------\n",
    "        data: Pandas Dataframe\n",
    "            dataframe including variable_1 and variable_2\n",
    "        variable_1: Pandas Series\n",
    "            numeric variable in dataframe for horizontal axis\n",
    "        variable_2: Pandas Series\n",
    "            numeric variable in dataframe for vertical axis\n",
    "        xlab: str\n",
    "            label for plot x-axis\n",
    "        ylab: str\n",
    "            label for plot y-axis\n",
    "        color: str\n",
    "            hex code for color (default Distell color = '#EDA411'; default Cape AI color = '#002C4D')\n",
    "        file_name: str\n",
    "            file name for the output file\n",
    "        \n",
    "        Returns\n",
    "        -------\n",
    "        Pandas histogram\n",
    "            histogram showing frequency distribution of variable\n",
    "        \n",
    "    \"\"\"\n",
    "    \n",
    "    # Generate boxplot of 'variable_1' (against 'variable_2' if this is included)\n",
    "    plt.figure(figsize=(10, 6))\n",
    "    splot = sns.scatterplot(x=variable_1, y=variable_2,\n",
    "                          data=data, color=color)\n",
    "    splot.set_xlabel(xlab, fontsize=20)\n",
    "    splot.set_ylabel(ylab, fontsize=20)\n",
    "    splot.tick_params(labelsize=16)\n",
    "    splot.set_title(title, fontsize=22, loc = 'right')\n",
    "    plt.savefig(file_name+'.png',bbox_inches = 'tight');\n",
    "        \n",
    "def Lineplot(data, variable_1, variable_2, xlab, ylab, color, title, file_name, fill_between = False):\n",
    "    \"\"\"\n",
    "    Generates scatterplot of values of two numeric variables in a dataframe.\n",
    "    \n",
    "        Parameters\n",
    "        ----------\n",
    "        data: Pandas Dataframe\n",
    "            dataframe including variable_1 and variable_2\n",
    "        variable_1: Pandas Series\n",
    "            numeric variable in dataframe for horizontal axis\n",
    "        variable_2: Pandas Series\n",
    "            numeric variable in dataframe for vertical axis\n",
    "        xlab: str\n",
    "            label for plot x-axis\n",
    "        ylab: str\n",
    "            label for plot y-axis\n",
    "        color: str\n",
    "            hex code for color (default Distell color = '#EDA411'; default Cape AI color = '#002C4D')\n",
    "        file_name: str\n",
    "            file name for the output file\n",
    "        \n",
    "        Returns\n",
    "        -------\n",
    "        Pandas histogram\n",
    "            histogram showing frequency distribution of variable\n",
    "        \n",
    "    \"\"\"\n",
    "    \n",
    "    # Generate boxplot of 'variable_1' (against 'variable_2' if this is included)\n",
    "    plt.figure(figsize=(10, 6))\n",
    "    lplot = sns.lineplot(x=variable_1, y=variable_2,\n",
    "                          data=data, color=color)\n",
    "    lplot.set_xlabel(xlab, fontsize=20)\n",
    "    lplot.set_ylabel(ylab, fontsize=20)\n",
    "    lplot.tick_params(labelsize=16)\n",
    "    lplot.set_title(title, fontsize=22, loc = 'right')\n",
    "    plt.savefig(file_name+'.png',bbox_inches = 'tight');"
   ]
  },
  {
   "cell_type": "code",
   "execution_count": 56,
   "metadata": {},
   "outputs": [],
   "source": [
    "from statsmodels.stats.outliers_influence import variance_inflation_factor\n",
    "\n",
    "def calc_vif(X):\n",
    "\n",
    "    # Calculating VIF\n",
    "    vif = pd.DataFrame()\n",
    "    vif[\"Feature\"] = X.columns\n",
    "    vif[\"VIF\"] = [variance_inflation_factor(X.values, i) for i in range(X.shape[1])]\n",
    "\n",
    "    return(vif)"
   ]
  },
  {
   "cell_type": "code",
   "execution_count": null,
   "metadata": {},
   "outputs": [],
   "source": [
    "data = pd.read_csv('abalone.csv')"
   ]
  },
  {
   "cell_type": "code",
   "execution_count": null,
   "metadata": {},
   "outputs": [],
   "source": [
    "data.head()"
   ]
  },
  {
   "cell_type": "markdown",
   "metadata": {},
   "source": [
    "## Data Quality Issues"
   ]
  },
  {
   "cell_type": "markdown",
   "metadata": {},
   "source": [
    "#### Values to replace: ? in all variables, check BMI"
   ]
  },
  {
   "cell_type": "code",
   "execution_count": null,
   "metadata": {},
   "outputs": [],
   "source": [
    "data[pd.to_numeric(data['BMI'], errors='coerce').isna()]"
   ]
  },
  {
   "cell_type": "markdown",
   "metadata": {},
   "source": [
    "#### Values to replace: ? in all variables, '#VALUE!' and '#DIV/0!' in  BMI"
   ]
  },
  {
   "cell_type": "code",
   "execution_count": 5,
   "metadata": {},
   "outputs": [],
   "source": [
    "data = pd.read_csv('abalone.csv', na_values = ['?', '#VALUE!', '#DIV/0!'], dtype={'Length': float,\n",
    "                                                                                  'Whole weight': float,\n",
    "                                                                                  'BMI': float})\n",
    "data = data.replace({'Gender': {'i': 'I',\n",
    "                                'm': 'M',\n",
    "                                'f' : 'F'}})"
   ]
  },
  {
   "cell_type": "code",
   "execution_count": null,
   "metadata": {},
   "outputs": [],
   "source": [
    "abalone_prof_before = ProfileReport(data, progress_bar=False)\n",
    "abalone_prof_before"
   ]
  },
  {
   "cell_type": "markdown",
   "metadata": {},
   "source": [
    "#### Check for redundant features & Outliers"
   ]
  },
  {
   "cell_type": "code",
   "execution_count": null,
   "metadata": {},
   "outputs": [],
   "source": [
    "data.hist(figsize=(12,14), color='#86bf91', zorder=2)\n",
    "plt.savefig('all vars hist before.png',bbox_inches = 'tight');"
   ]
  },
  {
   "cell_type": "code",
   "execution_count": null,
   "metadata": {},
   "outputs": [],
   "source": [
    "def histogram_intersection(a, b):\n",
    "    v = np.minimum(a, b).sum().round(decimals=1)\n",
    "    return v\n",
    "\n",
    "data.corr(method='pearson')"
   ]
  },
  {
   "cell_type": "code",
   "execution_count": null,
   "metadata": {},
   "outputs": [],
   "source": [
    "import scipy.stats as stats\n",
    "# stats f_oneway functions takes the groups as input and returns F and P-value\n",
    "fvalue, pvalue = stats.f_oneway(data['Rings'], data['In Cluster'])\n",
    "print(fvalue, pvalue)"
   ]
  },
  {
   "cell_type": "markdown",
   "metadata": {},
   "source": [
    "#### Remove redundant features"
   ]
  },
  {
   "cell_type": "code",
   "execution_count": 6,
   "metadata": {},
   "outputs": [],
   "source": [
    "data = data.drop(['Width', 'Whole weight', 'BMI', 'ID'], axis = 1)"
   ]
  },
  {
   "cell_type": "markdown",
   "metadata": {},
   "source": [
    "#### Check for outliers before addressing missing values (Check Excel values)"
   ]
  },
  {
   "cell_type": "code",
   "execution_count": null,
   "metadata": {},
   "outputs": [],
   "source": [
    "temp = data[~data['Length'].isna()]\n",
    "temp[(temp['Length'] <= np.percentile(temp['Length'], 0.01)) | (temp['Length'] >= np.percentile(temp['Length'], 99.9))]"
   ]
  },
  {
   "cell_type": "code",
   "execution_count": null,
   "metadata": {},
   "outputs": [],
   "source": [
    "temp = data[~data['Height'].isna()]\n",
    "temp[(temp['Height'] <= np.percentile(temp['Height'], 0.001)) | (temp['Height'] >= np.percentile(temp['Height'], 99.9))]"
   ]
  },
  {
   "cell_type": "code",
   "execution_count": null,
   "metadata": {},
   "outputs": [],
   "source": [
    "data[data['Rings'] >= np.percentile(data['Rings'], 99.9)]"
   ]
  },
  {
   "cell_type": "code",
   "execution_count": null,
   "metadata": {},
   "outputs": [],
   "source": [
    "data[data['Shell Weight'] >= np.percentile(data['Shell Weight'], 99.9)]"
   ]
  },
  {
   "cell_type": "markdown",
   "metadata": {},
   "source": [
    "#### Remove entries with invalid outliers"
   ]
  },
  {
   "cell_type": "code",
   "execution_count": 7,
   "metadata": {},
   "outputs": [],
   "source": [
    "remove_indices = [4173,1257,3996,4119,2051,1417]\n",
    "data = data.drop(remove_indices)"
   ]
  },
  {
   "cell_type": "code",
   "execution_count": null,
   "metadata": {},
   "outputs": [],
   "source": [
    "data.columns"
   ]
  },
  {
   "cell_type": "code",
   "execution_count": null,
   "metadata": {},
   "outputs": [],
   "source": [
    "sns.pairplot(data[['Length','Diameter', 'Height',\n",
    "       'Shucked weight', 'Viscera Weight', 'Shell Weight', 'Rings']])\n",
    "plt.savefig('splom.png',bbox_inches = 'tight');"
   ]
  },
  {
   "cell_type": "code",
   "execution_count": null,
   "metadata": {},
   "outputs": [],
   "source": [
    "data.hist(figsize=(12,14), color='#86bf91', zorder=2)\n",
    "plt.savefig('all vars hist after.png',bbox_inches = 'tight');"
   ]
  },
  {
   "cell_type": "markdown",
   "metadata": {},
   "source": [
    "#### Split data into features and target"
   ]
  },
  {
   "cell_type": "code",
   "execution_count": 8,
   "metadata": {},
   "outputs": [],
   "source": [
    "X_cols = list(data.columns)\n",
    "X_cols.remove('Rings')\n",
    "X = data[X_cols]\n",
    "Y = data['Rings']"
   ]
  },
  {
   "cell_type": "markdown",
   "metadata": {},
   "source": [
    "#### Check which columns have missing values"
   ]
  },
  {
   "cell_type": "code",
   "execution_count": null,
   "metadata": {},
   "outputs": [],
   "source": [
    "nans = X[X['Length'].isna()].index"
   ]
  },
  {
   "cell_type": "code",
   "execution_count": null,
   "metadata": {},
   "outputs": [],
   "source": [
    "X.isna().sum()"
   ]
  },
  {
   "cell_type": "markdown",
   "metadata": {},
   "source": [
    "#### Impute catagorical missing values with train mode"
   ]
  },
  {
   "cell_type": "code",
   "execution_count": 9,
   "metadata": {},
   "outputs": [],
   "source": [
    "# values = {'Gender': x_train['Gender'].mode()[0],\n",
    "#           'Length': x_train['Length'].mean()}\n",
    "\n",
    "# x_train = x_train.fillna(value=values)\n",
    "# x_test = x_test.fillna(value=values)"
   ]
  },
  {
   "cell_type": "code",
   "execution_count": 10,
   "metadata": {},
   "outputs": [],
   "source": [
    "values = {'Gender': X['Gender'].mode()[0]}\n",
    "X = X.fillna(value=values)"
   ]
  },
  {
   "cell_type": "code",
   "execution_count": 11,
   "metadata": {},
   "outputs": [],
   "source": [
    "#### One-hot encode 'Gender' and 'In Cluster'"
   ]
  },
  {
   "cell_type": "code",
   "execution_count": 12,
   "metadata": {},
   "outputs": [],
   "source": [
    "columns = ['Gender', 'In Cluster']\n",
    "X = one_hot(X, columns)\n",
    "feature_list = list(X.columns)"
   ]
  },
  {
   "cell_type": "code",
   "execution_count": 13,
   "metadata": {},
   "outputs": [],
   "source": [
    "from sklearn.impute import KNNImputer\n",
    "imputer = KNNImputer(n_neighbors=5)\n",
    "cols = X.columns\n",
    "ind = X.index\n",
    "\n",
    "X = pd.DataFrame(imputer.fit_transform(X), columns = cols, index = ind)"
   ]
  },
  {
   "cell_type": "markdown",
   "metadata": {},
   "source": [
    "#### Test-train split"
   ]
  },
  {
   "cell_type": "code",
   "execution_count": 11,
   "metadata": {},
   "outputs": [],
   "source": [
    "from sklearn.model_selection import train_test_split\n",
    "split = 0.2\n",
    "\n",
    "x_train, x_test, y_train, y_test = train_test_split(X, Y, test_size = split, random_state = 42)"
   ]
  },
  {
   "cell_type": "markdown",
   "metadata": {},
   "source": [
    "#### Normalise all features"
   ]
  },
  {
   "cell_type": "code",
   "execution_count": null,
   "metadata": {},
   "outputs": [],
   "source": [
    "# from sklearn import preprocessing\n",
    "\n",
    "# min_max_scaler = preprocessing.MinMaxScaler()\n",
    "# x_train = min_max_scaler.fit_transform(x_train)\n",
    "# x_test = min_max_scaler.fit_transform(x_test)"
   ]
  },
  {
   "cell_type": "markdown",
   "metadata": {},
   "source": [
    "#### Check for Multi-collinearity"
   ]
  },
  {
   "cell_type": "code",
   "execution_count": null,
   "metadata": {},
   "outputs": [],
   "source": [
    "calc_vif(x_train)"
   ]
  },
  {
   "cell_type": "markdown",
   "metadata": {},
   "source": [
    "#### Attempt dropping Diameter, Viscera Weight and Shucked Weight"
   ]
  },
  {
   "cell_type": "code",
   "execution_count": null,
   "metadata": {},
   "outputs": [],
   "source": [
    "# x_train = x_train.drop(['Diameter', 'Shucked weight', 'Viscera Weight'], axis=1)\n",
    "# x_test = x_test.drop(['Diameter', 'Shucked weight', 'Viscera Weight'], axis=1)"
   ]
  },
  {
   "cell_type": "code",
   "execution_count": 12,
   "metadata": {},
   "outputs": [
    {
     "name": "stdout",
     "output_type": "stream",
     "text": [
      "Training Features Shape: (3336, 11)\n",
      "Training Labels Shape: (3336,)\n",
      "Testing Features Shape: (835, 11)\n",
      "Testing Labels Shape: (835,)\n"
     ]
    }
   ],
   "source": [
    "print('Training Features Shape:', x_train.shape)\n",
    "print('Training Labels Shape:', y_train.shape)\n",
    "print('Testing Features Shape:', x_test.shape)\n",
    "print('Testing Labels Shape:', y_test.shape)"
   ]
  },
  {
   "cell_type": "code",
   "execution_count": 13,
   "metadata": {},
   "outputs": [
    {
     "name": "stdout",
     "output_type": "stream",
     "text": [
      "Average baseline error:  2.48\n"
     ]
    }
   ],
   "source": [
    "#The baseline predictions are the average of OTIF\n",
    "baseline_preds = np.average(y_train)\n",
    "baseline_errors = abs(baseline_preds - y_test)\n",
    "print('Average baseline error: ', round(np.mean(baseline_errors), 2))"
   ]
  },
  {
   "cell_type": "markdown",
   "metadata": {},
   "source": [
    "#### Model Fitting"
   ]
  },
  {
   "cell_type": "code",
   "execution_count": 67,
   "metadata": {},
   "outputs": [],
   "source": [
    "from sklearn.ensemble import RandomForestRegressor, AdaBoostRegressor, GradientBoostingRegressor, StackingRegressor\n",
    "from sklearn import tree, linear_model\n",
    "from sklearn.linear_model import SGDRegressor\n",
    "import xgboost as xgb\n",
    "from sklearn.svm import SVR\n",
    "from sklearn.pipeline import make_pipeline\n",
    "from sklearn.preprocessing import StandardScaler\n",
    "from sklearn.neighbors import KNeighborsRegressor\n",
    "from sklearn.neural_network import MLPRegressor, MLPClassifier\n",
    "from sklearn.model_selection import GridSearchCV\n",
    "from sklearn.metrics import mean_squared_error, r2_score, plot_confusion_matrix, mean_absolute_error, roc_auc_score"
   ]
  },
  {
   "cell_type": "code",
   "execution_count": 12,
   "metadata": {},
   "outputs": [
    {
     "name": "stdout",
     "output_type": "stream",
     "text": [
      "DT Trained with training time:  0.0211 sec\n",
      "RF Trained with training time:  3.4634 sec\n",
      "RF Trained with training time:  1.677 sec\n",
      "XGB Trained with training time:  2.8446 sec\n",
      "SVM Trained with training time:  0.4633 sec\n",
      "KNN Trained with training time:  0.0118 sec\n",
      "GLM Trained with training time:  0.0038 sec\n",
      "Perceptron Trained with training time:  0.0444 sec\n",
      "Gradient Descent Trained with training time:  0.0107 sec\n",
      "--------\n",
      "MLP Trained with training time:  4.7817 sec\n",
      "--------\n"
     ]
    },
    {
     "name": "stderr",
     "output_type": "stream",
     "text": [
      "C:\\Users\\MSI\\Anaconda3\\lib\\site-packages\\sklearn\\neural_network\\_multilayer_perceptron.py:470: ConvergenceWarning: lbfgs failed to converge (status=1):\n",
      "STOP: TOTAL NO. of ITERATIONS REACHED LIMIT.\n",
      "\n",
      "Increase the number of iterations (max_iter) or scale the data as shown in:\n",
      "    https://scikit-learn.org/stable/modules/preprocessing.html\n",
      "  self.n_iter_ = _check_optimize_result(\"lbfgs\", opt_res, self.max_iter)\n"
     ]
    },
    {
     "name": "stdout",
     "output_type": "stream",
     "text": [
      "MLP GS Trained with training time:  3.3219 sec\n",
      "--------\n",
      "MLP GS Trained with training time:  3.9359 sec\n",
      "--------\n",
      "Adaboost Trained with training time:  0.2087 sec\n",
      "Gradient Boost Trained with training time:  0.1966 sec\n",
      "Gradient Boost Trained with training time:  0.25 sec\n"
     ]
    }
   ],
   "source": [
    "# Start Timer\n",
    "start = time.time()\n",
    "\n",
    "int_time = round((time.time() - start), 4)\n",
    "dtr = tree.DecisionTreeRegressor().fit(x_train, y_train)\n",
    "# RandomForestRegressor(n_estimators = 300, random_state = 42)\n",
    "print(\"DT Trained with training time: \", round((time.time() - start) - int_time, 4), \"sec\")\n",
    "\n",
    "int_time = round((time.time() - start), 4)\n",
    "rf = RandomForestRegressor(n_estimators = 300).fit(x_train, y_train)\n",
    "# RandomForestRegressor(n_estimators = 300, random_state = 42)\n",
    "print(\"RF Trained with training time: \", round((time.time() - start) - int_time, 4), \"sec\")\n",
    "\n",
    "int_time = round((time.time() - start), 4)\n",
    "rf2 = RandomForestRegressor(n_estimators = 300, max_depth=7, random_state=9, criterion='mse', min_samples_split=2).fit(x_train, y_train)\n",
    "# RandomForestRegressor(n_estimators = 300, random_state = 42)\n",
    "print(\"RF Trained with training time: \", round((time.time() - start) - int_time, 4), \"sec\")\n",
    "\n",
    "int_time = round((time.time() - start), 4)\n",
    "xgb = xgb.XGBRegressor(n_estimators  = 1000, objective=\"reg:squarederror\", random_state=42).fit(x_train, y_train)\n",
    "print(\"XGB Trained with training time: \", round((time.time() - start) - int_time, 4), \"sec\")\n",
    "\n",
    "int_time = round((time.time() - start), 4)\n",
    "svm = make_pipeline(StandardScaler(), SVR(kernel='rbf')).fit(x_train, y_train)\n",
    "print(\"SVM Trained with training time: \", round((time.time() - start) - int_time, 4), \"sec\")\n",
    "\n",
    "int_time = round((time.time() - start), 4)\n",
    "knn = KNeighborsRegressor().fit(x_train, y_train)\n",
    "print(\"KNN Trained with training time: \", round((time.time() - start) - int_time, 4), \"sec\")\n",
    "\n",
    "int_time = round((time.time() - start), 4)\n",
    "glm = linear_model.LinearRegression().fit(x_train, y_train)\n",
    "print(\"GLM Trained with training time: \", round((time.time() - start) - int_time, 4), \"sec\")\n",
    "\n",
    "int_time = round((time.time() - start), 4)\n",
    "per = linear_model.Perceptron().fit(x_train, y_train)\n",
    "print(\"Perceptron Trained with training time: \", round((time.time() - start) - int_time, 4), \"sec\")\n",
    "\n",
    "int_time = round((time.time() - start), 4)\n",
    "grad_dec = make_pipeline(StandardScaler(),SGDRegressor(max_iter=1000)).fit(x_train, y_train)\n",
    "print(\"Gradient Descent Trained with training time: \", round((time.time() - start) - int_time, 4), \"sec\")\n",
    "\n",
    "print('--------')\n",
    "int_time = round((time.time() - start), 4)\n",
    "mlp1 = MLPRegressor(max_iter=1000).fit(x_train, y_train)\n",
    "print(\"MLP Trained with training time: \", round((time.time() - start) - int_time, 4), \"sec\")\n",
    "print('--------')\n",
    "\n",
    "int_time = round((time.time() - start), 4)\n",
    "mlp_gs = MLPRegressor(random_state=9, max_iter=1000, solver='lbfgs', alpha=0.01, hidden_layer_sizes=(4,11), learning_rate='adaptive', activation='logistic').fit(x_train, y_train)\n",
    "print(\"MLP GS Trained with training time: \", round((time.time() - start) - int_time, 4), \"sec\")\n",
    "print('--------')\n",
    "\n",
    "int_time = round((time.time() - start), 4)\n",
    "mlp_gs2 = MLPRegressor(random_state=42, max_iter=1000, solver='adam', alpha=0.001, hidden_layer_sizes=(50, 50, 50), learning_rate='adaptive', activation='relu').fit(x_train, y_train)\n",
    "print(\"MLP GS Trained with training time: \", round((time.time() - start) - int_time, 4), \"sec\")\n",
    "print('--------')\n",
    "\n",
    "int_time = round((time.time() - start), 4)\n",
    "ada = AdaBoostRegressor(n_estimators=1000).fit(x_train, y_train)\n",
    "print(\"Adaboost Trained with training time: \", round((time.time() - start) - int_time, 4), \"sec\")\n",
    "\n",
    "int_time = round((time.time() - start), 4)\n",
    "gb = GradientBoostingRegressor(n_estimators=50).fit(x_train, y_train)\n",
    "print(\"Gradient Boost Trained with training time: \", round((time.time() - start) - int_time, 4), \"sec\")\n",
    "\n",
    "int_time = round((time.time() - start), 4)\n",
    "gb2 = GradientBoostingRegressor(max_depth=3, learning_rate=0.15, max_features=8, min_samples_split=2, min_samples_leaf=1).fit(x_train, y_train)\n",
    "print(\"Gradient Boost Trained with training time: \", round((time.time() - start) - int_time, 2), \"sec\")\n",
    "\n",
    "models = ['dtr', 'rf', 'rf2', 'xgb', 'svm', 'knn', 'glm', 'per', 'grad_dec', 'mlp1', 'mlp_gs', 'mlp_gs2', 'ada', 'gb', 'gb2']"
   ]
  },
  {
   "cell_type": "code",
   "execution_count": 14,
   "metadata": {},
   "outputs": [],
   "source": []
  },
  {
   "cell_type": "code",
   "execution_count": null,
   "metadata": {},
   "outputs": [],
   "source": [
    "from sklearn.model_selection import RepeatedStratifiedKFold\n",
    "df_regressor = RandomForestRegressor(random_state=4)\n",
    "\n",
    "params_RF = {'criterion': ['mse', 'mae'],\n",
    "             'max_depth': [1, 3, 5, 7],\n",
    "             'min_samples_split': [2, 3]}\n",
    "\n",
    "cv_method = RepeatedStratifiedKFold(n_splits=2,n_repeats=1,random_state=9) \n",
    "\n",
    "gs_RF = GridSearchCV(estimator=df_regressor,param_grid=params_RF,\n",
    "                     cv=cv_method,verbose=1)\n",
    "\n",
    "gs_RF.fit(x_train, y_train) \n",
    "gs_RF.best_params_"
   ]
  },
  {
   "cell_type": "code",
   "execution_count": 46,
   "metadata": {},
   "outputs": [
    {
     "name": "stdout",
     "output_type": "stream",
     "text": [
      "MLP Grid Search Trained with training time:  0.21 min\n"
     ]
    }
   ],
   "source": [
    "int_time = round((time.time() - start)/60, 2)\n",
    "mlp = MLPRegressor(max_iter=1000)\n",
    "parameter_space = {\n",
    "    'hidden_layer_sizes': [(5,10), (50,50,50), (50,100,50), (50,50), (100,50), (100,)],\n",
    "    'activation': ['relu'],\n",
    "    'solver': ['adam'],\n",
    "    'alpha': [0.001],\n",
    "    'learning_rate': ['adaptive'],\n",
    "    'random_state' : [9]\n",
    "}\n",
    "\n",
    "mlp_gs = GridSearchCV(mlp, parameter_space, n_jobs=-1, cv=3).fit(x_train, y_train)\n",
    "print(\"MLP Grid Search Trained with training time: \", round((time.time() - start)/60 - int_time, 2), \"min\")"
   ]
  },
  {
   "cell_type": "code",
   "execution_count": 47,
   "metadata": {},
   "outputs": [
    {
     "name": "stdout",
     "output_type": "stream",
     "text": [
      "Best parameters found:\n",
      " {'activation': 'relu', 'alpha': 0.001, 'hidden_layer_sizes': (50, 50, 50), 'learning_rate': 'adaptive', 'random_state': 9, 'solver': 'adam'}\n",
      "0.513 (+/-0.018) for {'activation': 'relu', 'alpha': 0.001, 'hidden_layer_sizes': (5, 10), 'learning_rate': 'adaptive', 'random_state': 9, 'solver': 'adam'}\n",
      "0.534 (+/-0.024) for {'activation': 'relu', 'alpha': 0.001, 'hidden_layer_sizes': (50, 50, 50), 'learning_rate': 'adaptive', 'random_state': 9, 'solver': 'adam'}\n",
      "0.524 (+/-0.051) for {'activation': 'relu', 'alpha': 0.001, 'hidden_layer_sizes': (50, 100, 50), 'learning_rate': 'adaptive', 'random_state': 9, 'solver': 'adam'}\n",
      "0.531 (+/-0.026) for {'activation': 'relu', 'alpha': 0.001, 'hidden_layer_sizes': (50, 50), 'learning_rate': 'adaptive', 'random_state': 9, 'solver': 'adam'}\n",
      "0.528 (+/-0.037) for {'activation': 'relu', 'alpha': 0.001, 'hidden_layer_sizes': (100, 50), 'learning_rate': 'adaptive', 'random_state': 9, 'solver': 'adam'}\n",
      "0.516 (+/-0.023) for {'activation': 'relu', 'alpha': 0.001, 'hidden_layer_sizes': (100,), 'learning_rate': 'adaptive', 'random_state': 9, 'solver': 'adam'}\n"
     ]
    }
   ],
   "source": [
    "# Best paramete set\n",
    "print('Best parameters found:\\n', mlp_gs.best_params_)\n",
    "\n",
    "# All results\n",
    "means = mlp_gs.cv_results_['mean_test_score']\n",
    "stds = mlp_gs.cv_results_['std_test_score']\n",
    "for mean, std, params in zip(means, stds, mlp_gs.cv_results_['params']):\n",
    "    print(\"%0.3f (+/-%0.03f) for %r\" % (mean, std * 2, params))"
   ]
  },
  {
   "cell_type": "code",
   "execution_count": 13,
   "metadata": {},
   "outputs": [],
   "source": [
    "predictions_dtr = dtr.predict(x_test)\n",
    "predictions_rf = rf.predict(x_test)\n",
    "predictions_rf2 = rf2.predict(x_test)\n",
    "predictions_xgb = xgb.predict(x_test)\n",
    "predictions_svm = svm.predict(x_test)\n",
    "predictions_knn = knn.predict(x_test)\n",
    "predictions_glm = glm.predict(x_test)\n",
    "predictions_per = per.predict(x_test)\n",
    "predictions_grad_dec = grad_dec.predict(x_test)\n",
    "predictions_mlp1 = mlp1.predict(x_test)\n",
    "predictions_mlp_gs = mlp_gs.predict(x_test)\n",
    "predictions_mlp_gs2 = mlp_gs2.predict(x_test)\n",
    "predictions_ada = ada.predict(x_test)\n",
    "predictions_gb = gb.predict(x_test)\n",
    "predictions_gb2 = gb2.predict(x_test)"
   ]
  },
  {
   "cell_type": "code",
   "execution_count": 15,
   "metadata": {},
   "outputs": [],
   "source": [
    "from sklearn.metrics import mean_squared_error, r2_score, plot_confusion_matrix, mean_absolute_error, roc_auc_score"
   ]
  },
  {
   "cell_type": "code",
   "execution_count": 14,
   "metadata": {},
   "outputs": [
    {
     "data": {
      "text/html": [
       "<div>\n",
       "<style scoped>\n",
       "    .dataframe tbody tr th:only-of-type {\n",
       "        vertical-align: middle;\n",
       "    }\n",
       "\n",
       "    .dataframe tbody tr th {\n",
       "        vertical-align: top;\n",
       "    }\n",
       "\n",
       "    .dataframe thead th {\n",
       "        text-align: right;\n",
       "    }\n",
       "</style>\n",
       "<table border=\"1\" class=\"dataframe\">\n",
       "  <thead>\n",
       "    <tr style=\"text-align: right;\">\n",
       "      <th></th>\n",
       "      <th>Model</th>\n",
       "      <th>MAE</th>\n",
       "      <th>MSE</th>\n",
       "      <th>R^2</th>\n",
       "    </tr>\n",
       "  </thead>\n",
       "  <tbody>\n",
       "    <tr>\n",
       "      <th>0</th>\n",
       "      <td>dtr</td>\n",
       "      <td>2.046707</td>\n",
       "      <td>8.729341</td>\n",
       "      <td>0.241423</td>\n",
       "    </tr>\n",
       "    <tr>\n",
       "      <th>1</th>\n",
       "      <td>rf</td>\n",
       "      <td>1.577669</td>\n",
       "      <td>4.830008</td>\n",
       "      <td>0.580274</td>\n",
       "    </tr>\n",
       "    <tr>\n",
       "      <th>2</th>\n",
       "      <td>rf2</td>\n",
       "      <td>1.531694</td>\n",
       "      <td>4.707191</td>\n",
       "      <td>0.590947</td>\n",
       "    </tr>\n",
       "    <tr>\n",
       "      <th>3</th>\n",
       "      <td>xgb</td>\n",
       "      <td>1.705743</td>\n",
       "      <td>5.472147</td>\n",
       "      <td>0.524472</td>\n",
       "    </tr>\n",
       "    <tr>\n",
       "      <th>4</th>\n",
       "      <td>svm</td>\n",
       "      <td>1.536533</td>\n",
       "      <td>5.139937</td>\n",
       "      <td>0.553341</td>\n",
       "    </tr>\n",
       "    <tr>\n",
       "      <th>5</th>\n",
       "      <td>knn</td>\n",
       "      <td>1.653174</td>\n",
       "      <td>5.550946</td>\n",
       "      <td>0.517625</td>\n",
       "    </tr>\n",
       "    <tr>\n",
       "      <th>6</th>\n",
       "      <td>glm</td>\n",
       "      <td>1.622259</td>\n",
       "      <td>5.005443</td>\n",
       "      <td>0.565029</td>\n",
       "    </tr>\n",
       "    <tr>\n",
       "      <th>7</th>\n",
       "      <td>per</td>\n",
       "      <td>2.087425</td>\n",
       "      <td>9.800000</td>\n",
       "      <td>0.148383</td>\n",
       "    </tr>\n",
       "    <tr>\n",
       "      <th>8</th>\n",
       "      <td>grad_dec</td>\n",
       "      <td>1.624799</td>\n",
       "      <td>5.016036</td>\n",
       "      <td>0.564108</td>\n",
       "    </tr>\n",
       "    <tr>\n",
       "      <th>9</th>\n",
       "      <td>mlp1</td>\n",
       "      <td>1.630996</td>\n",
       "      <td>4.866569</td>\n",
       "      <td>0.577097</td>\n",
       "    </tr>\n",
       "    <tr>\n",
       "      <th>10</th>\n",
       "      <td>mlp_gs</td>\n",
       "      <td>1.504147</td>\n",
       "      <td>4.571933</td>\n",
       "      <td>0.602701</td>\n",
       "    </tr>\n",
       "    <tr>\n",
       "      <th>11</th>\n",
       "      <td>mlp_gs2</td>\n",
       "      <td>1.483711</td>\n",
       "      <td>4.525173</td>\n",
       "      <td>0.606764</td>\n",
       "    </tr>\n",
       "    <tr>\n",
       "      <th>12</th>\n",
       "      <td>ada</td>\n",
       "      <td>2.442932</td>\n",
       "      <td>8.076343</td>\n",
       "      <td>0.298169</td>\n",
       "    </tr>\n",
       "    <tr>\n",
       "      <th>13</th>\n",
       "      <td>gb</td>\n",
       "      <td>1.545764</td>\n",
       "      <td>4.750666</td>\n",
       "      <td>0.587169</td>\n",
       "    </tr>\n",
       "    <tr>\n",
       "      <th>14</th>\n",
       "      <td>gb2</td>\n",
       "      <td>1.524884</td>\n",
       "      <td>4.630791</td>\n",
       "      <td>0.597586</td>\n",
       "    </tr>\n",
       "  </tbody>\n",
       "</table>\n",
       "</div>"
      ],
      "text/plain": [
       "       Model       MAE       MSE       R^2\n",
       "0        dtr  2.046707  8.729341  0.241423\n",
       "1         rf  1.577669  4.830008  0.580274\n",
       "2        rf2  1.531694  4.707191  0.590947\n",
       "3        xgb  1.705743  5.472147  0.524472\n",
       "4        svm  1.536533  5.139937  0.553341\n",
       "5        knn  1.653174  5.550946  0.517625\n",
       "6        glm  1.622259  5.005443  0.565029\n",
       "7        per  2.087425  9.800000  0.148383\n",
       "8   grad_dec  1.624799  5.016036  0.564108\n",
       "9       mlp1  1.630996  4.866569  0.577097\n",
       "10    mlp_gs  1.504147  4.571933  0.602701\n",
       "11   mlp_gs2  1.483711  4.525173  0.606764\n",
       "12       ada  2.442932  8.076343  0.298169\n",
       "13        gb  1.545764  4.750666  0.587169\n",
       "14       gb2  1.524884  4.630791  0.597586"
      ]
     },
     "execution_count": 14,
     "metadata": {},
     "output_type": "execute_result"
    }
   ],
   "source": [
    "metrics = pd.DataFrame()\n",
    "i=0\n",
    "for model in models:\n",
    "    pred_str = 'predictions_' + model\n",
    "#     print('Mean Absolute Error ', model, \" = \", mean_absolute_error(y_test, globals()[pred_str]))\n",
    "    metrics.loc[i, 'Model'] = model\n",
    "    metrics.loc[i, 'MAE'] = mean_absolute_error(y_test, globals()[pred_str])\n",
    "    metrics.loc[i, 'MSE'] = mean_squared_error(y_test, globals()[pred_str])\n",
    "    metrics.loc[i, 'R^2'] = r2_score(y_test, globals()[pred_str])\n",
    "      \n",
    "    i = i+1\n",
    "metrics  "
   ]
  },
  {
   "cell_type": "code",
   "execution_count": 15,
   "metadata": {},
   "outputs": [
    {
     "name": "stdout",
     "output_type": "stream",
     "text": [
      "RF Trained with training time:  1.7087 sec\n",
      "MLP GS Trained with training time:  2.8473 sec\n",
      "Gradient Boost Trained with training time:  0.34 sec\n"
     ]
    },
    {
     "data": {
      "text/html": [
       "<div>\n",
       "<style scoped>\n",
       "    .dataframe tbody tr th:only-of-type {\n",
       "        vertical-align: middle;\n",
       "    }\n",
       "\n",
       "    .dataframe tbody tr th {\n",
       "        vertical-align: top;\n",
       "    }\n",
       "\n",
       "    .dataframe thead th {\n",
       "        text-align: right;\n",
       "    }\n",
       "</style>\n",
       "<table border=\"1\" class=\"dataframe\">\n",
       "  <thead>\n",
       "    <tr style=\"text-align: right;\">\n",
       "      <th></th>\n",
       "      <th>Model</th>\n",
       "      <th>MAE</th>\n",
       "      <th>MSE</th>\n",
       "      <th>R^2</th>\n",
       "    </tr>\n",
       "  </thead>\n",
       "  <tbody>\n",
       "    <tr>\n",
       "      <th>0</th>\n",
       "      <td>rf2</td>\n",
       "      <td>1.531694</td>\n",
       "      <td>4.707191</td>\n",
       "      <td>0.590947</td>\n",
       "    </tr>\n",
       "    <tr>\n",
       "      <th>1</th>\n",
       "      <td>mlp_gs2</td>\n",
       "      <td>1.483711</td>\n",
       "      <td>4.525173</td>\n",
       "      <td>0.606764</td>\n",
       "    </tr>\n",
       "    <tr>\n",
       "      <th>2</th>\n",
       "      <td>gb2</td>\n",
       "      <td>1.532488</td>\n",
       "      <td>4.701904</td>\n",
       "      <td>0.591406</td>\n",
       "    </tr>\n",
       "  </tbody>\n",
       "</table>\n",
       "</div>"
      ],
      "text/plain": [
       "     Model       MAE       MSE       R^2\n",
       "0      rf2  1.531694  4.707191  0.590947\n",
       "1  mlp_gs2  1.483711  4.525173  0.606764\n",
       "2      gb2  1.532488  4.701904  0.591406"
      ]
     },
     "execution_count": 15,
     "metadata": {},
     "output_type": "execute_result"
    }
   ],
   "source": [
    "# Start Timer\n",
    "start = time.time()\n",
    "\n",
    "int_time = round((time.time() - start), 4)\n",
    "rf2 = RandomForestRegressor(n_estimators = 300, max_depth=7, random_state=9, criterion='mse', min_samples_split=2).fit(x_train, y_train)\n",
    "# RandomForestRegressor(n_estimators = 300, random_state = 42)\n",
    "print(\"RF Trained with training time: \", round((time.time() - start) - int_time, 4), \"sec\")\n",
    "\n",
    "int_time = round((time.time() - start), 4)\n",
    "mlp_gs2 = MLPRegressor(random_state=42, max_iter=1000, solver='adam', alpha=0.001, hidden_layer_sizes=(50, 50, 50), learning_rate='adaptive', activation='relu').fit(x_train, y_train)\n",
    "print(\"MLP GS Trained with training time: \", round((time.time() - start) - int_time, 4), \"sec\")\n",
    "\n",
    "int_time = round((time.time() - start), 4)\n",
    "gb2 = GradientBoostingRegressor(max_depth=3, learning_rate=0.15, max_features=8, min_samples_split=2, min_samples_leaf=1).fit(x_train, y_train)\n",
    "print(\"Gradient Boost Trained with training time: \", round((time.time() - start) - int_time, 2), \"sec\")\n",
    "\n",
    "models = ['rf2', 'mlp_gs2', 'gb2']\n",
    "\n",
    "predictions_rf2 = rf2.predict(x_test)\n",
    "predictions_mlp_gs = mlp_gs.predict(x_test)\n",
    "predictions_gb2 = gb2.predict(x_test)\n",
    "\n",
    "metrics = pd.DataFrame()\n",
    "i=0\n",
    "for model in models:\n",
    "    pred_str = 'predictions_' + model\n",
    "#     print('Mean Absolute Error ', model, \" = \", mean_absolute_error(y_test, globals()[pred_str]))\n",
    "    metrics.loc[i, 'Model'] = model\n",
    "    metrics.loc[i, 'MAE'] = mean_absolute_error(y_test, globals()[pred_str])\n",
    "    metrics.loc[i, 'MSE'] = mean_squared_error(y_test, globals()[pred_str])\n",
    "    metrics.loc[i, 'R^2'] = r2_score(y_test, globals()[pred_str])\n",
    "      \n",
    "    i = i+1\n",
    "metrics "
   ]
  },
  {
   "cell_type": "markdown",
   "metadata": {},
   "source": [
    "#### Train performance\n"
   ]
  },
  {
   "cell_type": "code",
   "execution_count": 16,
   "metadata": {},
   "outputs": [
    {
     "data": {
      "text/html": [
       "<div>\n",
       "<style scoped>\n",
       "    .dataframe tbody tr th:only-of-type {\n",
       "        vertical-align: middle;\n",
       "    }\n",
       "\n",
       "    .dataframe tbody tr th {\n",
       "        vertical-align: top;\n",
       "    }\n",
       "\n",
       "    .dataframe thead th {\n",
       "        text-align: right;\n",
       "    }\n",
       "</style>\n",
       "<table border=\"1\" class=\"dataframe\">\n",
       "  <thead>\n",
       "    <tr style=\"text-align: right;\">\n",
       "      <th></th>\n",
       "      <th>Model</th>\n",
       "      <th>MAE</th>\n",
       "      <th>MSE</th>\n",
       "      <th>R^2</th>\n",
       "    </tr>\n",
       "  </thead>\n",
       "  <tbody>\n",
       "    <tr>\n",
       "      <th>0</th>\n",
       "      <td>rf2</td>\n",
       "      <td>1.288429</td>\n",
       "      <td>3.216749</td>\n",
       "      <td>0.681783</td>\n",
       "    </tr>\n",
       "    <tr>\n",
       "      <th>1</th>\n",
       "      <td>mlp_gs2</td>\n",
       "      <td>1.457249</td>\n",
       "      <td>4.498603</td>\n",
       "      <td>0.554976</td>\n",
       "    </tr>\n",
       "    <tr>\n",
       "      <th>2</th>\n",
       "      <td>gb2</td>\n",
       "      <td>1.330236</td>\n",
       "      <td>3.406491</td>\n",
       "      <td>0.663013</td>\n",
       "    </tr>\n",
       "  </tbody>\n",
       "</table>\n",
       "</div>"
      ],
      "text/plain": [
       "     Model       MAE       MSE       R^2\n",
       "0      rf2  1.288429  3.216749  0.681783\n",
       "1  mlp_gs2  1.457249  4.498603  0.554976\n",
       "2      gb2  1.330236  3.406491  0.663013"
      ]
     },
     "execution_count": 16,
     "metadata": {},
     "output_type": "execute_result"
    }
   ],
   "source": [
    "predictions_rf2 = rf2.predict(x_train)\n",
    "predictions_mlp_gs2 = mlp_gs2.predict(x_train)\n",
    "predictions_gb2 = gb2.predict(x_train)\n",
    "\n",
    "metrics = pd.DataFrame()\n",
    "i=0\n",
    "for model in models:\n",
    "    pred_str = 'predictions_' + model\n",
    "#     print('Mean Absolute Error ', model, \" = \", mean_absolute_error(y_test, globals()[pred_str]))\n",
    "    metrics.loc[i, 'Model'] = model\n",
    "    metrics.loc[i, 'MAE'] = mean_absolute_error(y_train, globals()[pred_str])\n",
    "    metrics.loc[i, 'MSE'] = mean_squared_error(y_train, globals()[pred_str])\n",
    "    metrics.loc[i, 'R^2'] = r2_score(y_train, globals()[pred_str])\n",
    "      \n",
    "    i = i+1\n",
    "metrics "
   ]
  },
  {
   "cell_type": "code",
   "execution_count": null,
   "metadata": {},
   "outputs": [],
   "source": [
    "# Get numerical feature importances\n",
    "importances = list(gb2.feature_importances_)\n",
    "# List of tuples with variable and importance\n",
    "feature_importances = [(feature, round(importance, 4)) for feature, importance in zip(feature_list, importances)]\n",
    "# Sort the feature importances by most important first\n",
    "feature_importances = sorted(feature_importances, key = lambda x: x[1], reverse = True)\n",
    "# Print out the feature and importances \n",
    "[print('Variable: {:20} Importance: {}'.format(*pair)) for pair in feature_importances]"
   ]
  },
  {
   "cell_type": "code",
   "execution_count": 68,
   "metadata": {},
   "outputs": [
    {
     "name": "stdout",
     "output_type": "stream",
     "text": [
      "MSE for  0.045  is  4.30003018375057\n",
      "R2 Score for  0.045  is  0.6195652297186165\n",
      "MSE for  0.046  is  4.242512264830395\n",
      "R2 Score for  0.046  is  0.6218227160533436\n",
      "MSE for  0.047  is  4.41980314344554\n",
      "R2 Score for  0.047  is  0.6036322583616917\n",
      "MSE for  0.048  is  4.0390511472561625\n",
      "R2 Score for  0.048  is  0.6374964336484205\n",
      "MSE for  0.049  is  4.097777768758185\n",
      "R2 Score for  0.049  is  0.6311696342902797\n",
      "MSE for  0.05  is  4.028149760100575\n",
      "R2 Score for  0.05  is  0.633902855330712\n",
      "MSE for  0.051  is  4.032734089034383\n",
      "R2 Score for  0.051  is  0.6319845020770122\n",
      "MSE for  0.052  is  4.188679768190225\n",
      "R2 Score for  0.052  is  0.6238060567601564\n",
      "MSE for  0.053  is  4.048937440428926\n",
      "R2 Score for  0.053  is  0.6303738852486938\n",
      "MSE for  0.054  is  3.921599284451641\n",
      "R2 Score for  0.054  is  0.636920022454353\n",
      "MSE for  0.055  is  4.114545386022754\n",
      "R2 Score for  0.055  is  0.6165942382938105\n"
     ]
    }
   ],
   "source": [
    "splits = [0.045, 0.046,0.047,0.048,0.049,0.050,0.051,0.052,0.053,0.054,0.055]\n",
    "\n",
    "for split in splits:\n",
    "    x_train, x_test, y_train, y_test = train_test_split(X, Y, test_size = split, random_state = 42)\n",
    "\n",
    "#     values = {'Gender': x_train['Gender'].mode()[0],\n",
    "#               'Length': x_train['Length'].mean()}\n",
    "\n",
    "#     x_train = x_train.fillna(value=values)\n",
    "#     x_test = x_test.fillna(value=values)\n",
    "\n",
    "#     columns = ['Gender', 'In Cluster']\n",
    "#     x_train = one_hot(x_train, columns)\n",
    "#     x_test = one_hot(x_test, columns)\n",
    "    \n",
    "    int_time = round((time.time() - start), 4)\n",
    "    mlp_gs2 = MLPRegressor(random_state=42, max_iter=1000, solver='adam', alpha=0.001, hidden_layer_sizes=(50, 50, 50), learning_rate='adaptive', activation='relu').fit(x_train, y_train)\n",
    "#     print(\"MLP GS Trained with training time: \", round((time.time() - start) - int_time, 4), \"sec\")\n",
    "    predictions_mlp_gs = mlp_gs2.predict(x_test)\n",
    "    print('MSE for ', split, ' is ', mean_squared_error(y_test, predictions_mlp_gs))\n",
    "    print('R2 Score for ', split, ' is ', r2_score(y_test, predictions_mlp_gs))"
   ]
  },
  {
   "cell_type": "markdown",
   "metadata": {},
   "source": [
    "#### Test-train split"
   ]
  },
  {
   "cell_type": "code",
   "execution_count": 14,
   "metadata": {},
   "outputs": [],
   "source": [
    "from sklearn.model_selection import train_test_split\n",
    "split = 0.05\n",
    "\n",
    "x_train, x_test, y_train, y_test = train_test_split(X, Y, test_size = split, random_state = 42)"
   ]
  },
  {
   "cell_type": "markdown",
   "metadata": {},
   "source": [
    "#### Normalise all features"
   ]
  },
  {
   "cell_type": "code",
   "execution_count": 71,
   "metadata": {},
   "outputs": [],
   "source": [
    "# from sklearn import preprocessing\n",
    "\n",
    "# min_max_scaler = preprocessing.MinMaxScaler()\n",
    "# x_train = min_max_scaler.fit_transform(x_train)\n",
    "# x_test = min_max_scaler.fit_transform(x_test)"
   ]
  },
  {
   "cell_type": "markdown",
   "metadata": {},
   "source": [
    "#### Check for Multi-collinearity"
   ]
  },
  {
   "cell_type": "code",
   "execution_count": 74,
   "metadata": {},
   "outputs": [],
   "source": [
    "calc_vif(x_train)"
   ]
  },
  {
   "cell_type": "code",
   "execution_count": 46,
   "metadata": {},
   "outputs": [
    {
     "name": "stdout",
     "output_type": "stream",
     "text": [
      "MLP Grid Search Trained with training time:  0.21 min\n"
     ]
    }
   ],
   "source": [
    "int_time = round((time.time() - start)/60, 2)\n",
    "mlp = MLPRegressor(max_iter=1000)\n",
    "parameter_space = {\n",
    "    'hidden_layer_sizes': [(5,10), (50,50,50), (50,100,50), (50,50), (100,50), (100,)],\n",
    "    'activation': ['relu'],\n",
    "    'solver': ['adam'],\n",
    "    'alpha': [0.001],\n",
    "    'learning_rate': ['adaptive'],\n",
    "    'random_state' : [9]\n",
    "}\n",
    "\n",
    "mlp_gs = GridSearchCV(mlp, parameter_space, n_jobs=-1, cv=3).fit(x_train, y_train)\n",
    "print(\"MLP Grid Search Trained with training time: \", round((time.time() - start)/60 - int_time, 2), \"min\")"
   ]
  },
  {
   "cell_type": "code",
   "execution_count": 47,
   "metadata": {},
   "outputs": [
    {
     "name": "stdout",
     "output_type": "stream",
     "text": [
      "Best parameters found:\n",
      " {'activation': 'relu', 'alpha': 0.001, 'hidden_layer_sizes': (50, 50, 50), 'learning_rate': 'adaptive', 'random_state': 9, 'solver': 'adam'}\n",
      "0.513 (+/-0.018) for {'activation': 'relu', 'alpha': 0.001, 'hidden_layer_sizes': (5, 10), 'learning_rate': 'adaptive', 'random_state': 9, 'solver': 'adam'}\n",
      "0.534 (+/-0.024) for {'activation': 'relu', 'alpha': 0.001, 'hidden_layer_sizes': (50, 50, 50), 'learning_rate': 'adaptive', 'random_state': 9, 'solver': 'adam'}\n",
      "0.524 (+/-0.051) for {'activation': 'relu', 'alpha': 0.001, 'hidden_layer_sizes': (50, 100, 50), 'learning_rate': 'adaptive', 'random_state': 9, 'solver': 'adam'}\n",
      "0.531 (+/-0.026) for {'activation': 'relu', 'alpha': 0.001, 'hidden_layer_sizes': (50, 50), 'learning_rate': 'adaptive', 'random_state': 9, 'solver': 'adam'}\n",
      "0.528 (+/-0.037) for {'activation': 'relu', 'alpha': 0.001, 'hidden_layer_sizes': (100, 50), 'learning_rate': 'adaptive', 'random_state': 9, 'solver': 'adam'}\n",
      "0.516 (+/-0.023) for {'activation': 'relu', 'alpha': 0.001, 'hidden_layer_sizes': (100,), 'learning_rate': 'adaptive', 'random_state': 9, 'solver': 'adam'}\n"
     ]
    }
   ],
   "source": [
    "# Best paramete set\n",
    "print('Best parameters found:\\n', mlp_gs.best_params_)\n",
    "\n",
    "# All results\n",
    "means = mlp_gs.cv_results_['mean_test_score']\n",
    "stds = mlp_gs.cv_results_['std_test_score']\n",
    "for mean, std, params in zip(means, stds, mlp_gs.cv_results_['params']):\n",
    "    print(\"%0.3f (+/-%0.03f) for %r\" % (mean, std * 2, params))"
   ]
  },
  {
   "cell_type": "code",
   "execution_count": 80,
   "metadata": {},
   "outputs": [],
   "source": [
    "scores  = []"
   ]
  },
  {
   "cell_type": "code",
   "execution_count": 19,
   "metadata": {},
   "outputs": [
    {
     "name": "stdout",
     "output_type": "stream",
     "text": [
      "1\n",
      "2\n",
      "3\n",
      "4\n",
      "5\n",
      "6\n",
      "7\n",
      "8\n",
      "9\n",
      "10\n"
     ]
    },
    {
     "data": {
      "text/html": [
       "<div>\n",
       "<style scoped>\n",
       "    .dataframe tbody tr th:only-of-type {\n",
       "        vertical-align: middle;\n",
       "    }\n",
       "\n",
       "    .dataframe tbody tr th {\n",
       "        vertical-align: top;\n",
       "    }\n",
       "\n",
       "    .dataframe thead th {\n",
       "        text-align: right;\n",
       "    }\n",
       "</style>\n",
       "<table border=\"1\" class=\"dataframe\">\n",
       "  <thead>\n",
       "    <tr style=\"text-align: right;\">\n",
       "      <th></th>\n",
       "      <th>Hidden Layers</th>\n",
       "      <th>MAE</th>\n",
       "      <th>MSE</th>\n",
       "      <th>R^2</th>\n",
       "    </tr>\n",
       "  </thead>\n",
       "  <tbody>\n",
       "    <tr>\n",
       "      <th>0</th>\n",
       "      <td>1.0</td>\n",
       "      <td>1.560570</td>\n",
       "      <td>4.384465</td>\n",
       "      <td>0.601519</td>\n",
       "    </tr>\n",
       "    <tr>\n",
       "      <th>1</th>\n",
       "      <td>2.0</td>\n",
       "      <td>1.484755</td>\n",
       "      <td>4.021867</td>\n",
       "      <td>0.634474</td>\n",
       "    </tr>\n",
       "    <tr>\n",
       "      <th>2</th>\n",
       "      <td>3.0</td>\n",
       "      <td>1.464114</td>\n",
       "      <td>3.926134</td>\n",
       "      <td>0.643175</td>\n",
       "    </tr>\n",
       "    <tr>\n",
       "      <th>3</th>\n",
       "      <td>4.0</td>\n",
       "      <td>1.427423</td>\n",
       "      <td>3.944797</td>\n",
       "      <td>0.641478</td>\n",
       "    </tr>\n",
       "    <tr>\n",
       "      <th>4</th>\n",
       "      <td>5.0</td>\n",
       "      <td>1.461606</td>\n",
       "      <td>3.890276</td>\n",
       "      <td>0.646433</td>\n",
       "    </tr>\n",
       "    <tr>\n",
       "      <th>5</th>\n",
       "      <td>6.0</td>\n",
       "      <td>1.445527</td>\n",
       "      <td>3.928186</td>\n",
       "      <td>0.642988</td>\n",
       "    </tr>\n",
       "    <tr>\n",
       "      <th>6</th>\n",
       "      <td>7.0</td>\n",
       "      <td>1.449407</td>\n",
       "      <td>3.894129</td>\n",
       "      <td>0.646083</td>\n",
       "    </tr>\n",
       "    <tr>\n",
       "      <th>7</th>\n",
       "      <td>8.0</td>\n",
       "      <td>1.418316</td>\n",
       "      <td>4.085918</td>\n",
       "      <td>0.628653</td>\n",
       "    </tr>\n",
       "    <tr>\n",
       "      <th>8</th>\n",
       "      <td>9.0</td>\n",
       "      <td>1.437865</td>\n",
       "      <td>3.782770</td>\n",
       "      <td>0.656204</td>\n",
       "    </tr>\n",
       "    <tr>\n",
       "      <th>9</th>\n",
       "      <td>10.0</td>\n",
       "      <td>1.519227</td>\n",
       "      <td>4.009553</td>\n",
       "      <td>0.635593</td>\n",
       "    </tr>\n",
       "  </tbody>\n",
       "</table>\n",
       "</div>"
      ],
      "text/plain": [
       "   Hidden Layers       MAE       MSE       R^2\n",
       "0            1.0  1.560570  4.384465  0.601519\n",
       "1            2.0  1.484755  4.021867  0.634474\n",
       "2            3.0  1.464114  3.926134  0.643175\n",
       "3            4.0  1.427423  3.944797  0.641478\n",
       "4            5.0  1.461606  3.890276  0.646433\n",
       "5            6.0  1.445527  3.928186  0.642988\n",
       "6            7.0  1.449407  3.894129  0.646083\n",
       "7            8.0  1.418316  4.085918  0.628653\n",
       "8            9.0  1.437865  3.782770  0.656204\n",
       "9           10.0  1.519227  4.009553  0.635593"
      ]
     },
     "execution_count": 19,
     "metadata": {},
     "output_type": "execute_result"
    }
   ],
   "source": [
    "# Start Timer\n",
    "start = time.time()\n",
    "test_archs = [(50,),(50,50),(50,50,50), (50,50,50,50),(50,50,50,50,50),(50,50,50,50,50,50),(50,50,50,50,50,50,50),(50,50,50,50,50,50,50,50),(50,50,50,50,50,50,50,50,50),(50,50,50,50,50,50,50,50,50,50)]\n",
    "scores  = []\n",
    "i=0\n",
    "\n",
    "\n",
    "hidden_layers = pd.DataFrame()\n",
    "for arch in test_archs:\n",
    "    \n",
    "    int_time = round((time.time() - start), 4)\n",
    "    mlp_gs2 = MLPRegressor(random_state=42, max_iter=1000, solver='adam', alpha=0.001, hidden_layer_sizes=arch, learning_rate='adaptive', activation='relu').fit(x_train, y_train)\n",
    "#     print(\"MLP GS Trained with training time: \", round((time.time() - start) - int_time, 4), \"sec\")\n",
    "\n",
    "    predictions_mlp_gs2 = mlp_gs2.predict(x_test)\n",
    "    hidden_layers.loc[i, 'Hidden Layers'] = i+1\n",
    "    hidden_layers.loc[i, 'MAE'] = mean_absolute_error(y_test, predictions_mlp_gs2)\n",
    "    hidden_layers.loc[i, 'MSE'] = mean_squared_error(y_test, predictions_mlp_gs2)\n",
    "    hidden_layers.loc[i, 'R^2'] = r2_score(y_test, predictions_mlp_gs2)\n",
    "    i = i+1\n",
    "    print(i)\n",
    "hidden_layers"
   ]
  },
  {
   "cell_type": "code",
   "execution_count": 40,
   "metadata": {},
   "outputs": [
    {
     "data": {
      "image/png": "[encoded data removed]",
      "text/plain": [
       "<Figure size 504x360 with 1 Axes>"
      ]
     },
     "metadata": {},
     "output_type": "display_data"
    }
   ],
   "source": [
    "sns.set()\n",
    "\n",
    "plt.figure(figsize=(7, 5))\n",
    "ax = sns.lineplot(x='Hidden Layers', y='MSE', data=hidden_layers, lw=1, legend = False, color='#86bf91')\n",
    "plt.xticks(np.arange(1, 10, 1.0))\n",
    "plt.savefig('hidden layer grid search.png',bbox_inches = 'tight');"
   ]
  },
  {
   "cell_type": "code",
   "execution_count": 41,
   "metadata": {},
   "outputs": [
    {
     "data": {
      "text/html": [
       "<div>\n",
       "<style scoped>\n",
       "    .dataframe tbody tr th:only-of-type {\n",
       "        vertical-align: middle;\n",
       "    }\n",
       "\n",
       "    .dataframe tbody tr th {\n",
       "        vertical-align: top;\n",
       "    }\n",
       "\n",
       "    .dataframe thead th {\n",
       "        text-align: right;\n",
       "    }\n",
       "</style>\n",
       "<table border=\"1\" class=\"dataframe\">\n",
       "  <thead>\n",
       "    <tr style=\"text-align: right;\">\n",
       "      <th></th>\n",
       "      <th>Hidden Units</th>\n",
       "      <th>MAE</th>\n",
       "      <th>MSE</th>\n",
       "      <th>R^2</th>\n",
       "    </tr>\n",
       "  </thead>\n",
       "  <tbody>\n",
       "    <tr>\n",
       "      <th>0</th>\n",
       "      <td>47.0</td>\n",
       "      <td>1.427425</td>\n",
       "      <td>4.290286</td>\n",
       "      <td>0.610079</td>\n",
       "    </tr>\n",
       "    <tr>\n",
       "      <th>1</th>\n",
       "      <td>48.0</td>\n",
       "      <td>1.430738</td>\n",
       "      <td>4.069563</td>\n",
       "      <td>0.630139</td>\n",
       "    </tr>\n",
       "    <tr>\n",
       "      <th>2</th>\n",
       "      <td>49.0</td>\n",
       "      <td>1.430314</td>\n",
       "      <td>4.016498</td>\n",
       "      <td>0.634962</td>\n",
       "    </tr>\n",
       "    <tr>\n",
       "      <th>3</th>\n",
       "      <td>50.0</td>\n",
       "      <td>1.437865</td>\n",
       "      <td>3.782770</td>\n",
       "      <td>0.656204</td>\n",
       "    </tr>\n",
       "    <tr>\n",
       "      <th>4</th>\n",
       "      <td>51.0</td>\n",
       "      <td>1.435020</td>\n",
       "      <td>4.312584</td>\n",
       "      <td>0.608052</td>\n",
       "    </tr>\n",
       "    <tr>\n",
       "      <th>5</th>\n",
       "      <td>52.0</td>\n",
       "      <td>1.430645</td>\n",
       "      <td>4.329188</td>\n",
       "      <td>0.606543</td>\n",
       "    </tr>\n",
       "  </tbody>\n",
       "</table>\n",
       "</div>"
      ],
      "text/plain": [
       "   Hidden Units       MAE       MSE       R^2\n",
       "0          47.0  1.427425  4.290286  0.610079\n",
       "1          48.0  1.430738  4.069563  0.630139\n",
       "2          49.0  1.430314  4.016498  0.634962\n",
       "3          50.0  1.437865  3.782770  0.656204\n",
       "4          51.0  1.435020  4.312584  0.608052\n",
       "5          52.0  1.430645  4.329188  0.606543"
      ]
     },
     "execution_count": 41,
     "metadata": {},
     "output_type": "execute_result"
    }
   ],
   "source": [
    "# Start Timer\n",
    "start = time.time()\n",
    "test_archs = [(47,47,47,47,47,47,47,47,47),\n",
    "              (48,48,48,48,48,48,48,48,48),\n",
    "              (49,49,49,49,49,49,49,49,49),\n",
    "              (50,50,50,50,50,50,50,50,50),\n",
    "              (51,51,51,51,51,51,51,51,51),\n",
    "              (52,52,52,52,52,52,52,52,52)]\n",
    "scores  = []\n",
    "i=0\n",
    "\n",
    "\n",
    "hidden_units = pd.DataFrame()\n",
    "for arch in test_archs:\n",
    "    \n",
    "    int_time = round((time.time() - start), 4)\n",
    "    mlp_gs2 = MLPRegressor(random_state=42, max_iter=1000, solver='adam', alpha=0.001, hidden_layer_sizes=arch, learning_rate='adaptive', activation='relu').fit(x_train, y_train)\n",
    "#     print(\"MLP GS Trained with training time: \", round((time.time() - start) - int_time, 4), \"sec\")\n",
    "\n",
    "    predictions_mlp_gs2 = mlp_gs2.predict(x_test)\n",
    "    hidden_units.loc[i, 'Hidden Units'] = test_archs[i][0]\n",
    "    hidden_units.loc[i, 'MAE'] = mean_absolute_error(y_test, predictions_mlp_gs2)\n",
    "    hidden_units.loc[i, 'MSE'] = mean_squared_error(y_test, predictions_mlp_gs2)\n",
    "    hidden_units.loc[i, 'R^2'] = r2_score(y_test, predictions_mlp_gs2)\n",
    "    i = i+1\n",
    "hidden_units"
   ]
  },
  {
   "cell_type": "code",
   "execution_count": 46,
   "metadata": {},
   "outputs": [
    {
     "data": {
      "image/png": "[encoded data removed]",
      "text/plain": [
       "<Figure size 504x360 with 1 Axes>"
      ]
     },
     "metadata": {},
     "output_type": "display_data"
    }
   ],
   "source": [
    "sns.set()\n",
    "\n",
    "plt.figure(figsize=(7, 5))\n",
    "ax = sns.lineplot(x='Hidden Units', y='MSE', data=hidden_units, lw=1, legend = False, color='#86bf91')\n",
    "plt.xticks(np.arange(47, 53, 1.0))\n",
    "plt.savefig('hidden unit grid search.png',bbox_inches = 'tight');"
   ]
  },
  {
   "cell_type": "code",
   "execution_count": 35,
   "metadata": {},
   "outputs": [
    {
     "name": "stdout",
     "output_type": "stream",
     "text": [
      "MLP Grid Search Trained with training time:  0.31 min\n"
     ]
    }
   ],
   "source": [
    "start = time.time()\n",
    "int_time = round((time.time() - start)/60, 2)\n",
    "mlp = MLPRegressor(max_iter=1000)\n",
    "parameter_space = {\n",
    "    'hidden_layer_sizes': [(50,50,50,50,50,50,50,50,50)],\n",
    "    'activation': ['relu'],\n",
    "    'solver': ['adam'],\n",
    "    'alpha': [0.0001, 0.0005, 0.001, 0.003, 0.005, 0.01],\n",
    "    'learning_rate': ['adaptive'],\n",
    "    'random_state' : [9],\n",
    "}\n",
    "\n",
    "mlp_gs = GridSearchCV(mlp, parameter_space, n_jobs=-1, cv=3).fit(x_train, y_train)\n",
    "print(\"MLP Grid Search Trained with training time: \", round((time.time() - start)/60 - int_time, 2), \"min\")"
   ]
  },
  {
   "cell_type": "code",
   "execution_count": 36,
   "metadata": {},
   "outputs": [
    {
     "name": "stdout",
     "output_type": "stream",
     "text": [
      "Best parameters found:\n",
      " {'activation': 'relu', 'alpha': 0.005, 'hidden_layer_sizes': (50, 50, 50, 50, 50, 50, 50, 50, 50), 'learning_rate': 'adaptive', 'random_state': 9, 'solver': 'adam'}\n",
      "0.548 (+/-0.043) for {'activation': 'relu', 'alpha': 0.0001, 'hidden_layer_sizes': (50, 50, 50, 50, 50, 50, 50, 50, 50), 'learning_rate': 'adaptive', 'random_state': 9, 'solver': 'adam'}\n",
      "0.549 (+/-0.041) for {'activation': 'relu', 'alpha': 0.0005, 'hidden_layer_sizes': (50, 50, 50, 50, 50, 50, 50, 50, 50), 'learning_rate': 'adaptive', 'random_state': 9, 'solver': 'adam'}\n",
      "0.549 (+/-0.045) for {'activation': 'relu', 'alpha': 0.001, 'hidden_layer_sizes': (50, 50, 50, 50, 50, 50, 50, 50, 50), 'learning_rate': 'adaptive', 'random_state': 9, 'solver': 'adam'}\n",
      "0.549 (+/-0.043) for {'activation': 'relu', 'alpha': 0.003, 'hidden_layer_sizes': (50, 50, 50, 50, 50, 50, 50, 50, 50), 'learning_rate': 'adaptive', 'random_state': 9, 'solver': 'adam'}\n",
      "0.553 (+/-0.043) for {'activation': 'relu', 'alpha': 0.005, 'hidden_layer_sizes': (50, 50, 50, 50, 50, 50, 50, 50, 50), 'learning_rate': 'adaptive', 'random_state': 9, 'solver': 'adam'}\n",
      "0.552 (+/-0.046) for {'activation': 'relu', 'alpha': 0.01, 'hidden_layer_sizes': (50, 50, 50, 50, 50, 50, 50, 50, 50), 'learning_rate': 'adaptive', 'random_state': 9, 'solver': 'adam'}\n"
     ]
    }
   ],
   "source": [
    "# Best paramete set\n",
    "print('Best parameters found:\\n', mlp_gs.best_params_)\n",
    "\n",
    "# All results\n",
    "means = mlp_gs.cv_results_['mean_test_score']\n",
    "stds = mlp_gs.cv_results_['std_test_score']\n",
    "for mean, std, params in zip(means, stds, mlp_gs.cv_results_['params']):\n",
    "    print(\"%0.3f (+/-%0.03f) for %r\" % (mean, std * 2, params))"
   ]
  },
  {
   "cell_type": "markdown",
   "metadata": {},
   "source": [
    "## FINAL MODEL ARCHITECTURE"
   ]
  },
  {
   "cell_type": "code",
   "execution_count": 72,
   "metadata": {},
   "outputs": [
    {
     "name": "stdout",
     "output_type": "stream",
     "text": [
      "1.4335236958321929\n",
      "3.7515713980833185\n",
      "0.659039594191508\n"
     ]
    }
   ],
   "source": [
    "start = time.time()\n",
    "arch = (50,50,50,50,50,50,50,50,50)\n",
    "int_time = round((time.time() - start), 4)\n",
    "mlp_gs3 = MLPRegressor(random_state=42, max_iter=1500, solver='adam', alpha=0.005, hidden_layer_sizes=arch, learning_rate='adaptive', activation='relu').fit(x_train, y_train)\n",
    "#     print(\"MLP GS Trained with training time: \", round((time.time() - start) - int_time, 4), \"sec\")\n",
    "\n",
    "predictions_mlp_gs3 = mlp_gs3.predict(x_test)\n",
    "\n",
    "print(mean_absolute_error(y_test, predictions_mlp_gs3))\n",
    "print(mean_squared_error(y_test, predictions_mlp_gs3))\n",
    "print(r2_score(y_test, predictions_mlp_gs3))"
   ]
  },
  {
   "cell_type": "markdown",
   "metadata": {},
   "source": [
    "#### Training score"
   ]
  },
  {
   "cell_type": "code",
   "execution_count": 79,
   "metadata": {},
   "outputs": [
    {
     "ename": "ValueError",
     "evalue": "Found input variables with inconsistent numbers of samples: [3962, 209]",
     "output_type": "error",
     "traceback": [
      "\u001b[1;31m---------------------------------------------------------------------------\u001b[0m",
      "\u001b[1;31mValueError\u001b[0m                                Traceback (most recent call last)",
      "\u001b[1;32m<ipython-input-79-3b3648c2c785>\u001b[0m in \u001b[0;36m<module>\u001b[1;34m\u001b[0m\n\u001b[0;32m      6\u001b[0m \u001b[0mpredictions_mlp_gs_train\u001b[0m \u001b[1;33m=\u001b[0m \u001b[0mmlp_gs3\u001b[0m\u001b[1;33m.\u001b[0m\u001b[0mpredict\u001b[0m\u001b[1;33m(\u001b[0m\u001b[0mx_train\u001b[0m\u001b[1;33m)\u001b[0m\u001b[1;33m\u001b[0m\u001b[1;33m\u001b[0m\u001b[0m\n\u001b[0;32m      7\u001b[0m \u001b[1;33m\u001b[0m\u001b[0m\n\u001b[1;32m----> 8\u001b[1;33m \u001b[0mprint\u001b[0m\u001b[1;33m(\u001b[0m\u001b[0mmean_absolute_error\u001b[0m\u001b[1;33m(\u001b[0m\u001b[0my_train\u001b[0m\u001b[1;33m,\u001b[0m \u001b[0mpredictions_mlp_gs3\u001b[0m\u001b[1;33m)\u001b[0m\u001b[1;33m)\u001b[0m\u001b[1;33m\u001b[0m\u001b[1;33m\u001b[0m\u001b[0m\n\u001b[0m\u001b[0;32m      9\u001b[0m \u001b[0mprint\u001b[0m\u001b[1;33m(\u001b[0m\u001b[0mmean_squared_error\u001b[0m\u001b[1;33m(\u001b[0m\u001b[0my_train\u001b[0m\u001b[1;33m,\u001b[0m \u001b[0mpredictions_mlp_gs3\u001b[0m\u001b[1;33m)\u001b[0m\u001b[1;33m)\u001b[0m\u001b[1;33m\u001b[0m\u001b[1;33m\u001b[0m\u001b[0m\n\u001b[0;32m     10\u001b[0m \u001b[0mprint\u001b[0m\u001b[1;33m(\u001b[0m\u001b[0mr2_score\u001b[0m\u001b[1;33m(\u001b[0m\u001b[0my_train\u001b[0m\u001b[1;33m,\u001b[0m \u001b[0mpredictions_mlp_gs3\u001b[0m\u001b[1;33m)\u001b[0m\u001b[1;33m)\u001b[0m\u001b[1;33m\u001b[0m\u001b[1;33m\u001b[0m\u001b[0m\n",
      "\u001b[1;32m~\\Anaconda3\\lib\\site-packages\\sklearn\\utils\\validation.py\u001b[0m in \u001b[0;36minner_f\u001b[1;34m(*args, **kwargs)\u001b[0m\n\u001b[0;32m     71\u001b[0m                           FutureWarning)\n\u001b[0;32m     72\u001b[0m         \u001b[0mkwargs\u001b[0m\u001b[1;33m.\u001b[0m\u001b[0mupdate\u001b[0m\u001b[1;33m(\u001b[0m\u001b[1;33m{\u001b[0m\u001b[0mk\u001b[0m\u001b[1;33m:\u001b[0m \u001b[0marg\u001b[0m \u001b[1;32mfor\u001b[0m \u001b[0mk\u001b[0m\u001b[1;33m,\u001b[0m \u001b[0marg\u001b[0m \u001b[1;32min\u001b[0m \u001b[0mzip\u001b[0m\u001b[1;33m(\u001b[0m\u001b[0msig\u001b[0m\u001b[1;33m.\u001b[0m\u001b[0mparameters\u001b[0m\u001b[1;33m,\u001b[0m \u001b[0margs\u001b[0m\u001b[1;33m)\u001b[0m\u001b[1;33m}\u001b[0m\u001b[1;33m)\u001b[0m\u001b[1;33m\u001b[0m\u001b[1;33m\u001b[0m\u001b[0m\n\u001b[1;32m---> 73\u001b[1;33m         \u001b[1;32mreturn\u001b[0m \u001b[0mf\u001b[0m\u001b[1;33m(\u001b[0m\u001b[1;33m**\u001b[0m\u001b[0mkwargs\u001b[0m\u001b[1;33m)\u001b[0m\u001b[1;33m\u001b[0m\u001b[1;33m\u001b[0m\u001b[0m\n\u001b[0m\u001b[0;32m     74\u001b[0m     \u001b[1;32mreturn\u001b[0m \u001b[0minner_f\u001b[0m\u001b[1;33m\u001b[0m\u001b[1;33m\u001b[0m\u001b[0m\n\u001b[0;32m     75\u001b[0m \u001b[1;33m\u001b[0m\u001b[0m\n",
      "\u001b[1;32m~\\Anaconda3\\lib\\site-packages\\sklearn\\metrics\\_regression.py\u001b[0m in \u001b[0;36mmean_absolute_error\u001b[1;34m(y_true, y_pred, sample_weight, multioutput)\u001b[0m\n\u001b[0;32m    177\u001b[0m     \"\"\"\n\u001b[0;32m    178\u001b[0m     y_type, y_true, y_pred, multioutput = _check_reg_targets(\n\u001b[1;32m--> 179\u001b[1;33m         y_true, y_pred, multioutput)\n\u001b[0m\u001b[0;32m    180\u001b[0m     \u001b[0mcheck_consistent_length\u001b[0m\u001b[1;33m(\u001b[0m\u001b[0my_true\u001b[0m\u001b[1;33m,\u001b[0m \u001b[0my_pred\u001b[0m\u001b[1;33m,\u001b[0m \u001b[0msample_weight\u001b[0m\u001b[1;33m)\u001b[0m\u001b[1;33m\u001b[0m\u001b[1;33m\u001b[0m\u001b[0m\n\u001b[0;32m    181\u001b[0m     output_errors = np.average(np.abs(y_pred - y_true),\n",
      "\u001b[1;32m~\\Anaconda3\\lib\\site-packages\\sklearn\\metrics\\_regression.py\u001b[0m in \u001b[0;36m_check_reg_targets\u001b[1;34m(y_true, y_pred, multioutput, dtype)\u001b[0m\n\u001b[0;32m     82\u001b[0m \u001b[1;33m\u001b[0m\u001b[0m\n\u001b[0;32m     83\u001b[0m     \"\"\"\n\u001b[1;32m---> 84\u001b[1;33m     \u001b[0mcheck_consistent_length\u001b[0m\u001b[1;33m(\u001b[0m\u001b[0my_true\u001b[0m\u001b[1;33m,\u001b[0m \u001b[0my_pred\u001b[0m\u001b[1;33m)\u001b[0m\u001b[1;33m\u001b[0m\u001b[1;33m\u001b[0m\u001b[0m\n\u001b[0m\u001b[0;32m     85\u001b[0m     \u001b[0my_true\u001b[0m \u001b[1;33m=\u001b[0m \u001b[0mcheck_array\u001b[0m\u001b[1;33m(\u001b[0m\u001b[0my_true\u001b[0m\u001b[1;33m,\u001b[0m \u001b[0mensure_2d\u001b[0m\u001b[1;33m=\u001b[0m\u001b[1;32mFalse\u001b[0m\u001b[1;33m,\u001b[0m \u001b[0mdtype\u001b[0m\u001b[1;33m=\u001b[0m\u001b[0mdtype\u001b[0m\u001b[1;33m)\u001b[0m\u001b[1;33m\u001b[0m\u001b[1;33m\u001b[0m\u001b[0m\n\u001b[0;32m     86\u001b[0m     \u001b[0my_pred\u001b[0m \u001b[1;33m=\u001b[0m \u001b[0mcheck_array\u001b[0m\u001b[1;33m(\u001b[0m\u001b[0my_pred\u001b[0m\u001b[1;33m,\u001b[0m \u001b[0mensure_2d\u001b[0m\u001b[1;33m=\u001b[0m\u001b[1;32mFalse\u001b[0m\u001b[1;33m,\u001b[0m \u001b[0mdtype\u001b[0m\u001b[1;33m=\u001b[0m\u001b[0mdtype\u001b[0m\u001b[1;33m)\u001b[0m\u001b[1;33m\u001b[0m\u001b[1;33m\u001b[0m\u001b[0m\n",
      "\u001b[1;32m~\\Anaconda3\\lib\\site-packages\\sklearn\\utils\\validation.py\u001b[0m in \u001b[0;36mcheck_consistent_length\u001b[1;34m(*arrays)\u001b[0m\n\u001b[0;32m    255\u001b[0m     \u001b[1;32mif\u001b[0m \u001b[0mlen\u001b[0m\u001b[1;33m(\u001b[0m\u001b[0muniques\u001b[0m\u001b[1;33m)\u001b[0m \u001b[1;33m>\u001b[0m \u001b[1;36m1\u001b[0m\u001b[1;33m:\u001b[0m\u001b[1;33m\u001b[0m\u001b[1;33m\u001b[0m\u001b[0m\n\u001b[0;32m    256\u001b[0m         raise ValueError(\"Found input variables with inconsistent numbers of\"\n\u001b[1;32m--> 257\u001b[1;33m                          \" samples: %r\" % [int(l) for l in lengths])\n\u001b[0m\u001b[0;32m    258\u001b[0m \u001b[1;33m\u001b[0m\u001b[0m\n\u001b[0;32m    259\u001b[0m \u001b[1;33m\u001b[0m\u001b[0m\n",
      "\u001b[1;31mValueError\u001b[0m: Found input variables with inconsistent numbers of samples: [3962, 209]"
     ]
    }
   ],
   "source": [
    "arch = (50,50,50,50,50,50,50,50,50)\n",
    "int_time = round((time.time() - start), 4)\n",
    "mlp_gs3 = MLPRegressor(random_state=42, max_iter=1500, solver='adam', alpha=0.005, hidden_layer_sizes=arch, learning_rate='adaptive', activation='relu').fit(x_train, y_train)\n",
    "#     print(\"MLP GS Trained with training time: \", round((time.time() - start) - int_time, 4), \"sec\")\n",
    "\n",
    "predictions_mlp_gs_train = mlp_gs3.predict(x_train)\n",
    "\n",
    "print(mean_absolute_error(y_train, predictions_mlp_gs3))\n",
    "print(mean_squared_error(y_train, predictions_mlp_gs3))\n",
    "print(r2_score(y_train, predictions_mlp_gs3))"
   ]
  },
  {
   "cell_type": "code",
   "execution_count": 62,
   "metadata": {},
   "outputs": [
    {
     "data": {
      "text/plain": [
       "Index(['Length', 'Diameter', 'Height', 'Shucked weight', 'Viscera Weight',\n",
       "       'Shell Weight', 'Gender_F', 'Gender_I', 'Gender_M', 'In Cluster_0',\n",
       "       'In Cluster_1'],\n",
       "      dtype='object')"
      ]
     },
     "execution_count": 62,
     "metadata": {},
     "output_type": "execute_result"
    }
   ],
   "source": [
    "x_train.columns"
   ]
  },
  {
   "cell_type": "code",
   "execution_count": 63,
   "metadata": {},
   "outputs": [
    {
     "name": "stdout",
     "output_type": "stream",
     "text": [
      "MAE =  1.4546312017032679\n",
      "MSE =  4.29538028485952\n",
      "R2 =  0.6096156917669913\n"
     ]
    }
   ],
   "source": [
    "x_train2 = x_train.drop(['Diameter', 'Viscera Weight'], axis =1)\n",
    "x_test2 = x_test.drop(['Diameter', 'Viscera Weight'], axis =1)\n",
    "\n",
    "arch = (50,50,50,50,50,50,50,50,50)\n",
    "\n",
    "mlp_gs3 = MLPRegressor(random_state=42, max_iter=500, solver='adam', alpha=0.005, hidden_layer_sizes=arch, learning_rate='adaptive', activation='relu').fit(x_train2, y_train)\n",
    "\n",
    "predictions_mlp_gs3 = mlp_gs3.predict(x_test2)\n",
    "    \n",
    "mae = mean_absolute_error(y_test, predictions_mlp_gs3)\n",
    "mse = mean_squared_error(y_test, predictions_mlp_gs3)\n",
    "r2 = r2_score(y_test, predictions_mlp_gs3)\n",
    "\n",
    "print('MAE = ', mae)\n",
    "print('MSE = ', mse)\n",
    "print('R2 = ', r2)"
   ]
  },
  {
   "cell_type": "code",
   "execution_count": null,
   "metadata": {},
   "outputs": [],
   "source": []
  },
  {
   "cell_type": "code",
   "execution_count": 64,
   "metadata": {},
   "outputs": [
    {
     "name": "stdout",
     "output_type": "stream",
     "text": [
      "MAE =  1.6881571108791504\n",
      "MSE =  4.482700702175737\n",
      "R2 =  0.5925911335946521\n"
     ]
    }
   ],
   "source": [
    "from sklearn import preprocessing\n",
    "\n",
    "min_max_scaler = preprocessing.MinMaxScaler()\n",
    "x_train3 = min_max_scaler.fit_transform(x_train)\n",
    "x_test3 = min_max_scaler.fit_transform(x_test)\n",
    "\n",
    "arch = (50,50,50,50,50,50,50,50,50)\n",
    "\n",
    "mlp_gs3 = MLPRegressor(random_state=42, max_iter=500, solver='adam', alpha=0.005, hidden_layer_sizes=arch, learning_rate='adaptive', activation='relu').fit(x_train3, y_train)\n",
    "\n",
    "predictions_mlp_gs3 = mlp_gs3.predict(x_test3)\n",
    "    \n",
    "mae = mean_absolute_error(y_test, predictions_mlp_gs3)\n",
    "mse = mean_squared_error(y_test, predictions_mlp_gs3)\n",
    "r2 = r2_score(y_test, predictions_mlp_gs3)\n",
    "\n",
    "print('MAE = ', mae)\n",
    "print('MSE = ', mse)\n",
    "print('R2 = ', r2)"
   ]
  },
  {
   "cell_type": "markdown",
   "metadata": {},
   "source": [
    "#### SMOTE"
   ]
  },
  {
   "cell_type": "code",
   "execution_count": null,
   "metadata": {},
   "outputs": [],
   "source": [
    "import smote_variants as sv\n",
    "\n",
    "oversampler= sv.MulticlassOversampling(sv.distance_SMOTE())\n",
    "\n",
    "# X_samp and y_samp contain the oversampled dataset\n",
    "x_train_res, y_train_res = oversampler.sample(x_train, y_train)"
   ]
  },
  {
   "cell_type": "code",
   "execution_count": 25,
   "metadata": {},
   "outputs": [],
   "source": [
    "from imblearn.over_sampling import RandomOverSampler\n",
    "\n",
    "ros = RandomOverSampler(random_state=42)\n",
    "x_train_res, y_train_res = ros.fit_resample(x_train, y_train)"
   ]
  },
  {
   "cell_type": "code",
   "execution_count": 51,
   "metadata": {},
   "outputs": [],
   "source": [
    "from imblearn.over_sampling import BorderlineSMOTE\n",
    "sm = BorderlineSMOTE(random_state=42)\n",
    "x_train_res, y_train_res = sm.fit_resample(x_train, y_train)"
   ]
  },
  {
   "cell_type": "code",
   "execution_count": 68,
   "metadata": {},
   "outputs": [
    {
     "ename": "NameError",
     "evalue": "name 'mean_absolute_error' is not defined",
     "output_type": "error",
     "traceback": [
      "\u001b[1;31m---------------------------------------------------------------------------\u001b[0m",
      "\u001b[1;31mNameError\u001b[0m                                 Traceback (most recent call last)",
      "\u001b[1;32m<ipython-input-68-49f985944852>\u001b[0m in \u001b[0;36m<module>\u001b[1;34m\u001b[0m\n\u001b[0;32m      7\u001b[0m \u001b[0mpredictions_mlp_gs3\u001b[0m \u001b[1;33m=\u001b[0m \u001b[0mmlp_gs3\u001b[0m\u001b[1;33m.\u001b[0m\u001b[0mpredict\u001b[0m\u001b[1;33m(\u001b[0m\u001b[0mx_test\u001b[0m\u001b[1;33m)\u001b[0m\u001b[1;33m\u001b[0m\u001b[1;33m\u001b[0m\u001b[0m\n\u001b[0;32m      8\u001b[0m \u001b[1;33m\u001b[0m\u001b[0m\n\u001b[1;32m----> 9\u001b[1;33m \u001b[0mmae\u001b[0m \u001b[1;33m=\u001b[0m \u001b[0mmean_absolute_error\u001b[0m\u001b[1;33m(\u001b[0m\u001b[0my_test\u001b[0m\u001b[1;33m,\u001b[0m \u001b[0mpredictions_mlp_gs3\u001b[0m\u001b[1;33m)\u001b[0m\u001b[1;33m\u001b[0m\u001b[1;33m\u001b[0m\u001b[0m\n\u001b[0m\u001b[0;32m     10\u001b[0m \u001b[0mmse\u001b[0m \u001b[1;33m=\u001b[0m \u001b[0mmean_squared_error\u001b[0m\u001b[1;33m(\u001b[0m\u001b[0my_test\u001b[0m\u001b[1;33m,\u001b[0m \u001b[0mpredictions_mlp_gs3\u001b[0m\u001b[1;33m)\u001b[0m\u001b[1;33m\u001b[0m\u001b[1;33m\u001b[0m\u001b[0m\n\u001b[0;32m     11\u001b[0m \u001b[0mr2\u001b[0m \u001b[1;33m=\u001b[0m \u001b[0mr2_score\u001b[0m\u001b[1;33m(\u001b[0m\u001b[0my_test\u001b[0m\u001b[1;33m,\u001b[0m \u001b[0mpredictions_mlp_gs3\u001b[0m\u001b[1;33m)\u001b[0m\u001b[1;33m\u001b[0m\u001b[1;33m\u001b[0m\u001b[0m\n",
      "\u001b[1;31mNameError\u001b[0m: name 'mean_absolute_error' is not defined"
     ]
    }
   ],
   "source": [
    "from sklearn import preprocessing\n",
    "\n",
    "arch = (50,50,50,50,50,50,50,50,50)\n",
    "\n",
    "mlp_gs3 = MLPRegressor(random_state=42, max_iter=500, solver='adam', alpha=0.005, hidden_layer_sizes=arch, learning_rate='adaptive', activation='relu').fit(x_train_res, y_train_res)\n",
    "\n",
    "predictions_mlp_gs3 = mlp_gs3.predict(x_test)\n",
    "    \n",
    "mae = mean_absolute_error(y_test, predictions_mlp_gs3)\n",
    "mse = mean_squared_error(y_test, predictions_mlp_gs3)\n",
    "r2 = r2_score(y_test, predictions_mlp_gs3)\n",
    "\n",
    "print('MAE = ', mae)\n",
    "print('MSE = ', mse)\n",
    "print('R2 = ', r2)"
   ]
  },
  {
   "cell_type": "code",
   "execution_count": 70,
   "metadata": {},
   "outputs": [
    {
     "name": "stdout",
     "output_type": "stream",
     "text": [
      "MAE =  1.7915168495513394\n",
      "MSE =  6.031779621769927\n",
      "R2 =  0.4518035752600138\n"
     ]
    }
   ],
   "source": [
    "mae = mean_absolute_error(y_test, predictions_mlp_gs3)\n",
    "mse = mean_squared_error(y_test, predictions_mlp_gs3)\n",
    "r2 = r2_score(y_test, predictions_mlp_gs3)\n",
    "\n",
    "print('MAE = ', mae)\n",
    "print('MSE = ', mse)\n",
    "print('R2 = ', r2)"
   ]
  },
  {
   "cell_type": "markdown",
   "metadata": {},
   "source": [
    "#### Test different random states"
   ]
  },
  {
   "cell_type": "code",
   "execution_count": 136,
   "metadata": {},
   "outputs": [
    {
     "name": "stdout",
     "output_type": "stream",
     "text": [
      "range(0, 1)\n",
      "0\n",
      "range(0, 2)\n",
      "1\n",
      "range(0, 3)\n",
      "2\n",
      "range(0, 4)\n",
      "3\n",
      "range(0, 5)\n",
      "4\n",
      "range(0, 6)\n",
      "5\n",
      "range(0, 7)\n",
      "6\n",
      "range(0, 8)\n",
      "7\n",
      "range(0, 9)\n",
      "8\n",
      "range(0, 10)\n",
      "9\n",
      "range(0, 11)\n",
      "10\n",
      "range(0, 12)\n",
      "11\n",
      "range(0, 13)\n",
      "12\n",
      "range(0, 14)\n",
      "13\n",
      "range(0, 15)\n",
      "14\n"
     ]
    }
   ],
   "source": [
    "import random\n",
    "arch = (50,50,50,50,50,50,50,50,50)\n",
    "iterations = 15\n",
    "mae=0\n",
    "mse=0\n",
    "r2 = 0\n",
    "\n",
    "averages = pd.DataFrame()\n",
    "for iteration in range(iterations):\n",
    "    print(range(iteration+1))\n",
    "    mae=0\n",
    "    mse=0\n",
    "    r2 = 0\n",
    "    for i in range(iteration+1):\n",
    "        mlp_gs3 = MLPRegressor(random_state=random.randint(1, 100), max_iter=500, solver='adam', alpha=0.005, hidden_layer_sizes=arch, learning_rate='adaptive', activation='relu').fit(x_train, y_train)\n",
    "\n",
    "        predictions_mlp_gs3 = mlp_gs3.predict(x_test)\n",
    "\n",
    "        mae = mae + mean_absolute_error(y_test, predictions_mlp_gs3)\n",
    "        mse = mse + mean_squared_error(y_test, predictions_mlp_gs3)\n",
    "        r2 = r2 + r2_score(y_test, predictions_mlp_gs3)\n",
    "    print(iteration)\n",
    "\n",
    "    averages.loc[iteration, 'Models Trained'] = iteration\n",
    "    averages.loc[iteration, 'MAE'] = mae/(iteration+1)\n",
    "    averages.loc[iteration, 'MSE'] = mse/(iteration+1)\n",
    "    averages.loc[iteration, 'R^2'] = r2/(iteration+1)"
   ]
  },
  {
   "cell_type": "code",
   "execution_count": 141,
   "metadata": {},
   "outputs": [
    {
     "data": {
      "image/png": "[encoded data removed]",
      "text/plain": [
       "<Figure size 504x360 with 1 Axes>"
      ]
     },
     "metadata": {},
     "output_type": "display_data"
    }
   ],
   "source": [
    "sns.set()\n",
    "\n",
    "plt.figure(figsize=(7, 5))\n",
    "ax = sns.lineplot(x='Models Trained', y='R^2', data=averages, lw=1, legend = False, color='#86bf91')\n",
    "# plt.xticks(np.arange(47, 53, 1.0))\n",
    "plt.savefig('hidden unit grid search.png',bbox_inches = 'tight');"
   ]
  },
  {
   "cell_type": "code",
   "execution_count": 59,
   "metadata": {},
   "outputs": [
    {
     "name": "stdout",
     "output_type": "stream",
     "text": [
      "0\n",
      "1\n",
      "2\n",
      "3\n",
      "4\n",
      "5\n",
      "6\n",
      "7\n",
      "8\n",
      "9\n",
      "10\n",
      "11\n",
      "12\n",
      "13\n",
      "14\n",
      "15\n",
      "16\n",
      "17\n",
      "18\n",
      "19\n",
      "MAE =  1.4648132701639653\n",
      "MSE =  4.097525691349721\n",
      "R2 =  0.6275976452834942\n"
     ]
    }
   ],
   "source": [
    "\n",
    "\n",
    "for iteration in range(iterations):\n",
    "    mlp_gs3 = MLPRegressor(random_state=random.randint(1, 100), max_iter=500, solver='adam', alpha=0.005, hidden_layer_sizes=arch, learning_rate='adaptive', activation='relu').fit(x_train, y_train)\n",
    "\n",
    "    predictions_mlp_gs3 = mlp_gs3.predict(x_test)\n",
    "    \n",
    "    mae = mae + mean_absolute_error(y_test, predictions_mlp_gs3)\n",
    "    mse = mse + mean_squared_error(y_test, predictions_mlp_gs3)\n",
    "    r2 = r2 + r2_score(y_test, predictions_mlp_gs3)\n",
    "    print(iteration)\n",
    "\n",
    "print('MAE = ', mae/(iteration+1))\n",
    "print('MSE = ', mse/(iteration+1))\n",
    "print('R2 = ', r2/(iteration+1))"
   ]
  },
  {
   "cell_type": "code",
   "execution_count": 140,
   "metadata": {},
   "outputs": [
    {
     "data": {
      "text/plain": [
       "array([1.000e-04, 1.112e-01, 2.223e-01, 3.334e-01, 4.445e-01, 5.556e-01,\n",
       "       6.667e-01, 7.778e-01, 8.889e-01, 1.000e+00])"
      ]
     },
     "execution_count": 140,
     "metadata": {},
     "output_type": "execute_result"
    }
   ],
   "source": [
    "np.linspace(0.0001, 1, 10)"
   ]
  },
  {
   "cell_type": "code",
   "execution_count": 100,
   "metadata": {},
   "outputs": [],
   "source": [
    "test_archs = [(50,50,50), (50,50,50,50),(50,50,50,50,50),(50,50,50,50,50,50),(50,50,50,50,50,50,50),(50,50,50,50,50,50,50,50),(50,50,50,50,50,50,50,50,50),(50,50,50,50,50,50,50,50,50,50)]"
   ]
  },
  {
   "cell_type": "code",
   "execution_count": null,
   "metadata": {},
   "outputs": [],
   "source": [
    "plt.figure(figsize=(7, 5))\n",
    "ax = sns.lineplot(x='Hidden Units', y='MSE', data=hidden_units, lw=1, legend = False, color='#86bf91')\n",
    "plt.xticks(np.arange(47, 53, 1.0))\n",
    "plt.savefig('hidden unit grid search.png',bbox_inches = 'tight');"
   ]
  },
  {
   "cell_type": "code",
   "execution_count": 119,
   "metadata": {},
   "outputs": [
    {
     "data": {
      "text/plain": [
       "<Figure size 720x576 with 0 Axes>"
      ]
     },
     "metadata": {},
     "output_type": "display_data"
    },
    {
     "data": {
      "image/png": "[encoded data removed]",
      "text/plain": [
       "<Figure size 360x360 with 1 Axes>"
      ]
     },
     "metadata": {},
     "output_type": "display_data"
    }
   ],
   "source": [
    "sns.set()\n",
    "plt.figure(figsize=(10, 8))\n",
    "ax = sns.lmplot(x='Actual', y='Predicted', data=pred_actual)\n",
    "plt.xticks(np.arange(2, 24, 2))\n",
    "plt.yticks(np.arange(2, 23, 2))\n",
    "plt.savefig('scatter test',bbox_inches = 'tight');"
   ]
  },
  {
   "cell_type": "code",
   "execution_count": 118,
   "metadata": {},
   "outputs": [
    {
     "data": {
      "text/plain": [
       "<Figure size 1440x1152 with 0 Axes>"
      ]
     },
     "metadata": {},
     "output_type": "display_data"
    },
    {
     "data": {
      "image/png": "[encoded data removed]",
      "text/plain": [
       "<Figure size 360x360 with 1 Axes>"
      ]
     },
     "metadata": {},
     "output_type": "display_data"
    }
   ],
   "source": [
    "pred_actual_train = pd.concat([y_train.reset_index().drop('index', axis=1), pd.Series(predictions_mlp_gs_train)], axis=1, ignore_index=True).rename(columns={0:\"Actual\", 1:\"Predicted\"})\n",
    "# sns.set()\n",
    "plt.figure(figsize=(20, 16))\n",
    "ax = sns.lmplot(x='Actual', y='Predicted', data=pred_actual_train)\n",
    "plt.xticks(np.arange(2, 30, 2))\n",
    "plt.yticks(np.arange(2, 32, 2))\n",
    "plt.savefig('scatter train',bbox_inches = 'tight');"
   ]
  },
  {
   "cell_type": "code",
   "execution_count": 75,
   "metadata": {},
   "outputs": [
    {
     "data": {
      "image/png": "[encoded data removed]",
      "text/plain": [
       "<Figure size 720x432 with 1 Axes>"
      ]
     },
     "metadata": {
      "needs_background": "light"
     },
     "output_type": "display_data"
    }
   ],
   "source": [
    "pred_actual = pd.concat([y_test.reset_index().drop('index', axis=1), pd.Series(predictions_mlp_gs3)], axis=1, ignore_index=True).rename(columns={0:\"Actual\", 1:\"Predicted\"})\n",
    "Scatterplot(pred_actual, 'Actual', 'Predicted',\n",
    "            'Actual', 'Predicted',\n",
    "            '#002C4D',\n",
    "            'Predicted vs Actual Rings',\n",
    "            'Actual vs Predicted')"
   ]
  },
  {
   "cell_type": "code",
   "execution_count": null,
   "metadata": {},
   "outputs": [],
   "source": [
    "sns.set()\n",
    "lw = 2\n",
    "y=predictions_mlp_gs\n",
    "X=y_test\n",
    "kernel_label = ['RBF', 'Linear', 'Polynomial']\n",
    "model_color = ['m', 'c', 'g']\n",
    "\n",
    "# fig, axes = plt.subplots(nrows=1, ncols=3, figsize=(15, 10), sharey=True)\n",
    "fig, axes = plt.subplots(nrows=1, ncols=1, figsize=(16, 8), sharey=True)\n",
    "\n",
    "axes.scatter(X,y,facecolor=\"g\", edgecolor=\"g\", s=30,label='Data Points')\n",
    "\n",
    "# axes.legend(loc='best',framealpha = 0.9, facecolor='w',fontsize='medium',\n",
    "#                 ncol=1, fancybox=False, shadow=False)\n",
    "\n",
    "fig.text(0.5, 0.04, 'Rings Actual', ha='center', va='center', fontsize=16)\n",
    "fig.text(0.08, 0.5, 'Rings Predicted', ha='center', va='center', rotation='vertical', fontsize=16)\n",
    "fig.suptitle(\"Actual vs. Predicted Multilayer Perceptron\", fontsize=20)\n",
    "plt.xticks(np.arange(2, 23, step=1))\n",
    "plt.yticks(np.arange(4, 20, step=2))\n",
    "\n",
    "plt.tick_params(labelsize=12)\n",
    "\n",
    "plt.show()\n",
    "\n",
    "# plt.savefig('SVM Q5 Test Set Chris.png',bbox_inches = 'tight');"
   ]
  }
 ],
 "metadata": {
  "kernelspec": {
   "display_name": "Python 3",
   "language": "python",
   "name": "python3"
  },
  "language_info": {
   "codemirror_mode": {
    "name": "ipython",
    "version": 3
   },
   "file_extension": ".py",
   "mimetype": "text/x-python",
   "name": "python",
   "nbconvert_exporter": "python",
   "pygments_lexer": "ipython3",
   "version": "3.7.4"
  }
 },
 "nbformat": 4,
 "nbformat_minor": 4
}

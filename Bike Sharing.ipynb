{
 "cells": [
  {
   "cell_type": "code",
   "execution_count": 1,
   "metadata": {},
   "outputs": [],
   "source": [
    "import numpy as np\n",
    "import pandas as pd\n",
    "from time import time,sleep\n",
    "from random import randint as r\n",
    "import random\n",
    "import matplotlib.pyplot as plt\n",
    "import seaborn as sns\n",
    "import time\n",
    "import math\n",
    "from sklearn.svm import SVR\n",
    "from sklearn.pipeline import make_pipeline\n",
    "from sklearn.preprocessing import StandardScaler"
   ]
  },
  {
   "cell_type": "code",
   "execution_count": 2,
   "metadata": {},
   "outputs": [],
   "source": [
    "day = pd.read_csv('day.csv')\n",
    "hour = pd.read_csv('hour.csv')\n",
    "day = day.drop(['casual', 'registered', 'instant', 'dteday'], axis=1)\n",
    "hour = hour.drop(['casual', 'registered', 'instant', 'dteday'], axis=1)"
   ]
  },
  {
   "cell_type": "code",
   "execution_count": 3,
   "metadata": {},
   "outputs": [],
   "source": [
    "x_day = day.drop(['cnt'], axis=1)\n",
    "y_day = day['cnt']\n",
    "x_hour = hour.drop(['cnt'], axis=1)\n",
    "y_hour = hour['cnt']"
   ]
  },
  {
   "cell_type": "code",
   "execution_count": 4,
   "metadata": {},
   "outputs": [],
   "source": [
    "from sklearn.model_selection import train_test_split\n",
    "\n",
    "x_day_train, x_day_test, y_day_train, y_day_test = train_test_split(x_day,y_day, test_size = 0.2)\n",
    "x_hour_train, x_hour_test, y_hour_train, y_hour_test = train_test_split(x_hour,y_hour, test_size = 0.2)"
   ]
  },
  {
   "cell_type": "code",
   "execution_count": 5,
   "metadata": {},
   "outputs": [
    {
     "name": "stdout",
     "output_type": "stream",
     "text": [
      "Time for day set =  0.02 sec\n",
      "Time for hour set =  59.02 sec\n"
     ]
    }
   ],
   "source": [
    "from sklearn.svm import SVR\n",
    "\n",
    "svr_day = SVR(kernel='rbf', C=100, gamma=0.5, epsilon=1)\n",
    "svr_hour = SVR(kernel='rbf', C=100, gamma=0.5, epsilon=1)\n",
    "\n",
    "start = time.time()\n",
    "svr_day = svr_day.fit(x_day_train, y_day_train)\n",
    "end = time.time()\n",
    "print('Time for day set = ', round(end-start,2), 'sec')\n",
    "\n",
    "start = time.time()\n",
    "svr_hour= svr_hour.fit(x_hour_train, y_hour_train)\n",
    "end = time.time()\n",
    "print('Time for hour set = ', round(end-start,2), 'sec')\n"
   ]
  },
  {
   "cell_type": "code",
   "execution_count": 6,
   "metadata": {},
   "outputs": [],
   "source": [
    "pred_day = svr_day.predict(x_day_test)\n",
    "pred_hour = svr_hour.predict(x_hour_test)"
   ]
  },
  {
   "cell_type": "code",
   "execution_count": 7,
   "metadata": {},
   "outputs": [
    {
     "name": "stdout",
     "output_type": "stream",
     "text": [
      "Baseline Error Day:  1545.0\n",
      "Baseline Error Hour:  141.22\n",
      "Prediction Error Day:  1170.83\n",
      "Prediction Error Hour:  28.08\n"
     ]
    }
   ],
   "source": [
    "baseline_preds_day = np.average(y_day_train)\n",
    "baseline_preds_hour = np.average(y_hour_train)\n",
    "baseline_errors_day = abs(baseline_preds_day - y_day_test)\n",
    "baseline_errors_hour = abs(baseline_preds_hour - y_hour_test)\n",
    "print('Baseline Error Day: ', round(np.mean(baseline_errors_day), 2))\n",
    "print('Baseline Error Hour: ', round(np.mean(baseline_errors_hour), 2))\n",
    "pred_errors_day = abs(pred_day - y_day_test)\n",
    "pred_errors_hour = abs(pred_hour - y_hour_test)\n",
    "print('Prediction Error Day: ', round(np.mean(pred_errors_day), 2))\n",
    "print('Prediction Error Hour: ', round(np.mean(pred_errors_hour), 2))"
   ]
  },
  {
   "cell_type": "code",
   "execution_count": 8,
   "metadata": {},
   "outputs": [
    {
     "name": "stdout",
     "output_type": "stream",
     "text": [
      "RMSE Day:  1466.2148834210425\n",
      "RMSE Hour:  48.4337982283223\n"
     ]
    }
   ],
   "source": [
    "from sklearn.metrics import mean_squared_error\n",
    "RMSE_day = np.sqrt(mean_squared_error(y_day_test, pred_day))\n",
    "RMSE_hour = np.sqrt(mean_squared_error(y_hour_test, pred_hour))\n",
    "print('RMSE Day: ', RMSE_day)\n",
    "print('RMSE Hour: ', RMSE_hour)"
   ]
  }
 ],
 "metadata": {
  "kernelspec": {
   "display_name": "Python 3",
   "language": "python",
   "name": "python3"
  },
  "language_info": {
   "codemirror_mode": {
    "name": "ipython",
    "version": 3
   },
   "file_extension": ".py",
   "mimetype": "text/x-python",
   "name": "python",
   "nbconvert_exporter": "python",
   "pygments_lexer": "ipython3",
   "version": "3.7.4"
  }
 },
 "nbformat": 4,
 "nbformat_minor": 4
}
